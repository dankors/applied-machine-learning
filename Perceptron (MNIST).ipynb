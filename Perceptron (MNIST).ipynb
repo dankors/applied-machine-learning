{
  "nbformat": 4,
  "nbformat_minor": 0,
  "metadata": {
    "colab": {
      "name": "Comp 551 A3",
      "provenance": [],
      "collapsed_sections": []
    },
    "kernelspec": {
      "name": "python3",
      "display_name": "Python 3"
    },
    "language_info": {
      "name": "python"
    }
  },
  "cells": [
    {
      "cell_type": "markdown",
      "metadata": {
        "id": "lkzk3nPMcjyW"
      },
      "source": [
        "# Comp 551 Assignment 3\n",
        "\n",
        "Link to colab version:\n",
        "\n",
        "https://colab.research.google.com/drive/1N632UmwXtmnjbXGcvYFY7xPxUNCFPySo?usp=sharing\n"
      ]
    },
    {
      "cell_type": "code",
      "metadata": {
        "id": "8tqbyfEJMlcu"
      },
      "source": [
        "import numpy as np\n",
        "#%matplotlib notebook\n",
        "%matplotlib inline\n",
        "import matplotlib.pyplot as plt\n",
        "from IPython.core.debugger import set_trace\n",
        "from scipy.optimize import check_grad\n",
        "from keras.datasets.mnist import load_data\n",
        "import warnings\n",
        "warnings.filterwarnings('ignore')"
      ],
      "execution_count": null,
      "outputs": []
    },
    {
      "cell_type": "markdown",
      "metadata": {
        "id": "0v_YhGumbvUr"
      },
      "source": [
        "# Task 2: Create MLP Model\n",
        "\n",
        "Note: Task 1 Code comes after the Task 2 Code"
      ]
    },
    {
      "cell_type": "markdown",
      "metadata": {
        "id": "xx9awVc3b317"
      },
      "source": [
        "## Activation Functions"
      ]
    },
    {
      "cell_type": "code",
      "metadata": {
        "id": "HpxJNGsLU46Q"
      },
      "source": [
        "class ActivationFunction:    \n",
        "    def compute(x):\n",
        "        raise Exception(\"Compute Not Implemented\")\n",
        "    \n",
        "    def gradient(z):\n",
        "        raise Exception(\"Gradient Not Implemented\")\n",
        "\n",
        "class Relu(ActivationFunction):\n",
        "    def compute(x):\n",
        "        return np.maximum(x, 0)\n",
        "    def gradient(z):\n",
        "        return np.array(z > 0, dtype=np.float64)\n",
        "\n",
        "class LeakyRelu(ActivationFunction):\n",
        "    def compute(x):\n",
        "        return np.maximum(x, 0.1 * x)\n",
        "    def gradient(z):\n",
        "        return np.array(z > 0, dtype=np.float64) * 0.9 + 0.1\n",
        "\n",
        "class Linear(ActivationFunction):\n",
        "    def compute(x):\n",
        "        return x\n",
        "    def gradient(z):\n",
        "        return np.ones(z.shape)\n",
        "\n",
        "class Logistic(ActivationFunction):\n",
        "    def compute(x):\n",
        "        return 1./ (1 + np.exp(-x))\n",
        "    def gradient(z):\n",
        "        return z * (1-z)\n",
        "\n",
        "class Softmax(ActivationFunction):\n",
        "    def compute(x):\n",
        "        return Logistic.compute(x) / np.sum(Logistic.compute(x))\n",
        "    def gradient(z):\n",
        "        return 1 # NOT NEEDED\n",
        "\n",
        "class Tanh(ActivationFunction):\n",
        "    def compute(x):\n",
        "        return np.tanh(x)\n",
        "    def gradient(z):\n",
        "        return 1 - (z**2)"
      ],
      "execution_count": null,
      "outputs": []
    },
    {
      "cell_type": "markdown",
      "metadata": {
        "id": "9NsR-4ndb8dE"
      },
      "source": [
        "## Optimizers"
      ]
    },
    {
      "cell_type": "code",
      "metadata": {
        "id": "3F-v7i0vq6Xk"
      },
      "source": [
        "class Optimizer:\n",
        "    def train(self, model, x, y):\n",
        "        raise Exception(\"Train Not Implemented\")"
      ],
      "execution_count": null,
      "outputs": []
    },
    {
      "cell_type": "code",
      "metadata": {
        "id": "zkQnoIqiq74L"
      },
      "source": [
        "class SGD(Optimizer):\n",
        "    def __init__(self, lr=1e-4, max_iters=1e5, eps=1e-8):\n",
        "        self.lr = lr\n",
        "        self.max_iters = max_iters\n",
        "        self.eps = eps\n",
        "    \n",
        "    def train(self, model, x, y, return_loss=False):\n",
        "        norms = np.array([np.inf])\n",
        "        t = 1\n",
        "        N = x.shape[0]\n",
        "        _, _, avg_loss = model.gradient(x[0, np.newaxis, :], \n",
        "                                        y[0, np.newaxis, :])\n",
        "        losses = []\n",
        "        while np.any(norms > self.eps) and t < self.max_iters:\n",
        "            gw, gb, l = model.gradient(x[t % N, np.newaxis, :], y[t % N, np.newaxis, :])\n",
        "            for i in range(model.n_hidden + 1):\n",
        "                model.weights[i] = model.weights[i] - self.lr * gw[i]\n",
        "                model.bias[i] = model.bias[i] - self.lr * gb[i]\n",
        "            t += 1\n",
        "            norms = np.array([np.linalg.norm(g) for g in (gw + gb)])\n",
        "            avg_loss = avg_loss * 0.99 + l * 0.01\n",
        "            if return_loss:\n",
        "                losses.append(avg_loss)\n",
        "\n",
        "            if t % 1000 == 0:\n",
        "                print('Iter:', t, '/', int(self.max_iters), 'Loss: %3.3f' % (avg_loss))\n",
        "        if return_loss:\n",
        "            return losses"
      ],
      "execution_count": null,
      "outputs": []
    },
    {
      "cell_type": "markdown",
      "metadata": {
        "id": "3tj_Dp7IcG6r"
      },
      "source": [
        "### Adam Optimizer\n",
        "\n",
        "#### Adam Hyperparameters (and default values)\n",
        "lr=1e-3       : learning rate\n",
        "\n",
        "beta_1=0.9    : beta 1 (see lecture slides)\n",
        "\n",
        "beta_2=0.999  : beta 2 \n",
        "\n",
        "batch_size=1  : batch size (in theory this should work but it doesn't seem to train well rn) \n",
        "\n",
        "max_iters=1e5 : maximum training iterations\n",
        "\n",
        "eps=1e-8      : epsilon, if all gradients are less than eps, training halts early\n",
        "\n",
        "min_lr=1e-6   : minimum learning rate (since learning rate will be decreased automatically when model fails to converge) \n",
        "\n",
        "l2_lambda=0   : l2 regularization lambda parameter (0 means no regularization, 1e-4 is a good option when regularizing)\n",
        "\n",
        "drop_rate=0   : dropout regularization parameter, percent of nodes to drop in each layer (0 means no regularization)"
      ]
    },
    {
      "cell_type": "code",
      "metadata": {
        "id": "McVbEHy7EV0w"
      },
      "source": [
        "class Adam(Optimizer):\n",
        "    def __init__(self, lr=1e-3, \n",
        "                 beta_1=0.9, \n",
        "                 beta_2=0.999, \n",
        "                 batch_size=1, \n",
        "                 max_iters=1e5, \n",
        "                 eps=1e-8, \n",
        "                 min_lr=1e-6, \n",
        "                 l2_lambda=0, \n",
        "                 drop_rate=0):\n",
        "        self.lr = lr\n",
        "        self.beta_1 = beta_1\n",
        "        self.beta_2 = beta_2\n",
        "        self.max_iters = max_iters\n",
        "        self.eps = eps\n",
        "        self.min_lr = min_lr\n",
        "        self.batch_size = batch_size\n",
        "        self.l2_lambda = l2_lambda\n",
        "        self.drop_rate = drop_rate\n",
        "\n",
        "    def train(self, model, x, y, return_loss=False):\n",
        "        t = 1\n",
        "        Mw = []\n",
        "        Sw = []\n",
        "        for w in model.weights:\n",
        "            Mw.append(np.zeros((w.shape)))\n",
        "            Sw.append(np.zeros((w.shape)))\n",
        "        Mb = []\n",
        "        Sb = []\n",
        "        for b in model.bias:\n",
        "            Mb.append(np.zeros((b.shape)))\n",
        "            Sb.append(np.zeros((b.shape)))\n",
        "\n",
        "        N = x.shape[0]\n",
        "        # Initialize avg_loss with the loss of the first point\n",
        "        gw, gb, avg_loss = model.gradient(x[0, np.newaxis, :], \n",
        "                                        y[0, np.newaxis, :], \n",
        "                                        l2_lambda=self.l2_lambda)\n",
        "\n",
        "        losses = []\n",
        "        best_loss = np.inf\n",
        "        best_weights = model.weights\n",
        "        best_bias = model.bias\n",
        "\n",
        "        past_checkpoint_losses = [np.inf] * 4\n",
        "        batch_start = 0\n",
        "        norms = np.array([np.linalg.norm(g) for g in (gw + gb)])\n",
        "        while np.any(norms > self.eps) and t < self.max_iters:\n",
        "            if batch_start + self.batch_size <= N:\n",
        "                gw, gb, l = model.gradient(x[batch_start:batch_start+self.batch_size, :].reshape(self.batch_size, -1), \n",
        "                                           y[batch_start:batch_start+self.batch_size, :].reshape(self.batch_size, -1),\n",
        "                                           l2_lambda=self.l2_lambda,\n",
        "                                           drop_rate=self.drop_rate)\n",
        "                batch_start = (batch_start + self.batch_size) % N\n",
        "            else:\n",
        "                gw, gb, l = model.gradient(x[batch_start:, :].reshape(N-batch_start, -1), \n",
        "                                           y[batch_start:, :].reshape(N-batch_start, -1),\n",
        "                                           l2_lambda=self.l2_lambda,\n",
        "                                           drop_rate=self.drop_rate)\n",
        "                batch_start = 0\n",
        "\n",
        "            for i in range(model.n_hidden + 1):\n",
        "                Mw[i] = self.beta_1 * Mw[i] + (1-self.beta_1) * gw[i]\n",
        "                Sw[i] = self.beta_2 * Sw[i] + (1-self.beta_2) * gw[i] * gw[i]\n",
        "                model.weights[i] = model.weights[i] - self.lr * (Mw[i] / (1.-(self.beta_1**t))) / (np.sqrt(Sw[i] / (1.-(self.beta_2**t))) + 1e-5)\n",
        "\n",
        "                Mb[i] = self.beta_1 * Mb[i] + (1-self.beta_1) * gb[i]\n",
        "                Sb[i] = self.beta_2 * Sb[i] + (1-self.beta_2) * gb[i] * gb[i]\n",
        "                model.bias[i] = model.bias[i] - self.lr * (Mb[i] / (1.-(self.beta_1**t))) / (np.sqrt(Sb[i] / (1.-(self.beta_2**t))) + 1e-5)\n",
        "            t += 1\n",
        "            norms = np.array([np.linalg.norm(g) for g in (gw + gb)])\n",
        "            avg_loss = avg_loss * 0.9975 + l * 0.0025\n",
        "\n",
        "            if return_loss:\n",
        "                losses.append(avg_loss)\n",
        "\n",
        "            if t > 5000 and t % 50 == 0 and avg_loss < best_loss:\n",
        "                best_loss = avg_loss\n",
        "                best_weights = model.weights\n",
        "                best_bias = model.bias\n",
        "\n",
        "            if t % 1000 == 0:\n",
        "                print('Iter:', t, '/', int(self.max_iters), 'Loss: %3.3f' % (avg_loss))\n",
        "\n",
        "                if (avg_loss / past_checkpoint_losses[(t // 1000) % 4]) >= 1.2 and self.lr > self.min_lr:\n",
        "                    self.lr = max(self.lr / 3, self.min_lr)\n",
        "                    print('Decreasing lr to: %.3e' % self.lr)\n",
        "                    past_checkpoint_losses = [np.inf] * 4\n",
        "                \n",
        "                past_checkpoint_losses[(t // 1000) % 4] = avg_loss\n",
        "        \n",
        "        if not np.any(norms > self.eps):\n",
        "            print('Stopping early due to all 0 gradients')\n",
        "        \n",
        "        cur_acc = np.mean(np.argmax(model.predict(x), axis=1) == np.argmax(y, axis=1))\n",
        "        temp_w = model.weights\n",
        "        temp_b = model.bias\n",
        "        model.weights = best_weights\n",
        "        model.bias = best_bias\n",
        "\n",
        "        best_acc = np.mean(np.argmax(model.predict(x), axis=1) == np.argmax(y, axis=1))\n",
        "\n",
        "        if cur_acc > best_acc:\n",
        "            model.weights = temp_w\n",
        "            model.bias = temp_b\n",
        "        \n",
        "        print('Final Model Train Accuracy:', max(cur_acc, best_acc))\n",
        "        print()\n",
        "\n",
        "        if return_loss:\n",
        "            return np.array(losses)"
      ],
      "execution_count": null,
      "outputs": []
    },
    {
      "cell_type": "markdown",
      "metadata": {
        "id": "A7-Mp69icAnM"
      },
      "source": [
        "## MLP Model"
      ]
    },
    {
      "cell_type": "code",
      "metadata": {
        "id": "nrcuuC-9Rtit"
      },
      "source": [
        "class MLP:\n",
        "    built_in_activation_funcs = {\n",
        "        'relu': Relu,\n",
        "        'linear': Linear,\n",
        "        'logistic': Logistic,\n",
        "        'log': Logistic,\n",
        "        'tanh': Tanh,\n",
        "        'softmax' : Softmax,\n",
        "        'lrelu' : LeakyRelu\n",
        "    }\n",
        "\n",
        "    def __init__(self, x_dim, y_dim, activation_func, hidden_units, optimizer):\n",
        "        use_he_initialization = False\n",
        "        # Verify Activation Function\n",
        "        if type(activation_func) == str:\n",
        "            try:\n",
        "                self.act_func = self.built_in_activation_funcs.get(activation_func)\n",
        "                if activation_func == 'relu':\n",
        "                    use_he_initialization = True\n",
        "            except KeyError:\n",
        "                raise Exception('Activation function must be one of the following strings: ' + \", \".join(self.built_in_activation_funcs.keys()) + ' or a subclass of ActivationFunction')\n",
        "        else:\n",
        "            if not issubclass(activation_func, ActivationFunction):\n",
        "                raise Exception('Activation function must be one of the following strings: ' + \", \".join(self.built_in_activation_funcs.keys()) + ' or a subclass of ActivationFunction')\n",
        "            else:\n",
        "                self.act_func = activation_func\n",
        "\n",
        "        self.n_hidden = len(hidden_units) # Number of hidden layers\n",
        "\n",
        "        if not isinstance(optimizer, Optimizer):\n",
        "            raise Exception('Optimizer must be an instance of an Optimizer Object')\n",
        "        else:\n",
        "            self.opt = optimizer\n",
        "\n",
        "        self.weights = [] # weight matrices\n",
        "        self.bias = []\n",
        "        last_layer_size = x_dim\n",
        "        for w in hidden_units:\n",
        "            if use_he_initialization:\n",
        "                self.weights.append(np.random.randn(last_layer_size, w) * np.sqrt(2.0 / last_layer_size))\n",
        "            else:\n",
        "                xav_val = np.sqrt(6) / np.sqrt(last_layer_size + w)\n",
        "                self.weights.append(np.random.uniform(-xav_val, xav_val, (last_layer_size, w)))\n",
        "            self.bias.append(np.zeros((1, w)))\n",
        "            last_layer_size = w\n",
        "        self.weights.append(np.random.randn(last_layer_size, y_dim) / y_dim + 0.01)\n",
        "        self.bias.append(np.random.randn(1, y_dim) * .1)\n",
        "\n",
        "    def predict(self, x):\n",
        "        N,D = x.shape\n",
        "        u = x\n",
        "        for i in range(self.n_hidden):\n",
        "            u = self.act_func.compute(np.dot(u, self.weights[i]) + self.bias[i])\n",
        "        \n",
        "        yh = Softmax.compute(np.dot(u, self.weights[-1]) + self.bias[-1])\n",
        "        return yh\n",
        "\n",
        "    def gradient(self, x, y, l2_lambda=0, drop_rate=0):\n",
        "        N, D = x.shape\n",
        "        z = [None] * (self.n_hidden + 1)\n",
        "        z[0] = x\n",
        "        for i in range(self.n_hidden):\n",
        "            mask = np.random.uniform(size=self.weights[i].shape[1])\n",
        "            temp = self.act_func.compute(np.dot(z[i], self.weights[i]) + self.bias[i])\n",
        "            temp[:, mask < drop_rate] = 0\n",
        "            z[i+1] = temp\n",
        "        \n",
        "        yh = Softmax.compute(np.dot(z[-1], self.weights[-1]) + self.bias[-1])\n",
        "        loss = np.mean(-np.log(yh)[np.array(y, dtype=np.bool)])\n",
        "        \n",
        "        dw = [None] * (self.n_hidden + 1)\n",
        "        db = [None] * (self.n_hidden + 1)\n",
        "\n",
        "        # bias has shape 1xD for each layer with D features\n",
        "        \n",
        "        err = yh - y # N x C\n",
        "        dw[-1] = np.dot(z[-1].T, err) / N # D x C\n",
        "        db[-1] = np.mean(err, axis=0)# 1 x C\n",
        "\n",
        "        if l2_lambda != 0:\n",
        "            loss += (l2_lambda / 2) * np.sum(self.weights[-1]**2)\n",
        "            dw[-1] += l2_lambda * self.weights[-1]\n",
        "\n",
        "        for i in range(self.n_hidden-1, -1, -1):\n",
        "            err = (np.dot(err, self.weights[i+1].T)) * self.act_func.gradient(z[i+1])\n",
        "            dw[i] = np.dot(z[i].T, err) / N # D x C\n",
        "            db[i] = np.mean(err, axis=0)# 1 x C\n",
        "\n",
        "            if l2_lambda != 0:\n",
        "                loss += (l2_lambda / 2) * np.sum(self.weights[i]**2)\n",
        "                dw[i] += l2_lambda * self.weights[i]\n",
        "\n",
        "        return dw, db, loss\n",
        "\n",
        "    def fit(self, x, y, return_loss=False):\n",
        "        return self.opt.train(self, x, y, return_loss=return_loss)"
      ],
      "execution_count": null,
      "outputs": []
    },
    {
      "cell_type": "markdown",
      "metadata": {
        "id": "U9t5GnyEbpj-"
      },
      "source": [
        "# Task 1: Import and Preprocess Data"
      ]
    },
    {
      "cell_type": "code",
      "metadata": {
        "id": "EUJzR1Rwk_yG"
      },
      "source": [
        "def to_onehot(y):\n",
        "    y_hot = np.zeros((y.size, 10))\n",
        "    y_hot[np.arange(y.size), y] = 1\n",
        "    return y_hot\n",
        "\n",
        "def scale(x):\n",
        "    return (x / 255)\n",
        "\n",
        "def shuffle(x, y):\n",
        "    reorder = np.random.permutation(x.shape[0])\n",
        "    x = x[reorder, :, :]\n",
        "    y = y[reorder]\n",
        "    return x, y"
      ],
      "execution_count": null,
      "outputs": []
    },
    {
      "cell_type": "code",
      "metadata": {
        "id": "LMG_9cAp0ESD"
      },
      "source": [
        "(x_train, y_train), (x_test, y_test) = load_data() # test and train\n",
        "\n",
        "x_train, y_train = shuffle(x_train, y_train) # Randomly shuffle the training dataset\n",
        "\n",
        "x_train_norm, x_test_norm = scale(x_train), scale(x_test)\n",
        "y_train_hot, y_test_hot = to_onehot(y_train), to_onehot(y_test)"
      ],
      "execution_count": null,
      "outputs": []
    },
    {
      "cell_type": "markdown",
      "metadata": {
        "id": "sWdgsdIY9Neu"
      },
      "source": [
        "#Task 3: Run experiments\n",
        "\n",
        "###Experiment 1"
      ]
    },
    {
      "cell_type": "code",
      "metadata": {
        "id": "REclCkcY9M53"
      },
      "source": [
        "# dimensions\n",
        "x_dim = 28*28\n",
        "y_dim = 10"
      ],
      "execution_count": null,
      "outputs": []
    },
    {
      "cell_type": "code",
      "metadata": {
        "colab": {
          "base_uri": "https://localhost:8080/",
          "height": 1000
        },
        "id": "Eok9VYhUpz27",
        "outputId": "064265f5-f2cf-4282-a25f-7275e92bef11"
      },
      "source": [
        "# ***************************************************************************\n",
        "# (1) an MLP with no hidden layers\n",
        "# ***************************************************************************\n",
        "# model\n",
        "optimizer1 = Adam(lr=3e-4, max_iters=5e4) \n",
        "model1 = MLP(x_dim, y_dim, 'linear', [], optimizer1) \n",
        "\n",
        "# train and predict\n",
        "loss_vals1 = model1.fit(x_train_norm.reshape(-1, x_dim), y_train_hot, return_loss=True)\n",
        "y_pred1 = model1.predict(x_test_norm.reshape(-1, x_dim))\n",
        "\n",
        "# test accuracy\n",
        "accuracy1 = np.mean(np.argmax(y_pred1, 1) == y_test)\n",
        "\n",
        "plt.plot(np.arange(0, len(loss_vals1)), loss_vals1)\n",
        "plt.show()"
      ],
      "execution_count": null,
      "outputs": [
        {
          "output_type": "stream",
          "text": [
            "Iter: 1000 / 50000 Loss: 1.811\n",
            "Iter: 2000 / 50000 Loss: 1.405\n",
            "Iter: 3000 / 50000 Loss: 1.146\n",
            "Iter: 4000 / 50000 Loss: 1.040\n",
            "Iter: 5000 / 50000 Loss: 0.972\n",
            "Iter: 6000 / 50000 Loss: 0.893\n",
            "Iter: 7000 / 50000 Loss: 0.895\n",
            "Iter: 8000 / 50000 Loss: 0.832\n",
            "Iter: 9000 / 50000 Loss: 0.780\n",
            "Iter: 10000 / 50000 Loss: 0.717\n",
            "Iter: 11000 / 50000 Loss: 0.775\n",
            "Iter: 12000 / 50000 Loss: 0.758\n",
            "Iter: 13000 / 50000 Loss: 0.707\n",
            "Iter: 14000 / 50000 Loss: 0.654\n",
            "Iter: 15000 / 50000 Loss: 0.732\n",
            "Iter: 16000 / 50000 Loss: 0.704\n",
            "Iter: 17000 / 50000 Loss: 0.635\n",
            "Iter: 18000 / 50000 Loss: 0.630\n",
            "Iter: 19000 / 50000 Loss: 0.718\n",
            "Iter: 20000 / 50000 Loss: 0.659\n",
            "Iter: 21000 / 50000 Loss: 0.727\n",
            "Iter: 22000 / 50000 Loss: 0.634\n",
            "Iter: 23000 / 50000 Loss: 0.729\n",
            "Iter: 24000 / 50000 Loss: 0.675\n",
            "Iter: 25000 / 50000 Loss: 0.736\n",
            "Iter: 26000 / 50000 Loss: 0.638\n",
            "Iter: 27000 / 50000 Loss: 0.729\n",
            "Iter: 28000 / 50000 Loss: 0.792\n",
            "Iter: 29000 / 50000 Loss: 0.784\n",
            "Iter: 30000 / 50000 Loss: 0.780\n",
            "Decreasing lr to: 1.000e-04\n",
            "Iter: 31000 / 50000 Loss: 0.678\n",
            "Iter: 32000 / 50000 Loss: 0.773\n",
            "Iter: 33000 / 50000 Loss: 0.761\n",
            "Iter: 34000 / 50000 Loss: 0.688\n",
            "Iter: 35000 / 50000 Loss: 0.760\n",
            "Iter: 36000 / 50000 Loss: 0.735\n",
            "Iter: 37000 / 50000 Loss: 0.710\n",
            "Iter: 38000 / 50000 Loss: 0.576\n",
            "Iter: 39000 / 50000 Loss: 0.647\n",
            "Iter: 40000 / 50000 Loss: 0.666\n",
            "Iter: 41000 / 50000 Loss: 0.762\n",
            "Iter: 42000 / 50000 Loss: 0.731\n",
            "Decreasing lr to: 3.333e-05\n",
            "Iter: 43000 / 50000 Loss: 0.659\n",
            "Iter: 44000 / 50000 Loss: 0.717\n",
            "Iter: 45000 / 50000 Loss: 0.722\n",
            "Iter: 46000 / 50000 Loss: 0.699\n",
            "Iter: 47000 / 50000 Loss: 0.699\n",
            "Iter: 48000 / 50000 Loss: 0.709\n",
            "Iter: 49000 / 50000 Loss: 0.746\n",
            "Iter: 50000 / 50000 Loss: 0.618\n",
            "Final Model Train Accuracy: 0.8641166666666666\n",
            "\n"
          ],
          "name": "stdout"
        },
        {
          "output_type": "display_data",
          "data": {
            "image/png": "[encoded data removed]",
            "text/plain": [
              "<Figure size 432x288 with 1 Axes>"
            ]
          },
          "metadata": {
            "tags": [],
            "needs_background": "light"
          }
        }
      ]
    },
    {
      "cell_type": "code",
      "metadata": {
        "colab": {
          "base_uri": "https://localhost:8080/",
          "height": 1000
        },
        "id": "4s3GOzDDp4Tq",
        "outputId": "0dadc730-d843-4133-db8e-880bda1771f6"
      },
      "source": [
        "# ***************************************************************************\n",
        "# (2) an MLP with a single hidden layer having 128 units and ReLU activations\n",
        "# ***************************************************************************\n",
        "# model\n",
        "optimizer2 = Adam(lr=3e-5, max_iters=5e4)\n",
        "model2 = MLP(x_dim, y_dim, 'relu', [128], optimizer2)\n",
        "\n",
        "# train and predict\n",
        "loss_vals2 = model2.fit(x_train_norm.reshape(-1, x_dim), y_train_hot, return_loss=True)\n",
        "y_pred2 = model2.predict(x_test_norm.reshape(-1, x_dim))\n",
        "\n",
        "# test accuracy\n",
        "accuracy2 = np.mean(np.argmax(y_pred2, 1) == y_test)\n",
        "\n",
        "plt.plot(np.arange(0, len(loss_vals2)), loss_vals2)\n",
        "plt.show()"
      ],
      "execution_count": null,
      "outputs": [
        {
          "output_type": "stream",
          "text": [
            "Iter: 1000 / 50000 Loss: 2.179\n",
            "Iter: 2000 / 50000 Loss: 1.986\n",
            "Iter: 3000 / 50000 Loss: 1.846\n",
            "Iter: 4000 / 50000 Loss: 1.737\n",
            "Iter: 5000 / 50000 Loss: 1.656\n",
            "Iter: 6000 / 50000 Loss: 1.575\n",
            "Iter: 7000 / 50000 Loss: 1.534\n",
            "Iter: 8000 / 50000 Loss: 1.451\n",
            "Iter: 9000 / 50000 Loss: 1.398\n",
            "Iter: 10000 / 50000 Loss: 1.343\n",
            "Iter: 11000 / 50000 Loss: 1.313\n",
            "Iter: 12000 / 50000 Loss: 1.281\n",
            "Iter: 13000 / 50000 Loss: 1.239\n",
            "Iter: 14000 / 50000 Loss: 1.180\n",
            "Iter: 15000 / 50000 Loss: 1.209\n",
            "Iter: 16000 / 50000 Loss: 1.151\n",
            "Iter: 17000 / 50000 Loss: 1.111\n",
            "Iter: 18000 / 50000 Loss: 1.076\n",
            "Iter: 19000 / 50000 Loss: 1.108\n",
            "Iter: 20000 / 50000 Loss: 1.052\n",
            "Iter: 21000 / 50000 Loss: 1.083\n",
            "Iter: 22000 / 50000 Loss: 0.976\n",
            "Iter: 23000 / 50000 Loss: 1.028\n",
            "Iter: 24000 / 50000 Loss: 0.991\n",
            "Iter: 25000 / 50000 Loss: 1.058\n",
            "Iter: 26000 / 50000 Loss: 0.958\n",
            "Iter: 27000 / 50000 Loss: 1.032\n",
            "Iter: 28000 / 50000 Loss: 1.048\n",
            "Iter: 29000 / 50000 Loss: 1.043\n",
            "Iter: 30000 / 50000 Loss: 1.017\n",
            "Iter: 31000 / 50000 Loss: 0.935\n",
            "Iter: 32000 / 50000 Loss: 0.969\n",
            "Iter: 33000 / 50000 Loss: 0.987\n",
            "Iter: 34000 / 50000 Loss: 0.925\n",
            "Iter: 35000 / 50000 Loss: 0.988\n",
            "Iter: 36000 / 50000 Loss: 0.932\n",
            "Iter: 37000 / 50000 Loss: 0.911\n",
            "Iter: 38000 / 50000 Loss: 0.790\n",
            "Iter: 39000 / 50000 Loss: 0.885\n",
            "Iter: 40000 / 50000 Loss: 0.909\n",
            "Iter: 41000 / 50000 Loss: 0.977\n",
            "Iter: 42000 / 50000 Loss: 0.959\n",
            "Decreasing lr to: 1.000e-05\n",
            "Iter: 43000 / 50000 Loss: 0.869\n",
            "Iter: 44000 / 50000 Loss: 0.937\n",
            "Iter: 45000 / 50000 Loss: 0.930\n",
            "Iter: 46000 / 50000 Loss: 0.908\n",
            "Iter: 47000 / 50000 Loss: 0.901\n",
            "Iter: 48000 / 50000 Loss: 0.946\n",
            "Iter: 49000 / 50000 Loss: 0.908\n",
            "Iter: 50000 / 50000 Loss: 0.858\n",
            "Final Model Train Accuracy: 0.8209\n",
            "\n"
          ],
          "name": "stdout"
        },
        {
          "output_type": "display_data",
          "data": {
            "image/png": "[encoded data removed]",
            "text/plain": [
              "<Figure size 432x288 with 1 Axes>"
            ]
          },
          "metadata": {
            "tags": [],
            "needs_background": "light"
          }
        }
      ]
    },
    {
      "cell_type": "code",
      "metadata": {
        "colab": {
          "base_uri": "https://localhost:8080/",
          "height": 826
        },
        "id": "eeosD2CYp7Aj",
        "outputId": "b1c329d1-21e2-402d-df3a-f16180843730"
      },
      "source": [
        "# ***************************************************************************\n",
        "# (3) an MLP with 2 hidden layers each having 128 units with ReLU activations\n",
        "# ***************************************************************************\n",
        "# model\n",
        "optimizer3 = Adam(lr=3e-5, max_iters=3e4)\n",
        "model3 = MLP(x_dim, y_dim, 'relu', [128, 128], optimizer3)\n",
        "\n",
        "# train and predict\n",
        "loss_vals3 = model3.fit(x_train_norm.reshape(-1, x_dim), y_train_hot, return_loss=True)\n",
        "y_pred3 = model3.predict(x_test_norm.reshape(-1, x_dim))\n",
        "\n",
        "# test accuracy\n",
        "accuracy3 = np.mean(np.argmax(y_pred3, 1) == y_test)\n",
        "\n",
        "plt.plot(np.arange(0, len(loss_vals3)), loss_vals3)\n",
        "plt.show()"
      ],
      "execution_count": null,
      "outputs": [
        {
          "output_type": "stream",
          "text": [
            "Iter: 1000 / 30000 Loss: 2.182\n",
            "Iter: 2000 / 30000 Loss: 2.027\n",
            "Iter: 3000 / 30000 Loss: 1.893\n",
            "Iter: 4000 / 30000 Loss: 1.799\n",
            "Iter: 5000 / 30000 Loss: 1.690\n",
            "Iter: 6000 / 30000 Loss: 1.619\n",
            "Iter: 7000 / 30000 Loss: 1.567\n",
            "Iter: 8000 / 30000 Loss: 1.478\n",
            "Iter: 9000 / 30000 Loss: 1.438\n",
            "Iter: 10000 / 30000 Loss: 1.378\n",
            "Iter: 11000 / 30000 Loss: 1.407\n",
            "Iter: 12000 / 30000 Loss: 1.373\n",
            "Iter: 13000 / 30000 Loss: 1.330\n",
            "Iter: 14000 / 30000 Loss: 1.250\n",
            "Iter: 15000 / 30000 Loss: 1.316\n",
            "Iter: 16000 / 30000 Loss: 1.285\n",
            "Iter: 17000 / 30000 Loss: 1.200\n",
            "Iter: 18000 / 30000 Loss: 1.194\n",
            "Iter: 19000 / 30000 Loss: 1.282\n",
            "Iter: 20000 / 30000 Loss: 1.253\n",
            "Iter: 21000 / 30000 Loss: 1.267\n",
            "Iter: 22000 / 30000 Loss: 1.112\n",
            "Iter: 23000 / 30000 Loss: 1.279\n",
            "Iter: 24000 / 30000 Loss: 1.226\n",
            "Iter: 25000 / 30000 Loss: 1.344\n",
            "Iter: 26000 / 30000 Loss: 1.115\n",
            "Iter: 27000 / 30000 Loss: 1.508\n",
            "Iter: 28000 / 30000 Loss: 1.541\n",
            "Decreasing lr to: 1.000e-05\n",
            "Iter: 29000 / 30000 Loss: 1.502\n",
            "Iter: 30000 / 30000 Loss: 1.458\n",
            "Final Model Train Accuracy: 0.7231833333333333\n",
            "\n"
          ],
          "name": "stdout"
        },
        {
          "output_type": "display_data",
          "data": {
            "image/png": "[encoded data removed]",
            "text/plain": [
              "<Figure size 432x288 with 1 Axes>"
            ]
          },
          "metadata": {
            "tags": [],
            "needs_background": "light"
          }
        }
      ]
    },
    {
      "cell_type": "code",
      "metadata": {
        "colab": {
          "base_uri": "https://localhost:8080/"
        },
        "id": "cBrnm5bqEGW6",
        "outputId": "d468e8db-af7a-4248-9440-47bb0f5b873e"
      },
      "source": [
        "print(f'model 1 accuracy: {accuracy1}')\n",
        "print(f'model 2 accuracy: {accuracy2}')\n",
        "print(f'model 3 accuracy: {accuracy3}')"
      ],
      "execution_count": null,
      "outputs": [
        {
          "output_type": "stream",
          "text": [
            "model 1 accuracy: 0.8726\n",
            "model 2 accuracy: 0.8319\n",
            "model 3 accuracy: 0.725\n"
          ],
          "name": "stdout"
        }
      ]
    },
    {
      "cell_type": "markdown",
      "metadata": {
        "id": "mgAgTnF19Ypz"
      },
      "source": [
        "### Experiment 2"
      ]
    },
    {
      "cell_type": "code",
      "metadata": {
        "colab": {
          "base_uri": "https://localhost:8080/",
          "height": 843
        },
        "id": "m2RSL0De4Iix",
        "outputId": "e77ecf57-7935-4679-f896-17d59f9e018c"
      },
      "source": [
        "# ***************************************************************************\n",
        "# 1) 3rd model copy with sigmoid activation function\n",
        "# ***************************************************************************\n",
        "# model\n",
        "optimizer4 = Adam(lr=1e-3, max_iters=3e4) \n",
        "model4 = MLP(x_dim, y_dim, 'logistic', [128, 128], optimizer4)\n",
        "\n",
        "# train and predict\n",
        "loss_vals4 = model4.fit(x_train_norm.reshape(-1, x_dim), y_train_hot, return_loss=True)\n",
        "y_pred4 = model4.predict(x_test_norm.reshape(-1, x_dim))\n",
        "\n",
        "# test accuracy\n",
        "accuracy4 = np.mean(np.argmax(y_pred4, 1) == y_test)\n",
        "\n",
        "plt.plot(np.arange(0, len(loss_vals4)), loss_vals4)\n",
        "plt.show()"
      ],
      "execution_count": null,
      "outputs": [
        {
          "output_type": "stream",
          "text": [
            "Iter: 1000 / 30000 Loss: 1.740\n",
            "Iter: 2000 / 30000 Loss: 1.143\n",
            "Iter: 3000 / 30000 Loss: 0.743\n",
            "Iter: 4000 / 30000 Loss: 0.631\n",
            "Iter: 5000 / 30000 Loss: 0.586\n",
            "Iter: 6000 / 30000 Loss: 0.489\n",
            "Iter: 7000 / 30000 Loss: 0.546\n",
            "Iter: 8000 / 30000 Loss: 0.469\n",
            "Iter: 9000 / 30000 Loss: 0.346\n",
            "Iter: 10000 / 30000 Loss: 0.318\n",
            "Iter: 11000 / 30000 Loss: 0.456\n",
            "Iter: 12000 / 30000 Loss: 0.365\n",
            "Iter: 13000 / 30000 Loss: 0.375\n",
            "Iter: 14000 / 30000 Loss: 0.316\n",
            "Iter: 15000 / 30000 Loss: 0.299\n",
            "Iter: 16000 / 30000 Loss: 0.336\n",
            "Iter: 17000 / 30000 Loss: 0.238\n",
            "Iter: 18000 / 30000 Loss: 0.269\n",
            "Iter: 19000 / 30000 Loss: 0.336\n",
            "Iter: 20000 / 30000 Loss: 0.254\n",
            "Iter: 21000 / 30000 Loss: 0.326\n",
            "Decreasing lr to: 3.333e-04\n",
            "Iter: 22000 / 30000 Loss: 0.216\n",
            "Iter: 23000 / 30000 Loss: 0.245\n",
            "Iter: 24000 / 30000 Loss: 0.260\n",
            "Iter: 25000 / 30000 Loss: 0.261\n",
            "Iter: 26000 / 30000 Loss: 0.198\n",
            "Iter: 27000 / 30000 Loss: 0.252\n",
            "Iter: 28000 / 30000 Loss: 0.320\n",
            "Decreasing lr to: 1.111e-04\n",
            "Iter: 29000 / 30000 Loss: 0.217\n",
            "Iter: 30000 / 30000 Loss: 0.234\n",
            "Final Model Train Accuracy: 0.9522166666666667\n",
            "\n"
          ],
          "name": "stdout"
        },
        {
          "output_type": "display_data",
          "data": {
            "image/png": "[encoded data removed]",
            "text/plain": [
              "<Figure size 432x288 with 1 Axes>"
            ]
          },
          "metadata": {
            "tags": [],
            "needs_background": "light"
          }
        }
      ]
    },
    {
      "cell_type": "code",
      "metadata": {
        "id": "rN2oYCHE9Y9k",
        "colab": {
          "base_uri": "https://localhost:8080/",
          "height": 860
        },
        "outputId": "c23ff0fd-3f12-4cf3-9a25-e7a4bac2e0b2"
      },
      "source": [
        "# ***************************************************************************\n",
        "# 2) 3rd model copy with tanh activation function\n",
        "# ***************************************************************************\n",
        "# model\n",
        "optimizer5 = Adam(lr=1e-3, max_iters=3e4) \n",
        "model5 = MLP(x_dim, y_dim, 'tanh', [128, 128], optimizer5)\n",
        "\n",
        "# train and predict\n",
        "loss_vals5 = model5.fit(x_train_norm.reshape(-1, x_dim), y_train_hot, return_loss=True)\n",
        "y_pred5 = model5.predict(x_test_norm.reshape(-1, x_dim))\n",
        "\n",
        "# test accuracy\n",
        "accuracy5 = np.mean(np.argmax(y_pred5, 1) == y_test)\n",
        "\n",
        "plt.plot(np.arange(0, len(loss_vals5)), loss_vals5)\n",
        "plt.show()"
      ],
      "execution_count": null,
      "outputs": [
        {
          "output_type": "stream",
          "text": [
            "Iter: 1000 / 30000 Loss: 1.475\n",
            "Iter: 2000 / 30000 Loss: 1.173\n",
            "Iter: 3000 / 30000 Loss: 0.937\n",
            "Iter: 4000 / 30000 Loss: 0.902\n",
            "Iter: 5000 / 30000 Loss: 0.877\n",
            "Iter: 6000 / 30000 Loss: 0.802\n",
            "Iter: 7000 / 30000 Loss: 0.769\n",
            "Iter: 8000 / 30000 Loss: 0.687\n",
            "Iter: 9000 / 30000 Loss: 0.567\n",
            "Iter: 10000 / 30000 Loss: 0.487\n",
            "Iter: 11000 / 30000 Loss: 0.804\n",
            "Iter: 12000 / 30000 Loss: 0.552\n",
            "Iter: 13000 / 30000 Loss: 0.529\n",
            "Iter: 14000 / 30000 Loss: 0.616\n",
            "Decreasing lr to: 3.333e-04\n",
            "Iter: 15000 / 30000 Loss: 0.370\n",
            "Iter: 16000 / 30000 Loss: 0.568\n",
            "Iter: 17000 / 30000 Loss: 0.298\n",
            "Iter: 18000 / 30000 Loss: 0.350\n",
            "Iter: 19000 / 30000 Loss: 0.587\n",
            "Decreasing lr to: 1.111e-04\n",
            "Iter: 20000 / 30000 Loss: 0.378\n",
            "Iter: 21000 / 30000 Loss: 0.570\n",
            "Iter: 22000 / 30000 Loss: 0.384\n",
            "Iter: 23000 / 30000 Loss: 0.437\n",
            "Iter: 24000 / 30000 Loss: 0.379\n",
            "Iter: 25000 / 30000 Loss: 0.498\n",
            "Iter: 26000 / 30000 Loss: 0.311\n",
            "Iter: 27000 / 30000 Loss: 0.409\n",
            "Iter: 28000 / 30000 Loss: 0.561\n",
            "Decreasing lr to: 3.704e-05\n",
            "Iter: 29000 / 30000 Loss: 0.419\n",
            "Iter: 30000 / 30000 Loss: 0.451\n",
            "Final Model Train Accuracy: 0.9352666666666667\n",
            "\n"
          ],
          "name": "stdout"
        },
        {
          "output_type": "display_data",
          "data": {
            "image/png": "[encoded data removed]",
            "text/plain": [
              "<Figure size 432x288 with 1 Axes>"
            ]
          },
          "metadata": {
            "tags": [],
            "needs_background": "light"
          }
        }
      ]
    },
    {
      "cell_type": "code",
      "metadata": {
        "colab": {
          "base_uri": "https://localhost:8080/"
        },
        "id": "gVXGfcfbEW3y",
        "outputId": "bcced9a2-9226-4234-f434-ae00bb19f13e"
      },
      "source": [
        "print(f'model 3 (ReLU base) accuracy: {accuracy3}')\n",
        "print(f'model 4 (sigmoid) accuracy: {accuracy4}')\n",
        "print(f'model 5 (tanh) accuracy: {accuracy5}')"
      ],
      "execution_count": null,
      "outputs": [
        {
          "output_type": "stream",
          "text": [
            "model 3 (ReLU base) accuracy: 0.725\n",
            "model 4 (sigmoid) accuracy: 0.9503\n",
            "model 5 (tanh) accuracy: 0.9331\n"
          ],
          "name": "stdout"
        }
      ]
    },
    {
      "cell_type": "markdown",
      "metadata": {
        "id": "ADMhdXlK9ZWy"
      },
      "source": [
        "### Experiment 3"
      ]
    },
    {
      "cell_type": "code",
      "metadata": {
        "id": "gnE8j7KX9ZeZ",
        "colab": {
          "base_uri": "https://localhost:8080/",
          "height": 1000
        },
        "outputId": "f40a4c4f-8af6-4b86-a080-02997252421c"
      },
      "source": [
        "# ***************************************************************************\n",
        "# MLP with 2 hidden layers, 128 units, ReLU activations w/ L2 regularization\n",
        "# ***************************************************************************\n",
        "# model\n",
        "optimizer6 = Adam(lr=1e-4, l2_lambda=1e-4, max_iters=5e4)\n",
        "model6 = MLP(x_dim, y_dim, 'relu', [128, 128], optimizer6)\n",
        "\n",
        "# train and predict\n",
        "loss_vals6 = model6.fit(x_train_norm.reshape(-1, x_dim), y_train_hot, return_loss=True)\n",
        "y_pred6 = model6.predict(x_test_norm.reshape(-1, x_dim))\n",
        "\n",
        "# test accuracy\n",
        "accuracy6 = np.mean(np.argmax(y_pred6, 1) == y_test)\n",
        "\n",
        "plt.plot(np.arange(0, len(loss_vals6)), loss_vals6)\n",
        "plt.show()"
      ],
      "execution_count": null,
      "outputs": [
        {
          "output_type": "stream",
          "text": [
            "Iter: 1000 / 50000 Loss: 1.965\n",
            "Iter: 2000 / 50000 Loss: 1.571\n",
            "Iter: 3000 / 50000 Loss: 1.327\n",
            "Iter: 4000 / 50000 Loss: 1.220\n",
            "Iter: 5000 / 50000 Loss: 1.210\n",
            "Iter: 6000 / 50000 Loss: 1.161\n",
            "Iter: 7000 / 50000 Loss: 1.438\n",
            "Iter: 8000 / 50000 Loss: 1.109\n",
            "Iter: 9000 / 50000 Loss: 1.167\n",
            "Iter: 10000 / 50000 Loss: 1.025\n",
            "Iter: 11000 / 50000 Loss: 1.659\n",
            "Iter: 12000 / 50000 Loss: 1.483\n",
            "Decreasing lr to: 3.333e-05\n",
            "Iter: 13000 / 50000 Loss: 1.420\n",
            "Iter: 14000 / 50000 Loss: 1.175\n",
            "Iter: 15000 / 50000 Loss: 1.465\n",
            "Iter: 16000 / 50000 Loss: 1.306\n",
            "Iter: 17000 / 50000 Loss: 1.242\n",
            "Iter: 18000 / 50000 Loss: 1.384\n",
            "Iter: 19000 / 50000 Loss: 1.527\n",
            "Iter: 20000 / 50000 Loss: 1.501\n",
            "Iter: 21000 / 50000 Loss: 1.797\n",
            "Decreasing lr to: 1.111e-05\n",
            "Iter: 22000 / 50000 Loss: 1.237\n",
            "Iter: 23000 / 50000 Loss: 1.686\n",
            "Iter: 24000 / 50000 Loss: 1.533\n",
            "Iter: 25000 / 50000 Loss: 1.723\n",
            "Iter: 26000 / 50000 Loss: 1.094\n",
            "Iter: 27000 / 50000 Loss: 1.906\n",
            "Iter: 28000 / 50000 Loss: 2.398\n",
            "Decreasing lr to: 3.704e-06\n",
            "Iter: 29000 / 50000 Loss: 1.963\n",
            "Iter: 30000 / 50000 Loss: 2.057\n",
            "Iter: 31000 / 50000 Loss: 1.351\n",
            "Iter: 32000 / 50000 Loss: 1.611\n",
            "Iter: 33000 / 50000 Loss: 1.651\n",
            "Iter: 34000 / 50000 Loss: 1.566\n",
            "Iter: 35000 / 50000 Loss: 1.827\n",
            "Decreasing lr to: 1.235e-06\n",
            "Iter: 36000 / 50000 Loss: 1.643\n",
            "Iter: 37000 / 50000 Loss: 1.608\n",
            "Iter: 38000 / 50000 Loss: 0.934\n",
            "Iter: 39000 / 50000 Loss: 1.440\n",
            "Iter: 40000 / 50000 Loss: 1.537\n",
            "Iter: 41000 / 50000 Loss: 1.813\n",
            "Iter: 42000 / 50000 Loss: 1.663\n",
            "Decreasing lr to: 1.000e-06\n",
            "Iter: 43000 / 50000 Loss: 1.557\n",
            "Iter: 44000 / 50000 Loss: 1.750\n",
            "Iter: 45000 / 50000 Loss: 1.685\n",
            "Iter: 46000 / 50000 Loss: 1.701\n",
            "Iter: 47000 / 50000 Loss: 1.582\n",
            "Iter: 48000 / 50000 Loss: 1.797\n",
            "Iter: 49000 / 50000 Loss: 1.460\n",
            "Iter: 50000 / 50000 Loss: 1.422\n",
            "Final Model Train Accuracy: 0.8161666666666667\n",
            "\n"
          ],
          "name": "stdout"
        },
        {
          "output_type": "display_data",
          "data": {
            "image/png": "[encoded data removed]",
            "text/plain": [
              "<Figure size 432x288 with 1 Axes>"
            ]
          },
          "metadata": {
            "tags": [],
            "needs_background": "light"
          }
        }
      ]
    },
    {
      "cell_type": "code",
      "metadata": {
        "colab": {
          "base_uri": "https://localhost:8080/"
        },
        "id": "0QFnYdEAF_xJ",
        "outputId": "5a68626e-80e1-4633-c959-75e724c074be"
      },
      "source": [
        "print(f'model 3 accuracy: {accuracy3}')\n",
        "print(f'model 6 w/ L2 regularization accuracy: {accuracy6}')"
      ],
      "execution_count": null,
      "outputs": [
        {
          "output_type": "stream",
          "text": [
            "model 3 accuracy: 0.725\n",
            "model 6 w/ L2 regularization accuracy: 0.8198\n"
          ],
          "name": "stdout"
        }
      ]
    },
    {
      "cell_type": "markdown",
      "metadata": {
        "id": "KkIvqZsq9dnA"
      },
      "source": [
        "### Experiment 4\n",
        "\n"
      ]
    },
    {
      "cell_type": "code",
      "metadata": {
        "id": "87ATyUCI9dtS",
        "colab": {
          "base_uri": "https://localhost:8080/",
          "height": 826
        },
        "outputId": "b9394f08-2cf1-46f1-8ca5-2d33a7dafa78"
      },
      "source": [
        "# ***************************************************************************\n",
        "# MLP with 2 hidden layers, 128 units, ReLU activations w/ unnormalized images\n",
        "# ***************************************************************************\n",
        "# model\n",
        "optimizer7 = Adam(lr=3e-6, max_iters=3e4)\n",
        "model7 = MLP(x_dim, y_dim, 'relu', [128, 128], optimizer7)\n",
        "\n",
        "# **** Replace x.reshape()... with unnormalized images ****\n",
        "\n",
        "# train and predict\n",
        "loss_vals7 = model7.fit(x_train.reshape(-1, x_dim), y_train_hot, return_loss=True)\n",
        "y_pred7 = model7.predict(x_test.reshape(-1, x_dim))\n",
        "\n",
        "# test accuracy\n",
        "accuracy7 = np.mean(np.argmax(y_pred7, 1) == y_test)\n",
        "\n",
        "plt.plot(np.arange(0, len(loss_vals7)), loss_vals7)\n",
        "plt.show()"
      ],
      "execution_count": null,
      "outputs": [
        {
          "output_type": "stream",
          "text": [
            "Iter: 1000 / 30000 Loss: 11.910\n",
            "Iter: 2000 / 30000 Loss: 8.840\n",
            "Iter: 3000 / 30000 Loss: 6.609\n",
            "Iter: 4000 / 30000 Loss: 4.853\n",
            "Iter: 5000 / 30000 Loss: 4.077\n",
            "Iter: 6000 / 30000 Loss: 3.739\n",
            "Iter: 7000 / 30000 Loss: 3.950\n",
            "Iter: 8000 / 30000 Loss: 3.263\n",
            "Iter: 9000 / 30000 Loss: 2.882\n",
            "Iter: 10000 / 30000 Loss: 2.864\n",
            "Iter: 11000 / 30000 Loss: 3.073\n",
            "Iter: 12000 / 30000 Loss: 3.101\n",
            "Iter: 13000 / 30000 Loss: 2.567\n",
            "Iter: 14000 / 30000 Loss: 2.572\n",
            "Iter: 15000 / 30000 Loss: 2.580\n",
            "Iter: 16000 / 30000 Loss: 2.420\n",
            "Iter: 17000 / 30000 Loss: 2.342\n",
            "Iter: 18000 / 30000 Loss: 2.416\n",
            "Iter: 19000 / 30000 Loss: 2.906\n",
            "Iter: 20000 / 30000 Loss: 2.357\n",
            "Iter: 21000 / 30000 Loss: 2.211\n",
            "Iter: 22000 / 30000 Loss: 2.130\n",
            "Iter: 23000 / 30000 Loss: 2.555\n",
            "Iter: 24000 / 30000 Loss: 2.313\n",
            "Iter: 25000 / 30000 Loss: 2.433\n",
            "Iter: 26000 / 30000 Loss: 2.553\n",
            "Iter: 27000 / 30000 Loss: 2.743\n",
            "Iter: 28000 / 30000 Loss: 3.031\n",
            "Decreasing lr to: 1.000e-06\n",
            "Iter: 29000 / 30000 Loss: 2.969\n",
            "Iter: 30000 / 30000 Loss: 2.523\n",
            "Final Model Train Accuracy: 0.22043333333333334\n",
            "\n"
          ],
          "name": "stdout"
        },
        {
          "output_type": "display_data",
          "data": {
            "image/png": "[encoded data removed]",
            "text/plain": [
              "<Figure size 432x288 with 1 Axes>"
            ]
          },
          "metadata": {
            "tags": [],
            "needs_background": "light"
          }
        }
      ]
    },
    {
      "cell_type": "code",
      "metadata": {
        "id": "2auow_K5HeqQ",
        "colab": {
          "base_uri": "https://localhost:8080/"
        },
        "outputId": "b10c9c7e-603b-4545-d47c-7b5cba497947"
      },
      "source": [
        "print(f'model 3 accuracy: {accuracy3}')\n",
        "print(f'model 7 w/ unnormalized images accuracy: {accuracy7}')"
      ],
      "execution_count": null,
      "outputs": [
        {
          "output_type": "stream",
          "text": [
            "model 3 accuracy: 0.725\n",
            "model 7 w/ unnormalized images accuracy: 0.2225\n"
          ],
          "name": "stdout"
        }
      ]
    },
    {
      "cell_type": "markdown",
      "metadata": {
        "id": "DPFuuJf89fWW"
      },
      "source": [
        "### Experiment 5 (\"creativity section\")"
      ]
    },
    {
      "cell_type": "code",
      "metadata": {
        "colab": {
          "base_uri": "https://localhost:8080/",
          "height": 826
        },
        "id": "xpnZAn04NA4P",
        "outputId": "6120dbaa-50be-44e8-faa1-897bf4a40d04"
      },
      "source": [
        "# ***************************************************************************\n",
        "# MLP with 3 hidden layers, 256, 128, 128 units, Logistic\n",
        "# ***************************************************************************\n",
        "# model\n",
        "optimizer9 = Adam(lr=1e-3, max_iters=3e4)\n",
        "model9 = MLP(x_dim, y_dim, 'logistic', [256, 128, 128], optimizer9)\n",
        "\n",
        "# train and predict\n",
        "loss_vals9 = model9.fit(x_train_norm.reshape(-1, x_dim), y_train_hot, return_loss=True)\n",
        "y_pred9 = model9.predict(x_test_norm.reshape(-1, x_dim))\n",
        "\n",
        "# test accuracy\n",
        "accuracy9 = np.mean(np.argmax(y_pred9, 1) == y_test)\n",
        "\n",
        "plt.plot(np.arange(0, len(loss_vals9)), loss_vals9)\n",
        "plt.show()"
      ],
      "execution_count": null,
      "outputs": [
        {
          "output_type": "stream",
          "text": [
            "Iter: 1000 / 30000 Loss: 1.737\n",
            "Iter: 2000 / 30000 Loss: 1.209\n",
            "Iter: 3000 / 30000 Loss: 0.848\n",
            "Iter: 4000 / 30000 Loss: 0.714\n",
            "Iter: 5000 / 30000 Loss: 0.644\n",
            "Iter: 6000 / 30000 Loss: 0.510\n",
            "Iter: 7000 / 30000 Loss: 0.577\n",
            "Iter: 8000 / 30000 Loss: 0.461\n",
            "Iter: 9000 / 30000 Loss: 0.386\n",
            "Iter: 10000 / 30000 Loss: 0.387\n",
            "Iter: 11000 / 30000 Loss: 0.497\n",
            "Iter: 12000 / 30000 Loss: 0.382\n",
            "Iter: 13000 / 30000 Loss: 0.377\n",
            "Iter: 14000 / 30000 Loss: 0.295\n",
            "Iter: 15000 / 30000 Loss: 0.314\n",
            "Iter: 16000 / 30000 Loss: 0.349\n",
            "Iter: 17000 / 30000 Loss: 0.304\n",
            "Iter: 18000 / 30000 Loss: 0.274\n",
            "Iter: 19000 / 30000 Loss: 0.340\n",
            "Iter: 20000 / 30000 Loss: 0.273\n",
            "Iter: 21000 / 30000 Loss: 0.329\n",
            "Iter: 22000 / 30000 Loss: 0.225\n",
            "Iter: 23000 / 30000 Loss: 0.324\n",
            "Iter: 24000 / 30000 Loss: 0.256\n",
            "Iter: 25000 / 30000 Loss: 0.260\n",
            "Iter: 26000 / 30000 Loss: 0.191\n",
            "Iter: 27000 / 30000 Loss: 0.254\n",
            "Iter: 28000 / 30000 Loss: 0.343\n",
            "Decreasing lr to: 3.333e-04\n",
            "Iter: 29000 / 30000 Loss: 0.211\n",
            "Iter: 30000 / 30000 Loss: 0.216\n",
            "Final Model Train Accuracy: 0.9531\n",
            "\n"
          ],
          "name": "stdout"
        },
        {
          "output_type": "display_data",
          "data": {
            "image/png": "[encoded data removed]",
            "text/plain": [
              "<Figure size 432x288 with 1 Axes>"
            ]
          },
          "metadata": {
            "tags": [],
            "needs_background": "light"
          }
        }
      ]
    },
    {
      "cell_type": "code",
      "metadata": {
        "colab": {
          "base_uri": "https://localhost:8080/"
        },
        "id": "oc2TzXc7O8u-",
        "outputId": "164be585-a1c9-4130-8c3d-29a0b369bcb9"
      },
      "source": [
        "print(f'model 4 accuracy: {accuracy4}')\n",
        "print(f'model 9 w/ extra layer: {accuracy9}')"
      ],
      "execution_count": null,
      "outputs": [
        {
          "output_type": "stream",
          "text": [
            "model 4 accuracy: 0.9503\n",
            "model 9 w/ extra layer: 0.952\n"
          ],
          "name": "stdout"
        }
      ]
    },
    {
      "cell_type": "code",
      "metadata": {
        "colab": {
          "base_uri": "https://localhost:8080/",
          "height": 333
        },
        "id": "amBhGI4pPP0T",
        "outputId": "c9983fbb-3e53-4851-e62f-a6ce16414e16"
      },
      "source": [
        "# ***************************************************************************\n",
        "# MLP with 2 hidden layers, 128 units, Leaky Relu Activations\n",
        "# ***************************************************************************\n",
        "# model\n",
        "optimizer10 = Adam(lr=1e-3, max_iters=1e5)\n",
        "model10 = MLP(x_dim, y_dim, 'lrelu', [128, 128], optimizer10)\n",
        "\n",
        "# train and predict\n",
        "loss_vals10 = model10.fit(x_train_norm.reshape(-1, x_dim), y_train_hot, return_loss=True)\n",
        "y_pred10 = model10.predict(x_test_norm.reshape(-1, x_dim))\n",
        "\n",
        "# test accuracy\n",
        "accuracy10 = np.mean(np.argmax(y_pred10, 1) == y_test)\n",
        "\n",
        "plt.plot(np.arange(0, len(loss_vals10)), loss_vals10)\n",
        "plt.show()"
      ],
      "execution_count": null,
      "outputs": [
        {
          "output_type": "stream",
          "text": [
            "Iter: 1000 / 100000 Loss: 1.402\n",
            "Stopping early due to all 0 gradients\n",
            "Final Model Train Accuracy: 0.7929333333333334\n",
            "\n"
          ],
          "name": "stdout"
        },
        {
          "output_type": "display_data",
          "data": {
            "image/png": "[encoded data removed]",
            "text/plain": [
              "<Figure size 432x288 with 1 Axes>"
            ]
          },
          "metadata": {
            "tags": [],
            "needs_background": "light"
          }
        }
      ]
    },
    {
      "cell_type": "code",
      "metadata": {
        "colab": {
          "base_uri": "https://localhost:8080/"
        },
        "id": "MSc8svj5P0Rt",
        "outputId": "2d4152ea-01c2-463e-cdcc-bb86c9d1a63f"
      },
      "source": [
        "print(f'model 3 accuracy: {accuracy3}') # Regular Relu 2 layers\n",
        "print(f'model 10 accuracy: {accuracy10}') # Leaky Relu 2 layers"
      ],
      "execution_count": null,
      "outputs": [
        {
          "output_type": "stream",
          "text": [
            "model 3 accuracy: 0.725\n",
            "model 10 accuracy: 0.8011\n"
          ],
          "name": "stdout"
        }
      ]
    }
  ]
}