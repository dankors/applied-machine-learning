{
  "nbformat": 4,
  "nbformat_minor": 0,
  "metadata": {
    "colab": {
      "name": "Group40A4: XGBoostGPU",
      "provenance": [],
      "collapsed_sections": []
    },
    "kernelspec": {
      "name": "python3",
      "display_name": "Python 3"
    },
    "language_info": {
      "name": "python"
    },
    "accelerator": "GPU"
  },
  "cells": [
    {
      "cell_type": "code",
      "metadata": {
        "colab": {
          "base_uri": "https://localhost:8080/"
        },
        "id": "0NRdUyCS6Yz9",
        "outputId": "6aa23cc2-2685-46d7-c4d2-4790fb39265e"
      },
      "source": [
        "!pip install catboost\n",
        "!pip install lightgbm --install-option=--gpu"
      ],
      "execution_count": null,
      "outputs": [
        {
          "output_type": "stream",
          "text": [
            "Collecting catboost\n",
            "\u001b[?25l  Downloading https://files.pythonhosted.org/packages/47/80/8e9c57ec32dfed6ba2922bc5c96462cbf8596ce1a6f5de532ad1e43e53fe/catboost-0.25.1-cp37-none-manylinux1_x86_64.whl (67.3MB)\n",
            "\u001b[K     |████████████████████████████████| 67.3MB 41kB/s \n",
            "\u001b[?25hRequirement already satisfied: numpy>=1.16.0 in /usr/local/lib/python3.7/dist-packages (from catboost) (1.19.5)\n",
            "Requirement already satisfied: plotly in /usr/local/lib/python3.7/dist-packages (from catboost) (4.4.1)\n",
            "Requirement already satisfied: matplotlib in /usr/local/lib/python3.7/dist-packages (from catboost) (3.2.2)\n",
            "Requirement already satisfied: graphviz in /usr/local/lib/python3.7/dist-packages (from catboost) (0.10.1)\n",
            "Requirement already satisfied: pandas>=0.24.0 in /usr/local/lib/python3.7/dist-packages (from catboost) (1.1.5)\n",
            "Requirement already satisfied: scipy in /usr/local/lib/python3.7/dist-packages (from catboost) (1.4.1)\n",
            "Requirement already satisfied: six in /usr/local/lib/python3.7/dist-packages (from catboost) (1.15.0)\n",
            "Requirement already satisfied: retrying>=1.3.3 in /usr/local/lib/python3.7/dist-packages (from plotly->catboost) (1.3.3)\n",
            "Requirement already satisfied: python-dateutil>=2.1 in /usr/local/lib/python3.7/dist-packages (from matplotlib->catboost) (2.8.1)\n",
            "Requirement already satisfied: kiwisolver>=1.0.1 in /usr/local/lib/python3.7/dist-packages (from matplotlib->catboost) (1.3.1)\n",
            "Requirement already satisfied: pyparsing!=2.0.4,!=2.1.2,!=2.1.6,>=2.0.1 in /usr/local/lib/python3.7/dist-packages (from matplotlib->catboost) (2.4.7)\n",
            "Requirement already satisfied: cycler>=0.10 in /usr/local/lib/python3.7/dist-packages (from matplotlib->catboost) (0.10.0)\n",
            "Requirement already satisfied: pytz>=2017.2 in /usr/local/lib/python3.7/dist-packages (from pandas>=0.24.0->catboost) (2018.9)\n",
            "Installing collected packages: catboost\n",
            "Successfully installed catboost-0.25.1\n",
            "/usr/local/lib/python3.7/dist-packages/pip/_internal/commands/install.py:283: UserWarning: Disabling all use of wheels due to the use of --build-options / --global-options / --install-options.\n",
            "  cmdoptions.check_install_build_global(options)\n",
            "Requirement already satisfied: lightgbm in /usr/local/lib/python3.7/dist-packages (2.2.3)\n",
            "Requirement already satisfied: numpy in /usr/local/lib/python3.7/dist-packages (from lightgbm) (1.19.5)\n",
            "Requirement already satisfied: scipy in /usr/local/lib/python3.7/dist-packages (from lightgbm) (1.4.1)\n",
            "Requirement already satisfied: scikit-learn in /usr/local/lib/python3.7/dist-packages (from lightgbm) (0.22.2.post1)\n",
            "Requirement already satisfied: joblib>=0.11 in /usr/local/lib/python3.7/dist-packages (from scikit-learn->lightgbm) (1.0.1)\n"
          ],
          "name": "stdout"
        }
      ]
    },
    {
      "cell_type": "code",
      "metadata": {
        "id": "NZJlBZiA5peL"
      },
      "source": [
        "import argparse\n",
        "import sys\n",
        "import time\n",
        "import os\n",
        "\n",
        "if sys.version_info[0] >= 3:\n",
        "    from urllib.request import urlretrieve  # pylint: disable=import-error,no-name-in-module\n",
        "else:\n",
        "    from urllib import urlretrieve  # pylint: disable=import-error,no-name-in-module\n",
        "\n",
        "import numpy as np\n",
        "import pandas as pd\n",
        "import xgboost as xgb\n",
        "from sklearn.metrics import mean_squared_error, accuracy_score\n",
        "from sklearn.model_selection import train_test_split"
      ],
      "execution_count": null,
      "outputs": []
    },
    {
      "cell_type": "code",
      "metadata": {
        "id": "1ZQ5iFDCB3tJ"
      },
      "source": [
        "# Global parameters\n",
        "random_seed = 0\n",
        "max_depth = 6\n",
        "learning_rate = 0.1\n",
        "min_split_loss = 0\n",
        "min_weight = 1\n",
        "l1_reg = 0\n",
        "l2_reg = 1"
      ],
      "execution_count": null,
      "outputs": []
    },
    {
      "cell_type": "markdown",
      "metadata": {
        "id": "kHP8H8Sk1c2d"
      },
      "source": [
        "# Dataset Importing Functions"
      ]
    },
    {
      "cell_type": "code",
      "metadata": {
        "id": "Atz-7HP-B5mG"
      },
      "source": [
        "import os\n",
        "import sys\n",
        "import tarfile\n",
        "\n",
        "import numpy as np\n",
        "import pandas as pd\n",
        "from sklearn import datasets\n",
        "from joblib.memory import Memory\n",
        "\n",
        "if sys.version_info[0] >= 3:\n",
        "    from urllib.request import urlretrieve  # pylint: disable=import-error,no-name-in-module\n",
        "else:\n",
        "    from urllib import urlretrieve  # pylint: disable=import-error,no-name-in-module\n",
        "\n",
        "mem = Memory(\"./mycache\")\n",
        "\n",
        "get_airline_url = 'http://kt.ijs.si/elena_ikonomovska/datasets/airline/airline_14col.data.bz2'\n",
        "\n",
        "\n",
        "@mem.cache\n",
        "def get_airline(num_rows=None):\n",
        "    \"\"\"\n",
        "    Airline dataset (http://kt.ijs.si/elena_ikonomovska/data.html)\n",
        "    Has categorical columns converted to ordinal and target variable \"Arrival Delay\" converted\n",
        "    to binary target.\n",
        "    - Dimensions: 115M rows, 13 columns.\n",
        "    - Task: Binary classification\n",
        "    :param num_rows:\n",
        "    :return: X, y\n",
        "    \"\"\"\n",
        "    filename = 'airline_14col.data.bz2'\n",
        "    if not os.path.isfile(filename):\n",
        "        urlretrieve(get_airline_url, filename)\n",
        "\n",
        "    cols = [\n",
        "        \"Year\", \"Month\", \"DayofMonth\", \"DayofWeek\", \"CRSDepTime\",\n",
        "        \"CRSArrTime\", \"UniqueCarrier\", \"FlightNum\", \"ActualElapsedTime\",\n",
        "        \"Origin\", \"Dest\", \"Distance\", \"Diverted\", \"ArrDelay\"\n",
        "    ]\n",
        "\n",
        "    # load the data as int16\n",
        "    dtype = np.int16\n",
        "\n",
        "    dtype_columns = {\n",
        "        \"Year\": dtype, \"Month\": dtype, \"DayofMonth\": dtype, \"DayofWeek\": dtype,\n",
        "        \"CRSDepTime\": dtype, \"CRSArrTime\": dtype, \"FlightNum\": dtype,\n",
        "        \"ActualElapsedTime\": dtype, \"Distance\":\n",
        "            dtype,\n",
        "        \"Diverted\": dtype, \"ArrDelay\": dtype,\n",
        "    }\n",
        "\n",
        "    df = pd.read_csv(filename,\n",
        "                     names=cols, dtype=dtype_columns, nrows=num_rows)\n",
        "\n",
        "    # Encode categoricals as numeric\n",
        "    for col in df.select_dtypes(['object']).columns:\n",
        "        df[col] = df[col].astype(\"category\").cat.codes\n",
        "\n",
        "    # Turn into binary classification problem\n",
        "    df[\"ArrDelayBinary\"] = 1 * (df[\"ArrDelay\"] > 0)\n",
        "\n",
        "    X = df[df.columns.difference([\"ArrDelay\", \"ArrDelayBinary\"])]\n",
        "    y = df[\"ArrDelayBinary\"]\n",
        "\n",
        "    del df\n",
        "    return X, y\n",
        "\n",
        "\n",
        "get_higgs_url = 'https://archive.ics.uci.edu/ml/machine-learning-databases/00280/HIGGS.csv.gz'  # pylint: disable=line-too-long\n",
        "\n",
        "\n",
        "@mem.cache\n",
        "def get_higgs(num_rows=None):\n",
        "    \"\"\"\n",
        "    Higgs dataset from UCI machine learning repository (\n",
        "    https://archive.ics.uci.edu/ml/datasets/HIGGS).\n",
        "    - Dimensions: 11M rows, 28 columns.\n",
        "    - Task: Binary classification\n",
        "    :param num_rows:\n",
        "    :return: X, y\n",
        "    \"\"\"\n",
        "    filename = 'HIGGS.csv.gz'\n",
        "    if not os.path.isfile(filename):\n",
        "        urlretrieve(get_higgs_url, filename)\n",
        "    higgs = pd.read_csv(filename, nrows=num_rows)\n",
        "    X = higgs.iloc[:, 1:].values\n",
        "    y = higgs.iloc[:, 0].values\n",
        "\n",
        "    return X, y\n",
        "\n",
        "\n",
        "@mem.cache\n",
        "def get_cover_type(num_rows=None):\n",
        "    \"\"\"\n",
        "    Cover type dataset from UCI machine learning repository (\n",
        "    https://archive.ics.uci.edu/ml/datasets/covertype).\n",
        "    y contains 7 unique class labels from 1 to 7 inclusive.\n",
        "    - Dimensions: 581012 rows, 54 columns.\n",
        "    - Task: Multiclass classification\n",
        "    :param num_rows:\n",
        "    :return: X, y\n",
        "    \"\"\"\n",
        "    data = datasets.fetch_covtype()\n",
        "    X = data.data\n",
        "    y = data.target\n",
        "    if num_rows is not None:\n",
        "        X = X[0:num_rows]\n",
        "        y = y[0:num_rows]\n",
        "\n",
        "    return X, y\n",
        "\n",
        "# Reduced dataset size from 10M rows to 2M rows due to limited memory\n",
        "# https://scikit-learn.org/stable/modules/generated/sklearn.datasets.make_regression.html\n",
        "# Can change n_features for different num features\n",
        "@mem.cache\n",
        "def get_synthetic_regression(num_rows=None, num_features=None):\n",
        "    \"\"\"\n",
        "    Synthetic regression generator from sklearn (\n",
        "    http://scikit-learn.org/stable/modules/generated/sklearn.datasets.make_regression.html).\n",
        "    - Dimensions: 2000000 rows, 100 columns.\n",
        "    - Task: Regression\n",
        "    :param num_rows:\n",
        "    :return: X, y\n",
        "    \"\"\"\n",
        "    if num_rows is None:\n",
        "        num_rows = 2000000\n",
        "    if num_features is None:\n",
        "        num_features = 100\n",
        "    return datasets.make_regression(n_samples=num_rows, n_features=num_features, bias=100, noise=1.0, random_state=0)\n",
        "\n",
        "\n",
        "get_year_url = 'https://archive.ics.uci.edu/ml/machine-learning-databases/00203/YearPredictionMSD.txt.zip'  # pylint: disable=line-too-long\n",
        "\n",
        "\n",
        "@mem.cache\n",
        "def get_year(num_rows=None):\n",
        "    \"\"\"\n",
        "    YearPredictionMSD dataset from UCI repository (\n",
        "    https://archive.ics.uci.edu/ml/datasets/yearpredictionmsd)\n",
        "    - Dimensions: 515345 rows, 90 columns.\n",
        "    - Task: Regression\n",
        "    :param num_rows:\n",
        "    :return: X,y\n",
        "    \"\"\"\n",
        "    filename = 'YearPredictionMSD.txt.zip'\n",
        "    if not os.path.isfile(filename):\n",
        "        urlretrieve(get_year_url, filename)\n",
        "\n",
        "    year = pd.read_csv(filename, header=None, nrows=num_rows)\n",
        "    X = year.iloc[:, 1:].values\n",
        "    y = year.iloc[:, 0].values\n",
        "    return X, y\n",
        "\n",
        "\n",
        "get_url_url = 'https://archive.ics.uci.edu/ml/machine-learning-databases/url/url_svmlight.tar.gz'  # pylint: disable=line-too-long\n",
        "\n",
        "\n",
        "@mem.cache\n",
        "def get_url(num_rows=None):\n",
        "    \"\"\"\n",
        "    URL reputation dataset from UCI repository (\n",
        "    https://archive.ics.uci.edu/ml/datasets/URL+Reputation)\n",
        "    Extremely sparse classification dataset. X is returned as a scipy sparse matrix.\n",
        "    - Dimensions: 2396130 rows, 3231961 columns.\n",
        "    - Task: Classification\n",
        "    :param num_rows:\n",
        "    :return: X,y\n",
        "    \"\"\"\n",
        "    from scipy.sparse import vstack\n",
        "    filename = 'url_svmlight.tar.gz'\n",
        "    if not os.path.isfile(filename):\n",
        "        urlretrieve(get_url_url, filename)\n",
        "        tar = tarfile.open(filename, \"r:gz\")\n",
        "        tar.extractall()\n",
        "        tar.close()\n",
        "\n",
        "    num_files = 120\n",
        "    files = ['url_svmlight/Day{}.svm'.format(day) for day in range(num_files)]\n",
        "    data = datasets.load_svmlight_files(files)\n",
        "    X = vstack(data[::2])\n",
        "    y = np.concatenate(data[1::2])\n",
        "\n",
        "    y[y < 0.0] = 0.0\n",
        "\n",
        "    if num_rows is not None:\n",
        "        X = X[0:num_rows]\n",
        "        y = y[0:num_rows]\n",
        "\n",
        "    return X, y\n",
        "\n",
        "\n",
        "@mem.cache\n",
        "def get_bosch(num_rows=None):\n",
        "    \"\"\"\n",
        "    Bosch Production Line Performance data set (\n",
        "    https://www.kaggle.com/c/bosch-production-line-performance)\n",
        "    Requires Kaggle API and API token (https://github.com/Kaggle/kaggle-api)\n",
        "    Contains missing values as NaN.\n",
        "    - Dimensions: 1.184M rows, 968 columns\n",
        "    - Task: Binary classification\n",
        "    :param num_rows:\n",
        "    :return: X,y\n",
        "    \"\"\"\n",
        "    os.system(\"kaggle competitions download -c bosch-production-line-performance -f \"\n",
        "              \"train_numeric.csv.zip -p .\")\n",
        "    X = pd.read_csv(\"train_numeric.csv.zip\", index_col=0, compression='zip', dtype=np.float32,\n",
        "                    nrows=num_rows)\n",
        "    y = X.iloc[:, -1]\n",
        "    X.drop(X.columns[-1], axis=1, inplace=True)\n",
        "    return X, y"
      ],
      "execution_count": null,
      "outputs": []
    },
    {
      "cell_type": "markdown",
      "metadata": {
        "id": "BeV_jccOmVYK"
      },
      "source": [
        "# Util functions/classes"
      ]
    },
    {
      "cell_type": "code",
      "metadata": {
        "id": "vvdoMGydmcde"
      },
      "source": [
        "class Data:\n",
        "    def __init__(self, X, y, name, task, metric, train_size=0.6, validation_size=0.2,\n",
        "                 test_size=0.2):\n",
        "        assert (train_size + validation_size + test_size) == 1.0\n",
        "        self.name = name\n",
        "        self.task = task\n",
        "        self.metric = metric\n",
        "        self.X_train, self.X_test, self.y_train, self.y_test = train_test_split(X, y,\n",
        "                                                                                test_size=test_size,\n",
        "                                                                                random_state=random_seed)\n",
        "\n",
        "        self.X_train, self.X_val, self.y_train, self.y_val = train_test_split(self.X_train,\n",
        "                                                                              self.y_train,\n",
        "                                                                              test_size=validation_size / (1 - test_size),\n",
        "                                                                              random_state=random_seed)\n",
        "\n",
        "        assert (self.X_train.shape[0] + self.X_val.shape[0] + self.X_test.shape[0]) == X.shape[0]\n",
        "\n",
        "\n",
        "def eval(data, pred):\n",
        "    if data.metric == \"RMSE\":\n",
        "        return np.sqrt(mean_squared_error(data.y_test, pred))\n",
        "    elif data.metric == \"Accuracy\":\n",
        "        # Threshold prediction if binary classification\n",
        "        if data.task == \"Classification\":\n",
        "            pred = pred > 0.5\n",
        "        elif data.task == \"Multiclass classification\":\n",
        "            if pred.ndim > 1:\n",
        "                pred = np.argmax(pred, axis=1)\n",
        "        return accuracy_score(data.y_test, pred)\n",
        "    else:\n",
        "        raise ValueError(\"Unknown metric: \" + data.metric)\n",
        "\n",
        "\n",
        "def add_data(df, algorithm, data, elapsed, metric):\n",
        "    time_col = (data.name, 'Time(s)')\n",
        "    metric_col = (data.name, data.metric)\n",
        "    try:\n",
        "        df.insert(len(df.columns), time_col, '-')\n",
        "        df.insert(len(df.columns), metric_col, '-')\n",
        "    except:\n",
        "        pass\n",
        "\n",
        "    df.at[algorithm, time_col] = elapsed\n",
        "    df.at[algorithm, metric_col] = metric\n",
        "\n",
        "\n",
        "def write_results(df, filename, format):\n",
        "    if format == \"latex\":\n",
        "        tmp_df = df.copy()\n",
        "        tmp_df.columns = pd.MultiIndex.from_tuples(tmp_df.columns.array)\n",
        "        with open(filename, \"w\") as file:\n",
        "            file.write(tmp_df.to_latex())\n",
        "    elif format == \"csv\":\n",
        "        with open(filename, \"w\") as file:\n",
        "            file.write(df.to_csv())\n",
        "    else:\n",
        "        raise ValueError(\"Unknown format: \" + format)\n",
        "\n",
        "    print(format + \" results written to: \" + filename)"
      ],
      "execution_count": null,
      "outputs": []
    },
    {
      "cell_type": "markdown",
      "metadata": {
        "id": "BHI-Kf8BmgQ_"
      },
      "source": [
        "# Algorithm Specific Configuration and Running functions"
      ]
    },
    {
      "cell_type": "code",
      "metadata": {
        "id": "egoGvdv_43DD"
      },
      "source": [
        "def configure_xgboost(data, use_gpu, args):\n",
        "    params = {'max_depth': max_depth,\n",
        "              'learning_rate': learning_rate, 'n_gpus': args.n_gpus, 'min_split_loss': min_split_loss,\n",
        "              'min_child_weight': min_weight, 'alpha': l1_reg, 'lambda': l2_reg, 'debug_verbose':args.debug_verbose}\n",
        "    if use_gpu:\n",
        "        params['tree_method'] = 'gpu_hist'\n",
        "        # params['predictor'] = 'cpu_predictor'\n",
        "    else:\n",
        "        params['tree_method'] = 'hist'\n",
        "\n",
        "    if data.task == \"Regression\":\n",
        "        params[\"objective\"] = \"reg:linear\"\n",
        "        if use_gpu:\n",
        "            params[\"objective\"] = \"gpu:\" + params[\"objective\"]\n",
        "    elif data.task == \"Multiclass classification\":\n",
        "        params[\"objective\"] = \"multi:softmax\"\n",
        "        params[\"num_class\"] = np.max(data.y_test) + 1\n",
        "    elif data.task == \"Classification\":\n",
        "        params[\"objective\"] = \"binary:logistic\"\n",
        "        if use_gpu:\n",
        "            params[\"objective\"] = \"gpu:\" + params[\"objective\"]\n",
        "    else:\n",
        "        raise ValueError(\"Unknown task: \" + data.task)\n",
        "\n",
        "    return params\n",
        "\n",
        "\n",
        "def configure_lightgbm(data, use_gpu):\n",
        "    params = {\n",
        "        'task': 'train',\n",
        "        'boosting_type': 'gbdt',\n",
        "        'max_depth': max_depth,\n",
        "        'num_leaves': 2 ** 8,\n",
        "        'learning_rate': learning_rate, 'min_data_in_leaf': 0,\n",
        "        'min_sum_hessian_in_leaf': 1, 'min_split_gain': min_split_loss,\n",
        "        'min_child_weight': min_weight, 'lambda_l1': l1_reg, 'lambda_l2': l2_reg}\n",
        "\n",
        "    if use_gpu:\n",
        "        params[\"device\"] = \"gpu\"\n",
        "\n",
        "    if data.task == \"Regression\":\n",
        "        params[\"objective\"] = \"regression\"\n",
        "    elif data.task == \"Multiclass classification\":\n",
        "        params[\"objective\"] = \"multiclass\"\n",
        "        params[\"num_class\"] = np.max(data.y_test) + 1\n",
        "    elif data.task == \"Classification\":\n",
        "        params[\"objective\"] = \"binary\"\n",
        "    else:\n",
        "        raise ValueError(\"Unknown task: \" + data.task)\n",
        "\n",
        "    return params\n",
        "\n",
        "\n",
        "def configure_catboost(data, use_gpu, args):\n",
        "    if int(args.n_gpus) == -1:\n",
        "        dev_arr = \"-1\"\n",
        "    else:\n",
        "        dev_arr = [i for i in range(0, int(args.n_gpus))]\n",
        "\n",
        "    params = {'learning_rate': learning_rate, 'depth': max_depth, 'l2_leaf_reg': l2_reg, 'devices' : dev_arr}\n",
        "    if use_gpu:\n",
        "        params['task_type'] = 'GPU'\n",
        "    if data.task == \"Multiclass classification\":\n",
        "        params['loss_function'] = 'MultiClass'\n",
        "        params[\"classes_count\"] = np.max(data.y_test) + 1\n",
        "        params[\"eval_metric\"] = 'MultiClass'\n",
        "    return params\n",
        "\n",
        "\n",
        "def run_xgboost(data, params, args):\n",
        "    dtrain = xgb.DMatrix(data.X_train, data.y_train)\n",
        "    dval = xgb.DMatrix(data.X_val, data.y_val)\n",
        "    dtest = xgb.DMatrix(data.X_test, data.y_test)\n",
        "    start = time.time()\n",
        "    bst = xgb.train(params, dtrain, args.num_rounds, [(dtrain, \"train\"), (dval, \"val\")])\n",
        "    elapsed = time.time() - start\n",
        "    pred = bst.predict(dtest)\n",
        "    metric = eval(data, pred)\n",
        "    return elapsed, metric\n",
        "\n",
        "\n",
        "def train_xgboost(alg, data, df, args):\n",
        "    if alg not in args.algs:\n",
        "        return\n",
        "    use_gpu = True if 'gpu' in alg else False\n",
        "    params = configure_xgboost(data, use_gpu, args)\n",
        "    elapsed, metric = run_xgboost(data, params, args)\n",
        "    add_data(df, alg, data, elapsed, metric)\n",
        "\n",
        "\n",
        "def run_lightgbm(data, params, args):\n",
        "    import lightgbm as lgb\n",
        "    lgb_train = lgb.Dataset(data.X_train, data.y_train)\n",
        "    lgb_eval = lgb.Dataset(data.X_test, data.y_test, reference=lgb_train)\n",
        "    start = time.time()\n",
        "    gbm = lgb.train(params,\n",
        "                    lgb_train,\n",
        "                    num_boost_round=args.num_rounds,\n",
        "                    valid_sets=lgb_eval)\n",
        "    elapsed = time.time() - start\n",
        "    pred = gbm.predict(data.X_test)\n",
        "    metric = eval(data, pred)\n",
        "    return elapsed, metric\n",
        "\n",
        "\n",
        "def train_lightgbm(alg, data, df, args):\n",
        "    if alg not in args.algs:\n",
        "        return\n",
        "    use_gpu = True if 'gpu' in alg else False\n",
        "    params = configure_lightgbm(data, use_gpu)\n",
        "    elapsed, metric = run_lightgbm(data, params, args)\n",
        "    add_data(df, alg, data, elapsed, metric)\n",
        "\n",
        "\n",
        "def run_catboost(data, params, args):\n",
        "    import catboost as cat\n",
        "    cat_train = cat.Pool(data.X_train, data.y_train)\n",
        "    cat_test = cat.Pool(data.X_test, data.y_test)\n",
        "    cat_val = cat.Pool(data.X_val, data.y_val)\n",
        "\n",
        "    params['iterations'] = args.num_rounds\n",
        "\n",
        "    if data.task is \"Regression\":\n",
        "        model = cat.CatBoostRegressor(**params)\n",
        "    else:\n",
        "        model = cat.CatBoostClassifier(**params)\n",
        "\n",
        "    start = time.time()\n",
        "    model.fit(cat_train, use_best_model=False, eval_set=cat_val)\n",
        "    elapsed = time.time() - start\n",
        "\n",
        "    if data.task == \"Multiclass classification\":\n",
        "        preds = model.predict_proba(cat_test)\n",
        "    else:\n",
        "        preds = model.predict(cat_test)\n",
        "\n",
        "    metric = eval(data, preds)\n",
        "    return elapsed, metric\n",
        "\n",
        "\n",
        "def train_catboost(alg, data, df, args):\n",
        "    if alg not in args.algs:\n",
        "        return\n",
        "    use_gpu = True if 'gpu' in alg else False\n",
        "\n",
        "    # catboost GPU does not work with multiclass\n",
        "    if data.task == \"Multiclass classification\" and use_gpu:\n",
        "        add_data(df, alg, data, 'N/A', 'N/A')\n",
        "        return\n",
        "\n",
        "    params = configure_catboost(data, use_gpu, args)\n",
        "    elapsed, metric = run_catboost(data, params, args)\n",
        "    add_data(df, alg, data, elapsed, metric)\n"
      ],
      "execution_count": null,
      "outputs": []
    },
    {
      "cell_type": "code",
      "metadata": {
        "id": "UbYkracImuFF"
      },
      "source": [
        "# Run all"
      ],
      "execution_count": null,
      "outputs": []
    },
    {
      "cell_type": "markdown",
      "metadata": {
        "id": "qXOhicAvmwZj"
      },
      "source": [
        "# Run All algorithms Experiment class"
      ]
    },
    {
      "cell_type": "code",
      "metadata": {
        "id": "rAkqjNx58g9I"
      },
      "source": [
        "class Experiment:\n",
        "    def __init__(self, data_func, name, task, metric):\n",
        "        self.data_func = data_func\n",
        "        self.name = name\n",
        "        self.task = task\n",
        "        self.metric = metric\n",
        "\n",
        "    def run(self, df, args, n_feat=None):\n",
        "        # modifying code here because I dont want to add a num_features section for all the getter functions\n",
        "        if n_feat is None:\n",
        "          X, y = self.data_func(num_rows=args.rows)\n",
        "        else:\n",
        "          X, y = self.data_func(num_rows=args.rows, num_features=n_feat)\n",
        "        data = Data(X, y, self.name, self.task, self.metric)\n",
        "        train_xgboost('xgb-cpu-hist', data, df, args)\n",
        "        train_xgboost('xgb-gpu-hist', data, df, args)\n",
        "        train_lightgbm('lightgbm-cpu', data, df, args)\n",
        "        # train_lightgbm('lightgbm-gpu', data, df, args)\n",
        "        train_catboost('cat-cpu', data, df, args)\n",
        "        train_catboost('cat-gpu', data, df, args)\n",
        "        del X\n",
        "        del y\n",
        "        del data"
      ],
      "execution_count": null,
      "outputs": []
    },
    {
      "cell_type": "markdown",
      "metadata": {
        "id": "0HdzV83f2Ad0"
      },
      "source": [
        "# Experiment 0: Reproduce Author Experiment"
      ]
    },
    {
      "cell_type": "code",
      "metadata": {
        "id": "UO7QF4k7AmNm"
      },
      "source": [
        "experiments = [\n",
        "    Experiment(get_year, \"YearPredictionMSD\", \"Regression\", \"RMSE\"),\n",
        "    Experiment(get_synthetic_regression, \"Synthetic\", \"Regression\", \"RMSE\"),\n",
        "    Experiment(get_higgs, \"Higgs\", \"Classification\", \"Accuracy\"),\n",
        "    Experiment(get_cover_type, \"Cover Type\", \"Multiclass classification\", \"Accuracy\"),\n",
        "    # Experiment(get_bosch, \"Bosch\", \"Classification\", \"Accuracy\"),\n",
        "    # Experiment(get_airline, \"Airline\", \"Classification\", \"Accuracy\"),\n",
        "]\n",
        "\n",
        "\n",
        "all_dataset_names = ''\n",
        "for exp in experiments:\n",
        "    all_dataset_names += exp.name + ','\n",
        "parser = argparse.ArgumentParser(formatter_class=argparse.ArgumentDefaultsHelpFormatter)\n",
        "parser.add_argument('--rows', type=int, default=None,\n",
        "                    help='Max rows to benchmark for each dataset.')\n",
        "parser.add_argument('--num_rounds', type=int, default=500, help='Boosting rounds.')\n",
        "parser.add_argument('--datasets', default=all_dataset_names, help='Datasets to run.')\n",
        "parser.add_argument('--debug_verbose', type=int, default=1)\n",
        "parser.add_argument('--n_gpus', type=int, default=-1)\n",
        "parser.add_argument('--algs', default='xgb-cpu-hist,xgb-gpu-hist,lightgbm-cpu,lightgbm-gpu,'\n",
        "                                        'cat-cpu,cat-gpu', help='Boosting algorithms to run.')\n",
        "args = parser.parse_args('')\n",
        "df = pd.DataFrame()\n",
        "for exp in experiments:\n",
        "    if exp.name in args.datasets:\n",
        "        exp.run(df, args)\n",
        "        # Write partial results at each iteration in case of failure\n",
        "        print(df.to_string())\n",
        "        write_results(df, \"results.latex\", \"latex\")\n",
        "        write_results(df, \"results.csv\", \"csv\")\n"
      ],
      "execution_count": null,
      "outputs": []
    },
    {
      "cell_type": "markdown",
      "metadata": {
        "id": "y6lltkiC9H_N"
      },
      "source": [
        "#Experiment 1: Running Time as a Function of \\# of Datapoints."
      ]
    },
    {
      "cell_type": "code",
      "metadata": {
        "id": "2vuFlebV9b_z"
      },
      "source": [
        "num_datapoints = [1000, 10000, 100000, 1000000] # 1k, 10k, 100k, 1M\n",
        "result_dfs = []\n",
        "\n",
        "for num_data in num_datapoints:\n",
        "\n",
        "  print(f'***** For {num_data} Synthetic Datapoints *****')\n",
        "  experiment_1 = Experiment(get_synthetic_regression, \"Synthetic\", \"Regression\", \"RMSE\")\n",
        "\n",
        "  # **** START parser ****\n",
        "  parser = argparse.ArgumentParser(formatter_class=argparse.ArgumentDefaultsHelpFormatter)\n",
        "  parser.add_argument('--rows', type=int, default=num_data,\n",
        "                      help='Max rows to benchmark for each dataset.')\n",
        "  parser.add_argument('--num_rounds', type=int, default=500, help='Boosting rounds.')\n",
        "  parser.add_argument('--datasets', default='Synthetic,', help='Datasets to run.')\n",
        "  parser.add_argument('--debug_verbose', type=int, default=1)\n",
        "  parser.add_argument('--n_gpus', type=int, default=-1)\n",
        "  parser.add_argument('--algs', default='xgb-cpu-hist,xgb-gpu-hist,lightgbm-cpu,lightgbm-gpu,'\n",
        "                                          'cat-cpu,cat-gpu', help='Boosting algorithms to run.')\n",
        "  # **** END parser ****\n",
        "  \n",
        "  args = parser.parse_args('')\n",
        "  df = pd.DataFrame()\n",
        "  experiment_1.run(df, args)\n",
        "  \n",
        "  result_dfs.append(df)"
      ],
      "execution_count": null,
      "outputs": []
    },
    {
      "cell_type": "markdown",
      "metadata": {
        "id": "psO1iZfhTeIC"
      },
      "source": [
        "### Raw Results Table"
      ]
    },
    {
      "cell_type": "code",
      "metadata": {
        "id": "pKll4-fwHvgv"
      },
      "source": [
        "# https://stackoverflow.com/questions/38783027/jupyter-notebook-display-two-pandas-tables-side-by-side\n",
        "from IPython.core.display import display, HTML\n",
        "\n",
        "def display_side_by_side(dfs:list, captions:list):\n",
        "    \"\"\"Display tables side by side to save vertical space\n",
        "    Input:\n",
        "        dfs: list of pandas.DataFrame\n",
        "        captions: list of table captions\n",
        "    \"\"\"\n",
        "    output = \"\"\n",
        "    combined = dict(zip(captions, dfs))\n",
        "    for caption, df in combined.items():\n",
        "        output += df.style.set_table_attributes(\"style='display:inline'\").set_caption(caption)._repr_html_()\n",
        "        output += \"\\xa0\\xa0\\xa0\"\n",
        "    display(HTML(output))\n",
        "\n",
        "dataframes = [result_dfs[0], result_dfs[1], result_dfs[2], result_dfs[3]]\n",
        "titles = ['1k datapoints', '10k datapoints', '100k datapoints', '1M datapoints']\n",
        "display_side_by_side(dataframes, titles)"
      ],
      "execution_count": null,
      "outputs": []
    },
    {
      "cell_type": "code",
      "metadata": {
        "colab": {
          "base_uri": "https://localhost:8080/",
          "height": 143
        },
        "id": "pK_XWORXWhCD",
        "outputId": "42b516f1-0dda-41e8-fe47-b99dbc6b14fa"
      },
      "source": [
        "cleaned_dfs = []\n",
        "xgb_dfs = []\n",
        "cat_dfs = []\n",
        "\n",
        "# df cleanup, only retaining time(s) column and removing lightgbm-cpu as there are no gpu comparisons\n",
        "for a_df in dataframes:\n",
        "  # total dfs\n",
        "  clean_df = a_df[['Time(s)']].drop(['lightgbm-cpu'])\n",
        "  cleaned_dfs.append(clean_df)\n",
        "\n",
        "  # individual dfs\n",
        "  xgb_df = clean_df.head(2)\n",
        "  cat_df = clean_df.tail(2)\n",
        "  xgb_dfs.append(xgb_df)\n",
        "  cat_dfs.append(cat_df)\n",
        "\n",
        "display_side_by_side(cleaned_dfs, titles)"
      ],
      "execution_count": null,
      "outputs": [
        {
          "output_type": "display_data",
          "data": {
            "text/html": [
              "<style  type=\"text/css\" >\n",
              "</style><table id=\"T_2913df12_a869_11eb_acd0_0242ac1c0002\" style='display:inline'><caption>1k datapoints</caption><thead>    <tr>        <th class=\"blank level0\" ></th>        <th class=\"col_heading level0 col0\" >Time(s)</th>    </tr></thead><tbody>\n",
              "                <tr>\n",
              "                        <th id=\"T_2913df12_a869_11eb_acd0_0242ac1c0002level0_row0\" class=\"row_heading level0 row0\" >xgb-cpu-hist</th>\n",
              "                        <td id=\"T_2913df12_a869_11eb_acd0_0242ac1c0002row0_col0\" class=\"data row0 col0\" >17.782727</td>\n",
              "            </tr>\n",
              "            <tr>\n",
              "                        <th id=\"T_2913df12_a869_11eb_acd0_0242ac1c0002level0_row1\" class=\"row_heading level0 row1\" >xgb-gpu-hist</th>\n",
              "                        <td id=\"T_2913df12_a869_11eb_acd0_0242ac1c0002row1_col0\" class=\"data row1 col0\" >4.308208</td>\n",
              "            </tr>\n",
              "            <tr>\n",
              "                        <th id=\"T_2913df12_a869_11eb_acd0_0242ac1c0002level0_row2\" class=\"row_heading level0 row2\" >cat-cpu</th>\n",
              "                        <td id=\"T_2913df12_a869_11eb_acd0_0242ac1c0002row2_col0\" class=\"data row2 col0\" >11.814366</td>\n",
              "            </tr>\n",
              "            <tr>\n",
              "                        <th id=\"T_2913df12_a869_11eb_acd0_0242ac1c0002level0_row3\" class=\"row_heading level0 row3\" >cat-gpu</th>\n",
              "                        <td id=\"T_2913df12_a869_11eb_acd0_0242ac1c0002row3_col0\" class=\"data row3 col0\" >6.773003</td>\n",
              "            </tr>\n",
              "    </tbody></table>   <style  type=\"text/css\" >\n",
              "</style><table id=\"T_29140a28_a869_11eb_acd0_0242ac1c0002\" style='display:inline'><caption>10k datapoints</caption><thead>    <tr>        <th class=\"blank level0\" ></th>        <th class=\"col_heading level0 col0\" >Time(s)</th>    </tr></thead><tbody>\n",
              "                <tr>\n",
              "                        <th id=\"T_29140a28_a869_11eb_acd0_0242ac1c0002level0_row0\" class=\"row_heading level0 row0\" >xgb-cpu-hist</th>\n",
              "                        <td id=\"T_29140a28_a869_11eb_acd0_0242ac1c0002row0_col0\" class=\"data row0 col0\" >33.242526</td>\n",
              "            </tr>\n",
              "            <tr>\n",
              "                        <th id=\"T_29140a28_a869_11eb_acd0_0242ac1c0002level0_row1\" class=\"row_heading level0 row1\" >xgb-gpu-hist</th>\n",
              "                        <td id=\"T_29140a28_a869_11eb_acd0_0242ac1c0002row1_col0\" class=\"data row1 col0\" >5.328632</td>\n",
              "            </tr>\n",
              "            <tr>\n",
              "                        <th id=\"T_29140a28_a869_11eb_acd0_0242ac1c0002level0_row2\" class=\"row_heading level0 row2\" >cat-cpu</th>\n",
              "                        <td id=\"T_29140a28_a869_11eb_acd0_0242ac1c0002row2_col0\" class=\"data row2 col0\" >12.862878</td>\n",
              "            </tr>\n",
              "            <tr>\n",
              "                        <th id=\"T_29140a28_a869_11eb_acd0_0242ac1c0002level0_row3\" class=\"row_heading level0 row3\" >cat-gpu</th>\n",
              "                        <td id=\"T_29140a28_a869_11eb_acd0_0242ac1c0002row3_col0\" class=\"data row3 col0\" >5.670040</td>\n",
              "            </tr>\n",
              "    </tbody></table>   <style  type=\"text/css\" >\n",
              "</style><table id=\"T_291430e8_a869_11eb_acd0_0242ac1c0002\" style='display:inline'><caption>100k datapoints</caption><thead>    <tr>        <th class=\"blank level0\" ></th>        <th class=\"col_heading level0 col0\" >Time(s)</th>    </tr></thead><tbody>\n",
              "                <tr>\n",
              "                        <th id=\"T_291430e8_a869_11eb_acd0_0242ac1c0002level0_row0\" class=\"row_heading level0 row0\" >xgb-cpu-hist</th>\n",
              "                        <td id=\"T_291430e8_a869_11eb_acd0_0242ac1c0002row0_col0\" class=\"data row0 col0\" >57.475855</td>\n",
              "            </tr>\n",
              "            <tr>\n",
              "                        <th id=\"T_291430e8_a869_11eb_acd0_0242ac1c0002level0_row1\" class=\"row_heading level0 row1\" >xgb-gpu-hist</th>\n",
              "                        <td id=\"T_291430e8_a869_11eb_acd0_0242ac1c0002row1_col0\" class=\"data row1 col0\" >6.196656</td>\n",
              "            </tr>\n",
              "            <tr>\n",
              "                        <th id=\"T_291430e8_a869_11eb_acd0_0242ac1c0002level0_row2\" class=\"row_heading level0 row2\" >cat-cpu</th>\n",
              "                        <td id=\"T_291430e8_a869_11eb_acd0_0242ac1c0002row2_col0\" class=\"data row2 col0\" >22.653334</td>\n",
              "            </tr>\n",
              "            <tr>\n",
              "                        <th id=\"T_291430e8_a869_11eb_acd0_0242ac1c0002level0_row3\" class=\"row_heading level0 row3\" >cat-gpu</th>\n",
              "                        <td id=\"T_291430e8_a869_11eb_acd0_0242ac1c0002row3_col0\" class=\"data row3 col0\" >3.733027</td>\n",
              "            </tr>\n",
              "    </tbody></table>   <style  type=\"text/css\" >\n",
              "</style><table id=\"T_29145456_a869_11eb_acd0_0242ac1c0002\" style='display:inline'><caption>1M datapoints</caption><thead>    <tr>        <th class=\"blank level0\" ></th>        <th class=\"col_heading level0 col0\" >Time(s)</th>    </tr></thead><tbody>\n",
              "                <tr>\n",
              "                        <th id=\"T_29145456_a869_11eb_acd0_0242ac1c0002level0_row0\" class=\"row_heading level0 row0\" >xgb-cpu-hist</th>\n",
              "                        <td id=\"T_29145456_a869_11eb_acd0_0242ac1c0002row0_col0\" class=\"data row0 col0\" >228.331763</td>\n",
              "            </tr>\n",
              "            <tr>\n",
              "                        <th id=\"T_29145456_a869_11eb_acd0_0242ac1c0002level0_row1\" class=\"row_heading level0 row1\" >xgb-gpu-hist</th>\n",
              "                        <td id=\"T_29145456_a869_11eb_acd0_0242ac1c0002row1_col0\" class=\"data row1 col0\" >12.692727</td>\n",
              "            </tr>\n",
              "            <tr>\n",
              "                        <th id=\"T_29145456_a869_11eb_acd0_0242ac1c0002level0_row2\" class=\"row_heading level0 row2\" >cat-cpu</th>\n",
              "                        <td id=\"T_29145456_a869_11eb_acd0_0242ac1c0002row2_col0\" class=\"data row2 col0\" >115.250854</td>\n",
              "            </tr>\n",
              "            <tr>\n",
              "                        <th id=\"T_29145456_a869_11eb_acd0_0242ac1c0002level0_row3\" class=\"row_heading level0 row3\" >cat-gpu</th>\n",
              "                        <td id=\"T_29145456_a869_11eb_acd0_0242ac1c0002row3_col0\" class=\"data row3 col0\" >10.481919</td>\n",
              "            </tr>\n",
              "    </tbody></table>   "
            ],
            "text/plain": [
              "<IPython.core.display.HTML object>"
            ]
          },
          "metadata": {
            "tags": []
          }
        }
      ]
    },
    {
      "cell_type": "markdown",
      "metadata": {
        "id": "Me2DD5ogThkn"
      },
      "source": [
        "### Raw Results to excel"
      ]
    },
    {
      "cell_type": "code",
      "metadata": {
        "id": "rvDZvuC0TkdC"
      },
      "source": [
        "# excel writer\n",
        "writer = pd.ExcelWriter('Experiment_1_Results.xlsx')\n",
        "for i in range(len(dataframes)):\n",
        "  dataframes[i].to_excel(writer, sheet_name=titles[i])\n",
        "writer.save()"
      ],
      "execution_count": null,
      "outputs": []
    },
    {
      "cell_type": "markdown",
      "metadata": {
        "id": "jXKpJtm7UqGM"
      },
      "source": [
        "### Results Visualization"
      ]
    },
    {
      "cell_type": "code",
      "metadata": {
        "id": "J84q2NOhUsXk"
      },
      "source": [
        "import matplotlib.pyplot as plt\n",
        "\n",
        "# ini variables\n",
        "x_vals = num_datapoints\n",
        "y_xgb_cpu_vals = []\n",
        "y_xgb_gpu_vals = []\n",
        "y_cat_cpu_vals = []\n",
        "y_cat_gpu_vals = []\n",
        "\n",
        "# creating list from dfs\n",
        "for j in range(len(xgb_dfs)):\n",
        "  y_xgb_cpu_vals.append(xgb_dfs[j].iloc[0].at['Time(s)'])\n",
        "  y_xgb_gpu_vals.append(xgb_dfs[j].iloc[1].at['Time(s)'])\n",
        "  y_cat_cpu_vals.append(cat_dfs[j].iloc[0].at['Time(s)'])\n",
        "  y_cat_gpu_vals.append(cat_dfs[j].iloc[1].at['Time(s)'])"
      ],
      "execution_count": null,
      "outputs": []
    },
    {
      "cell_type": "code",
      "metadata": {
        "colab": {
          "base_uri": "https://localhost:8080/",
          "height": 299
        },
        "id": "uyqlk07IgPjZ",
        "outputId": "cdcd478c-2f40-4760-d574-0fa849d9db59"
      },
      "source": [
        "# plotting xgb\n",
        "plt.plot(x_vals, y_xgb_cpu_vals, '-o')\n",
        "plt.plot(x_vals, y_xgb_gpu_vals, '-o')\n",
        "# settings\n",
        "plt.title('xgb: Running Time as a Function of # of Datapoints')\n",
        "plt.ylabel('Time(s)')\n",
        "plt.xlabel('Numer of Datapoints')\n",
        "plt.xscale('log')\n",
        "plt.legend(['cpu', 'gpu'])\n",
        "plt.savefig('XGB_E1_Result')"
      ],
      "execution_count": null,
      "outputs": [
        {
          "output_type": "display_data",
          "data": {
            "image/png": "[encoded data removed]",
            "text/plain": [
              "<Figure size 432x288 with 1 Axes>"
            ]
          },
          "metadata": {
            "tags": [],
            "needs_background": "light"
          }
        }
      ]
    },
    {
      "cell_type": "code",
      "metadata": {
        "colab": {
          "base_uri": "https://localhost:8080/",
          "height": 299
        },
        "id": "QUn_f9pggZdg",
        "outputId": "dd5934ee-6d6c-4a5c-91c1-b34ed1af269e"
      },
      "source": [
        "# plotting cat\n",
        "plt.plot(x_vals, y_cat_cpu_vals, '-o')\n",
        "plt.plot(x_vals, y_cat_gpu_vals, '-o')\n",
        "# settings\n",
        "plt.title('cat: Running Time as a Function of # of Datapoints')\n",
        "plt.ylabel('Time(s)')\n",
        "plt.xlabel('Numer of Datapoints')\n",
        "plt.xscale('log')\n",
        "plt.legend(['cpu', 'gpu'])\n",
        "plt.savefig('CAT_E1_Result')"
      ],
      "execution_count": null,
      "outputs": [
        {
          "output_type": "display_data",
          "data": {
            "image/png": "[encoded data removed]",
            "text/plain": [
              "<Figure size 432x288 with 1 Axes>"
            ]
          },
          "metadata": {
            "tags": [],
            "needs_background": "light"
          }
        }
      ]
    },
    {
      "cell_type": "markdown",
      "metadata": {
        "id": "AB6zrbJdgvWp"
      },
      "source": [
        "# Experiment 2: Running Time as a Function of # of Features"
      ]
    },
    {
      "cell_type": "code",
      "metadata": {
        "id": "tFEacDLQg4za"
      },
      "source": [
        "num_features = [20, 50, 100, 200]\n",
        "fixed_num_rows = 500000 # 500k\n",
        "result_dfs2 = []\n",
        "\n",
        "for num_feature in num_features:\n",
        "  print(f'***** For {num_feature} Features on Synthetic Dataset *****')\n",
        "  experiment_2 = Experiment(get_synthetic_regression, \"Synthetic\", \"Regression\", \"RMSE\")\n",
        "\n",
        "  # **** START parser ****\n",
        "  parser = argparse.ArgumentParser(formatter_class=argparse.ArgumentDefaultsHelpFormatter)\n",
        "  parser.add_argument('--rows', type=int, default=fixed_num_rows,\n",
        "                      help='Max rows to benchmark for each dataset.')\n",
        "  parser.add_argument('--num_rounds', type=int, default=500, help='Boosting rounds.')\n",
        "  parser.add_argument('--datasets', default='Synthetic,', help='Datasets to run.')\n",
        "  parser.add_argument('--debug_verbose', type=int, default=1)\n",
        "  parser.add_argument('--n_gpus', type=int, default=-1)\n",
        "  parser.add_argument('--algs', default='xgb-cpu-hist,xgb-gpu-hist,lightgbm-cpu,lightgbm-gpu,'\n",
        "                                          'cat-cpu,cat-gpu', help='Boosting algorithms to run.')\n",
        "  # **** END parser ****\n",
        "\n",
        "  args = parser.parse_args('')\n",
        "  df = pd.DataFrame()\n",
        "  experiment_2.run(df, args, n_feat=num_feature)\n",
        "  \n",
        "  result_dfs2.append(df)\n"
      ],
      "execution_count": null,
      "outputs": []
    },
    {
      "cell_type": "markdown",
      "metadata": {
        "id": "9F04Z8jes4iy"
      },
      "source": [
        "### Raw Results Table"
      ]
    },
    {
      "cell_type": "code",
      "metadata": {
        "colab": {
          "base_uri": "https://localhost:8080/",
          "height": 312
        },
        "id": "_MPTid06s7TL",
        "outputId": "bec28656-5e90-4ea0-9cca-579d4d8c1f06"
      },
      "source": [
        "dataframes2 = [result_dfs2[0], result_dfs2[1], result_dfs2[2], result_dfs2[3]]\n",
        "titles2 = ['20 features', '50 features', '100 features', '200 features']\n",
        "display_side_by_side(dataframes2, titles2)"
      ],
      "execution_count": null,
      "outputs": [
        {
          "output_type": "display_data",
          "data": {
            "text/html": [
              "<style  type=\"text/css\" >\n",
              "</style><table id=\"T_b30c9cf4_a878_11eb_a433_0242ac1c0002\" style='display:inline'><caption>20 features</caption><thead>    <tr>        <th class=\"blank level0\" ></th>        <th class=\"col_heading level0 col0\" >('Synthetic', 'Time(s)')</th>        <th class=\"col_heading level0 col1\" >('Synthetic', 'RMSE')</th>        <th class=\"col_heading level0 col2\" >Synthetic</th>        <th class=\"col_heading level0 col3\" >Time(s)</th>    </tr></thead><tbody>\n",
              "                <tr>\n",
              "                        <th id=\"T_b30c9cf4_a878_11eb_a433_0242ac1c0002level0_row0\" class=\"row_heading level0 row0\" >xgb-cpu-hist</th>\n",
              "                        <td id=\"T_b30c9cf4_a878_11eb_a433_0242ac1c0002row0_col0\" class=\"data row0 col0\" >nan</td>\n",
              "                        <td id=\"T_b30c9cf4_a878_11eb_a433_0242ac1c0002row0_col1\" class=\"data row0 col1\" >15.423063</td>\n",
              "                        <td id=\"T_b30c9cf4_a878_11eb_a433_0242ac1c0002row0_col2\" class=\"data row0 col2\" >36.879422</td>\n",
              "                        <td id=\"T_b30c9cf4_a878_11eb_a433_0242ac1c0002row0_col3\" class=\"data row0 col3\" >36.879422</td>\n",
              "            </tr>\n",
              "            <tr>\n",
              "                        <th id=\"T_b30c9cf4_a878_11eb_a433_0242ac1c0002level0_row1\" class=\"row_heading level0 row1\" >xgb-gpu-hist</th>\n",
              "                        <td id=\"T_b30c9cf4_a878_11eb_a433_0242ac1c0002row1_col0\" class=\"data row1 col0\" >nan</td>\n",
              "                        <td id=\"T_b30c9cf4_a878_11eb_a433_0242ac1c0002row1_col1\" class=\"data row1 col1\" >15.336370</td>\n",
              "                        <td id=\"T_b30c9cf4_a878_11eb_a433_0242ac1c0002row1_col2\" class=\"data row1 col2\" >4.787061</td>\n",
              "                        <td id=\"T_b30c9cf4_a878_11eb_a433_0242ac1c0002row1_col3\" class=\"data row1 col3\" >4.787061</td>\n",
              "            </tr>\n",
              "            <tr>\n",
              "                        <th id=\"T_b30c9cf4_a878_11eb_a433_0242ac1c0002level0_row2\" class=\"row_heading level0 row2\" >lightgbm-cpu</th>\n",
              "                        <td id=\"T_b30c9cf4_a878_11eb_a433_0242ac1c0002row2_col0\" class=\"data row2 col0\" >nan</td>\n",
              "                        <td id=\"T_b30c9cf4_a878_11eb_a433_0242ac1c0002row2_col1\" class=\"data row2 col1\" >15.320685</td>\n",
              "                        <td id=\"T_b30c9cf4_a878_11eb_a433_0242ac1c0002row2_col2\" class=\"data row2 col2\" >16.709877</td>\n",
              "                        <td id=\"T_b30c9cf4_a878_11eb_a433_0242ac1c0002row2_col3\" class=\"data row2 col3\" >16.709877</td>\n",
              "            </tr>\n",
              "            <tr>\n",
              "                        <th id=\"T_b30c9cf4_a878_11eb_a433_0242ac1c0002level0_row3\" class=\"row_heading level0 row3\" >cat-cpu</th>\n",
              "                        <td id=\"T_b30c9cf4_a878_11eb_a433_0242ac1c0002row3_col0\" class=\"data row3 col0\" >nan</td>\n",
              "                        <td id=\"T_b30c9cf4_a878_11eb_a433_0242ac1c0002row3_col1\" class=\"data row3 col1\" >7.631316</td>\n",
              "                        <td id=\"T_b30c9cf4_a878_11eb_a433_0242ac1c0002row3_col2\" class=\"data row3 col2\" >24.541390</td>\n",
              "                        <td id=\"T_b30c9cf4_a878_11eb_a433_0242ac1c0002row3_col3\" class=\"data row3 col3\" >24.541390</td>\n",
              "            </tr>\n",
              "            <tr>\n",
              "                        <th id=\"T_b30c9cf4_a878_11eb_a433_0242ac1c0002level0_row4\" class=\"row_heading level0 row4\" >cat-gpu</th>\n",
              "                        <td id=\"T_b30c9cf4_a878_11eb_a433_0242ac1c0002row4_col0\" class=\"data row4 col0\" >nan</td>\n",
              "                        <td id=\"T_b30c9cf4_a878_11eb_a433_0242ac1c0002row4_col1\" class=\"data row4 col1\" >11.504677</td>\n",
              "                        <td id=\"T_b30c9cf4_a878_11eb_a433_0242ac1c0002row4_col2\" class=\"data row4 col2\" >5.431908</td>\n",
              "                        <td id=\"T_b30c9cf4_a878_11eb_a433_0242ac1c0002row4_col3\" class=\"data row4 col3\" >5.431908</td>\n",
              "            </tr>\n",
              "    </tbody></table>   <style  type=\"text/css\" >\n",
              "</style><table id=\"T_b30d0d24_a878_11eb_a433_0242ac1c0002\" style='display:inline'><caption>50 features</caption><thead>    <tr>        <th class=\"blank level0\" ></th>        <th class=\"col_heading level0 col0\" >('Synthetic', 'Time(s)')</th>        <th class=\"col_heading level0 col1\" >('Synthetic', 'RMSE')</th>        <th class=\"col_heading level0 col2\" >Synthetic</th>        <th class=\"col_heading level0 col3\" >Time(s)</th>    </tr></thead><tbody>\n",
              "                <tr>\n",
              "                        <th id=\"T_b30d0d24_a878_11eb_a433_0242ac1c0002level0_row0\" class=\"row_heading level0 row0\" >xgb-cpu-hist</th>\n",
              "                        <td id=\"T_b30d0d24_a878_11eb_a433_0242ac1c0002row0_col0\" class=\"data row0 col0\" >nan</td>\n",
              "                        <td id=\"T_b30d0d24_a878_11eb_a433_0242ac1c0002row0_col1\" class=\"data row0 col1\" >12.625370</td>\n",
              "                        <td id=\"T_b30d0d24_a878_11eb_a433_0242ac1c0002row0_col2\" class=\"data row0 col2\" >74.390640</td>\n",
              "                        <td id=\"T_b30d0d24_a878_11eb_a433_0242ac1c0002row0_col3\" class=\"data row0 col3\" >74.390640</td>\n",
              "            </tr>\n",
              "            <tr>\n",
              "                        <th id=\"T_b30d0d24_a878_11eb_a433_0242ac1c0002level0_row1\" class=\"row_heading level0 row1\" >xgb-gpu-hist</th>\n",
              "                        <td id=\"T_b30d0d24_a878_11eb_a433_0242ac1c0002row1_col0\" class=\"data row1 col0\" >nan</td>\n",
              "                        <td id=\"T_b30d0d24_a878_11eb_a433_0242ac1c0002row1_col1\" class=\"data row1 col1\" >12.532856</td>\n",
              "                        <td id=\"T_b30d0d24_a878_11eb_a433_0242ac1c0002row1_col2\" class=\"data row1 col2\" >6.596375</td>\n",
              "                        <td id=\"T_b30d0d24_a878_11eb_a433_0242ac1c0002row1_col3\" class=\"data row1 col3\" >6.596375</td>\n",
              "            </tr>\n",
              "            <tr>\n",
              "                        <th id=\"T_b30d0d24_a878_11eb_a433_0242ac1c0002level0_row2\" class=\"row_heading level0 row2\" >lightgbm-cpu</th>\n",
              "                        <td id=\"T_b30d0d24_a878_11eb_a433_0242ac1c0002row2_col0\" class=\"data row2 col0\" >nan</td>\n",
              "                        <td id=\"T_b30d0d24_a878_11eb_a433_0242ac1c0002row2_col1\" class=\"data row2 col1\" >12.722733</td>\n",
              "                        <td id=\"T_b30d0d24_a878_11eb_a433_0242ac1c0002row2_col2\" class=\"data row2 col2\" >33.341749</td>\n",
              "                        <td id=\"T_b30d0d24_a878_11eb_a433_0242ac1c0002row2_col3\" class=\"data row2 col3\" >33.341749</td>\n",
              "            </tr>\n",
              "            <tr>\n",
              "                        <th id=\"T_b30d0d24_a878_11eb_a433_0242ac1c0002level0_row3\" class=\"row_heading level0 row3\" >cat-cpu</th>\n",
              "                        <td id=\"T_b30d0d24_a878_11eb_a433_0242ac1c0002row3_col0\" class=\"data row3 col0\" >nan</td>\n",
              "                        <td id=\"T_b30d0d24_a878_11eb_a433_0242ac1c0002row3_col1\" class=\"data row3 col1\" >6.467516</td>\n",
              "                        <td id=\"T_b30d0d24_a878_11eb_a433_0242ac1c0002row3_col2\" class=\"data row3 col2\" >39.641128</td>\n",
              "                        <td id=\"T_b30d0d24_a878_11eb_a433_0242ac1c0002row3_col3\" class=\"data row3 col3\" >39.641128</td>\n",
              "            </tr>\n",
              "            <tr>\n",
              "                        <th id=\"T_b30d0d24_a878_11eb_a433_0242ac1c0002level0_row4\" class=\"row_heading level0 row4\" >cat-gpu</th>\n",
              "                        <td id=\"T_b30d0d24_a878_11eb_a433_0242ac1c0002row4_col0\" class=\"data row4 col0\" >nan</td>\n",
              "                        <td id=\"T_b30d0d24_a878_11eb_a433_0242ac1c0002row4_col1\" class=\"data row4 col1\" >9.221143</td>\n",
              "                        <td id=\"T_b30d0d24_a878_11eb_a433_0242ac1c0002row4_col2\" class=\"data row4 col2\" >4.741777</td>\n",
              "                        <td id=\"T_b30d0d24_a878_11eb_a433_0242ac1c0002row4_col3\" class=\"data row4 col3\" >4.741777</td>\n",
              "            </tr>\n",
              "    </tbody></table>   <style  type=\"text/css\" >\n",
              "</style><table id=\"T_b30d505e_a878_11eb_a433_0242ac1c0002\" style='display:inline'><caption>100 features</caption><thead>    <tr>        <th class=\"blank level0\" ></th>        <th class=\"col_heading level0 col0\" >('Synthetic', 'Time(s)')</th>        <th class=\"col_heading level0 col1\" >('Synthetic', 'RMSE')</th>        <th class=\"col_heading level0 col2\" >Synthetic</th>        <th class=\"col_heading level0 col3\" >Time(s)</th>    </tr></thead><tbody>\n",
              "                <tr>\n",
              "                        <th id=\"T_b30d505e_a878_11eb_a433_0242ac1c0002level0_row0\" class=\"row_heading level0 row0\" >xgb-cpu-hist</th>\n",
              "                        <td id=\"T_b30d505e_a878_11eb_a433_0242ac1c0002row0_col0\" class=\"data row0 col0\" >nan</td>\n",
              "                        <td id=\"T_b30d505e_a878_11eb_a433_0242ac1c0002row0_col1\" class=\"data row0 col1\" >15.685553</td>\n",
              "                        <td id=\"T_b30d505e_a878_11eb_a433_0242ac1c0002row0_col2\" class=\"data row0 col2\" >133.333380</td>\n",
              "                        <td id=\"T_b30d505e_a878_11eb_a433_0242ac1c0002row0_col3\" class=\"data row0 col3\" >133.333380</td>\n",
              "            </tr>\n",
              "            <tr>\n",
              "                        <th id=\"T_b30d505e_a878_11eb_a433_0242ac1c0002level0_row1\" class=\"row_heading level0 row1\" >xgb-gpu-hist</th>\n",
              "                        <td id=\"T_b30d505e_a878_11eb_a433_0242ac1c0002row1_col0\" class=\"data row1 col0\" >nan</td>\n",
              "                        <td id=\"T_b30d505e_a878_11eb_a433_0242ac1c0002row1_col1\" class=\"data row1 col1\" >15.392986</td>\n",
              "                        <td id=\"T_b30d505e_a878_11eb_a433_0242ac1c0002row1_col2\" class=\"data row1 col2\" >8.790956</td>\n",
              "                        <td id=\"T_b30d505e_a878_11eb_a433_0242ac1c0002row1_col3\" class=\"data row1 col3\" >8.790956</td>\n",
              "            </tr>\n",
              "            <tr>\n",
              "                        <th id=\"T_b30d505e_a878_11eb_a433_0242ac1c0002level0_row2\" class=\"row_heading level0 row2\" >lightgbm-cpu</th>\n",
              "                        <td id=\"T_b30d505e_a878_11eb_a433_0242ac1c0002row2_col0\" class=\"data row2 col0\" >nan</td>\n",
              "                        <td id=\"T_b30d505e_a878_11eb_a433_0242ac1c0002row2_col1\" class=\"data row2 col1\" >15.414266</td>\n",
              "                        <td id=\"T_b30d505e_a878_11eb_a433_0242ac1c0002row2_col2\" class=\"data row2 col2\" >62.580678</td>\n",
              "                        <td id=\"T_b30d505e_a878_11eb_a433_0242ac1c0002row2_col3\" class=\"data row2 col3\" >62.580678</td>\n",
              "            </tr>\n",
              "            <tr>\n",
              "                        <th id=\"T_b30d505e_a878_11eb_a433_0242ac1c0002level0_row3\" class=\"row_heading level0 row3\" >cat-cpu</th>\n",
              "                        <td id=\"T_b30d505e_a878_11eb_a433_0242ac1c0002row3_col0\" class=\"data row3 col0\" >nan</td>\n",
              "                        <td id=\"T_b30d505e_a878_11eb_a433_0242ac1c0002row3_col1\" class=\"data row3 col1\" >7.764390</td>\n",
              "                        <td id=\"T_b30d505e_a878_11eb_a433_0242ac1c0002row3_col2\" class=\"data row3 col2\" >63.687985</td>\n",
              "                        <td id=\"T_b30d505e_a878_11eb_a433_0242ac1c0002row3_col3\" class=\"data row3 col3\" >63.687985</td>\n",
              "            </tr>\n",
              "            <tr>\n",
              "                        <th id=\"T_b30d505e_a878_11eb_a433_0242ac1c0002level0_row4\" class=\"row_heading level0 row4\" >cat-gpu</th>\n",
              "                        <td id=\"T_b30d505e_a878_11eb_a433_0242ac1c0002row4_col0\" class=\"data row4 col0\" >nan</td>\n",
              "                        <td id=\"T_b30d505e_a878_11eb_a433_0242ac1c0002row4_col1\" class=\"data row4 col1\" >10.970533</td>\n",
              "                        <td id=\"T_b30d505e_a878_11eb_a433_0242ac1c0002row4_col2\" class=\"data row4 col2\" >6.578533</td>\n",
              "                        <td id=\"T_b30d505e_a878_11eb_a433_0242ac1c0002row4_col3\" class=\"data row4 col3\" >6.578533</td>\n",
              "            </tr>\n",
              "    </tbody></table>   <style  type=\"text/css\" >\n",
              "</style><table id=\"T_b30d90fa_a878_11eb_a433_0242ac1c0002\" style='display:inline'><caption>200 features</caption><thead>    <tr>        <th class=\"blank level0\" ></th>        <th class=\"col_heading level0 col0\" >('Synthetic', 'Time(s)')</th>        <th class=\"col_heading level0 col1\" >('Synthetic', 'RMSE')</th>        <th class=\"col_heading level0 col2\" >Synthetic</th>        <th class=\"col_heading level0 col3\" >Time(s)</th>    </tr></thead><tbody>\n",
              "                <tr>\n",
              "                        <th id=\"T_b30d90fa_a878_11eb_a433_0242ac1c0002level0_row0\" class=\"row_heading level0 row0\" >xgb-cpu-hist</th>\n",
              "                        <td id=\"T_b30d90fa_a878_11eb_a433_0242ac1c0002row0_col0\" class=\"data row0 col0\" >nan</td>\n",
              "                        <td id=\"T_b30d90fa_a878_11eb_a433_0242ac1c0002row0_col1\" class=\"data row0 col1\" >13.045600</td>\n",
              "                        <td id=\"T_b30d90fa_a878_11eb_a433_0242ac1c0002row0_col2\" class=\"data row0 col2\" >282.637072</td>\n",
              "                        <td id=\"T_b30d90fa_a878_11eb_a433_0242ac1c0002row0_col3\" class=\"data row0 col3\" >282.637072</td>\n",
              "            </tr>\n",
              "            <tr>\n",
              "                        <th id=\"T_b30d90fa_a878_11eb_a433_0242ac1c0002level0_row1\" class=\"row_heading level0 row1\" >xgb-gpu-hist</th>\n",
              "                        <td id=\"T_b30d90fa_a878_11eb_a433_0242ac1c0002row1_col0\" class=\"data row1 col0\" >nan</td>\n",
              "                        <td id=\"T_b30d90fa_a878_11eb_a433_0242ac1c0002row1_col1\" class=\"data row1 col1\" >12.841950</td>\n",
              "                        <td id=\"T_b30d90fa_a878_11eb_a433_0242ac1c0002row1_col2\" class=\"data row1 col2\" >12.870330</td>\n",
              "                        <td id=\"T_b30d90fa_a878_11eb_a433_0242ac1c0002row1_col3\" class=\"data row1 col3\" >12.870330</td>\n",
              "            </tr>\n",
              "            <tr>\n",
              "                        <th id=\"T_b30d90fa_a878_11eb_a433_0242ac1c0002level0_row2\" class=\"row_heading level0 row2\" >lightgbm-cpu</th>\n",
              "                        <td id=\"T_b30d90fa_a878_11eb_a433_0242ac1c0002row2_col0\" class=\"data row2 col0\" >nan</td>\n",
              "                        <td id=\"T_b30d90fa_a878_11eb_a433_0242ac1c0002row2_col1\" class=\"data row2 col1\" >13.138927</td>\n",
              "                        <td id=\"T_b30d90fa_a878_11eb_a433_0242ac1c0002row2_col2\" class=\"data row2 col2\" >120.889120</td>\n",
              "                        <td id=\"T_b30d90fa_a878_11eb_a433_0242ac1c0002row2_col3\" class=\"data row2 col3\" >120.889120</td>\n",
              "            </tr>\n",
              "            <tr>\n",
              "                        <th id=\"T_b30d90fa_a878_11eb_a433_0242ac1c0002level0_row3\" class=\"row_heading level0 row3\" >cat-cpu</th>\n",
              "                        <td id=\"T_b30d90fa_a878_11eb_a433_0242ac1c0002row3_col0\" class=\"data row3 col0\" >nan</td>\n",
              "                        <td id=\"T_b30d90fa_a878_11eb_a433_0242ac1c0002row3_col1\" class=\"data row3 col1\" >6.456673</td>\n",
              "                        <td id=\"T_b30d90fa_a878_11eb_a433_0242ac1c0002row3_col2\" class=\"data row3 col2\" >110.487089</td>\n",
              "                        <td id=\"T_b30d90fa_a878_11eb_a433_0242ac1c0002row3_col3\" class=\"data row3 col3\" >110.487089</td>\n",
              "            </tr>\n",
              "            <tr>\n",
              "                        <th id=\"T_b30d90fa_a878_11eb_a433_0242ac1c0002level0_row4\" class=\"row_heading level0 row4\" >cat-gpu</th>\n",
              "                        <td id=\"T_b30d90fa_a878_11eb_a433_0242ac1c0002row4_col0\" class=\"data row4 col0\" >nan</td>\n",
              "                        <td id=\"T_b30d90fa_a878_11eb_a433_0242ac1c0002row4_col1\" class=\"data row4 col1\" >9.374432</td>\n",
              "                        <td id=\"T_b30d90fa_a878_11eb_a433_0242ac1c0002row4_col2\" class=\"data row4 col2\" >10.191020</td>\n",
              "                        <td id=\"T_b30d90fa_a878_11eb_a433_0242ac1c0002row4_col3\" class=\"data row4 col3\" >10.191020</td>\n",
              "            </tr>\n",
              "    </tbody></table>   "
            ],
            "text/plain": [
              "<IPython.core.display.HTML object>"
            ]
          },
          "metadata": {
            "tags": []
          }
        }
      ]
    },
    {
      "cell_type": "code",
      "metadata": {
        "colab": {
          "base_uri": "https://localhost:8080/",
          "height": 143
        },
        "id": "-ytRAXTPtXWz",
        "outputId": "d2aac261-81aa-4ed4-d7f4-c5820dcaa32d"
      },
      "source": [
        "cleaned_dfs2 = []\n",
        "xgb_dfs2 = []\n",
        "cat_dfs2 = []\n",
        "\n",
        "# df cleanup, only retaining time(s) column and removing lightgbm-cpu as there are no gpu comparisons\n",
        "for a_df in dataframes2:\n",
        "  # total dfs\n",
        "  clean_df2 = a_df[['Time(s)']].drop(['lightgbm-cpu'])\n",
        "  cleaned_dfs2.append(clean_df2)\n",
        "\n",
        "  # individual dfs\n",
        "  xgb_df2 = clean_df2.head(2)\n",
        "  cat_df2 = clean_df2.tail(2)\n",
        "  xgb_dfs2.append(xgb_df2)\n",
        "  cat_dfs2.append(cat_df2)\n",
        "\n",
        "display_side_by_side(cleaned_dfs2, titles2)"
      ],
      "execution_count": null,
      "outputs": [
        {
          "output_type": "display_data",
          "data": {
            "text/html": [
              "<style  type=\"text/css\" >\n",
              "</style><table id=\"T_b64bdda8_a878_11eb_a433_0242ac1c0002\" style='display:inline'><caption>20 features</caption><thead>    <tr>        <th class=\"blank level0\" ></th>        <th class=\"col_heading level0 col0\" >Time(s)</th>    </tr></thead><tbody>\n",
              "                <tr>\n",
              "                        <th id=\"T_b64bdda8_a878_11eb_a433_0242ac1c0002level0_row0\" class=\"row_heading level0 row0\" >xgb-cpu-hist</th>\n",
              "                        <td id=\"T_b64bdda8_a878_11eb_a433_0242ac1c0002row0_col0\" class=\"data row0 col0\" >36.879422</td>\n",
              "            </tr>\n",
              "            <tr>\n",
              "                        <th id=\"T_b64bdda8_a878_11eb_a433_0242ac1c0002level0_row1\" class=\"row_heading level0 row1\" >xgb-gpu-hist</th>\n",
              "                        <td id=\"T_b64bdda8_a878_11eb_a433_0242ac1c0002row1_col0\" class=\"data row1 col0\" >4.787061</td>\n",
              "            </tr>\n",
              "            <tr>\n",
              "                        <th id=\"T_b64bdda8_a878_11eb_a433_0242ac1c0002level0_row2\" class=\"row_heading level0 row2\" >cat-cpu</th>\n",
              "                        <td id=\"T_b64bdda8_a878_11eb_a433_0242ac1c0002row2_col0\" class=\"data row2 col0\" >24.541390</td>\n",
              "            </tr>\n",
              "            <tr>\n",
              "                        <th id=\"T_b64bdda8_a878_11eb_a433_0242ac1c0002level0_row3\" class=\"row_heading level0 row3\" >cat-gpu</th>\n",
              "                        <td id=\"T_b64bdda8_a878_11eb_a433_0242ac1c0002row3_col0\" class=\"data row3 col0\" >5.431908</td>\n",
              "            </tr>\n",
              "    </tbody></table>   <style  type=\"text/css\" >\n",
              "</style><table id=\"T_b64c0044_a878_11eb_a433_0242ac1c0002\" style='display:inline'><caption>50 features</caption><thead>    <tr>        <th class=\"blank level0\" ></th>        <th class=\"col_heading level0 col0\" >Time(s)</th>    </tr></thead><tbody>\n",
              "                <tr>\n",
              "                        <th id=\"T_b64c0044_a878_11eb_a433_0242ac1c0002level0_row0\" class=\"row_heading level0 row0\" >xgb-cpu-hist</th>\n",
              "                        <td id=\"T_b64c0044_a878_11eb_a433_0242ac1c0002row0_col0\" class=\"data row0 col0\" >74.390640</td>\n",
              "            </tr>\n",
              "            <tr>\n",
              "                        <th id=\"T_b64c0044_a878_11eb_a433_0242ac1c0002level0_row1\" class=\"row_heading level0 row1\" >xgb-gpu-hist</th>\n",
              "                        <td id=\"T_b64c0044_a878_11eb_a433_0242ac1c0002row1_col0\" class=\"data row1 col0\" >6.596375</td>\n",
              "            </tr>\n",
              "            <tr>\n",
              "                        <th id=\"T_b64c0044_a878_11eb_a433_0242ac1c0002level0_row2\" class=\"row_heading level0 row2\" >cat-cpu</th>\n",
              "                        <td id=\"T_b64c0044_a878_11eb_a433_0242ac1c0002row2_col0\" class=\"data row2 col0\" >39.641128</td>\n",
              "            </tr>\n",
              "            <tr>\n",
              "                        <th id=\"T_b64c0044_a878_11eb_a433_0242ac1c0002level0_row3\" class=\"row_heading level0 row3\" >cat-gpu</th>\n",
              "                        <td id=\"T_b64c0044_a878_11eb_a433_0242ac1c0002row3_col0\" class=\"data row3 col0\" >4.741777</td>\n",
              "            </tr>\n",
              "    </tbody></table>   <style  type=\"text/css\" >\n",
              "</style><table id=\"T_b64c1ee4_a878_11eb_a433_0242ac1c0002\" style='display:inline'><caption>100 features</caption><thead>    <tr>        <th class=\"blank level0\" ></th>        <th class=\"col_heading level0 col0\" >Time(s)</th>    </tr></thead><tbody>\n",
              "                <tr>\n",
              "                        <th id=\"T_b64c1ee4_a878_11eb_a433_0242ac1c0002level0_row0\" class=\"row_heading level0 row0\" >xgb-cpu-hist</th>\n",
              "                        <td id=\"T_b64c1ee4_a878_11eb_a433_0242ac1c0002row0_col0\" class=\"data row0 col0\" >133.333380</td>\n",
              "            </tr>\n",
              "            <tr>\n",
              "                        <th id=\"T_b64c1ee4_a878_11eb_a433_0242ac1c0002level0_row1\" class=\"row_heading level0 row1\" >xgb-gpu-hist</th>\n",
              "                        <td id=\"T_b64c1ee4_a878_11eb_a433_0242ac1c0002row1_col0\" class=\"data row1 col0\" >8.790956</td>\n",
              "            </tr>\n",
              "            <tr>\n",
              "                        <th id=\"T_b64c1ee4_a878_11eb_a433_0242ac1c0002level0_row2\" class=\"row_heading level0 row2\" >cat-cpu</th>\n",
              "                        <td id=\"T_b64c1ee4_a878_11eb_a433_0242ac1c0002row2_col0\" class=\"data row2 col0\" >63.687985</td>\n",
              "            </tr>\n",
              "            <tr>\n",
              "                        <th id=\"T_b64c1ee4_a878_11eb_a433_0242ac1c0002level0_row3\" class=\"row_heading level0 row3\" >cat-gpu</th>\n",
              "                        <td id=\"T_b64c1ee4_a878_11eb_a433_0242ac1c0002row3_col0\" class=\"data row3 col0\" >6.578533</td>\n",
              "            </tr>\n",
              "    </tbody></table>   <style  type=\"text/css\" >\n",
              "</style><table id=\"T_b64c3b04_a878_11eb_a433_0242ac1c0002\" style='display:inline'><caption>200 features</caption><thead>    <tr>        <th class=\"blank level0\" ></th>        <th class=\"col_heading level0 col0\" >Time(s)</th>    </tr></thead><tbody>\n",
              "                <tr>\n",
              "                        <th id=\"T_b64c3b04_a878_11eb_a433_0242ac1c0002level0_row0\" class=\"row_heading level0 row0\" >xgb-cpu-hist</th>\n",
              "                        <td id=\"T_b64c3b04_a878_11eb_a433_0242ac1c0002row0_col0\" class=\"data row0 col0\" >282.637072</td>\n",
              "            </tr>\n",
              "            <tr>\n",
              "                        <th id=\"T_b64c3b04_a878_11eb_a433_0242ac1c0002level0_row1\" class=\"row_heading level0 row1\" >xgb-gpu-hist</th>\n",
              "                        <td id=\"T_b64c3b04_a878_11eb_a433_0242ac1c0002row1_col0\" class=\"data row1 col0\" >12.870330</td>\n",
              "            </tr>\n",
              "            <tr>\n",
              "                        <th id=\"T_b64c3b04_a878_11eb_a433_0242ac1c0002level0_row2\" class=\"row_heading level0 row2\" >cat-cpu</th>\n",
              "                        <td id=\"T_b64c3b04_a878_11eb_a433_0242ac1c0002row2_col0\" class=\"data row2 col0\" >110.487089</td>\n",
              "            </tr>\n",
              "            <tr>\n",
              "                        <th id=\"T_b64c3b04_a878_11eb_a433_0242ac1c0002level0_row3\" class=\"row_heading level0 row3\" >cat-gpu</th>\n",
              "                        <td id=\"T_b64c3b04_a878_11eb_a433_0242ac1c0002row3_col0\" class=\"data row3 col0\" >10.191020</td>\n",
              "            </tr>\n",
              "    </tbody></table>   "
            ],
            "text/plain": [
              "<IPython.core.display.HTML object>"
            ]
          },
          "metadata": {
            "tags": []
          }
        }
      ]
    },
    {
      "cell_type": "markdown",
      "metadata": {
        "id": "jofHMJzCu0At"
      },
      "source": [
        "### Raw Results to excel"
      ]
    },
    {
      "cell_type": "code",
      "metadata": {
        "id": "LADMS-hAu1zR"
      },
      "source": [
        "# excel writer\n",
        "writer = pd.ExcelWriter('Experiment_2_Results.xlsx')\n",
        "for i in range(len(dataframes2)):\n",
        "  dataframes2[i].to_excel(writer, sheet_name=titles2[i])\n",
        "writer.save()"
      ],
      "execution_count": null,
      "outputs": []
    },
    {
      "cell_type": "markdown",
      "metadata": {
        "id": "rgQ2HPETvA3b"
      },
      "source": [
        "### Results Visualization"
      ]
    },
    {
      "cell_type": "code",
      "metadata": {
        "id": "mw1dfBdrvALo"
      },
      "source": [
        "# ini variables\n",
        "x_vals2 = num_features\n",
        "y_xgb_cpu_vals2 = []\n",
        "y_xgb_gpu_vals2 = []\n",
        "y_cat_cpu_vals2 = []\n",
        "y_cat_gpu_vals2 = []\n",
        "\n",
        "# creating list from dfs\n",
        "for j in range(len(xgb_dfs2)):\n",
        "  y_xgb_cpu_vals2.append(xgb_dfs2[j].iloc[0].at['Time(s)'])\n",
        "  y_xgb_gpu_vals2.append(xgb_dfs2[j].iloc[1].at['Time(s)'])\n",
        "  y_cat_cpu_vals2.append(cat_dfs2[j].iloc[0].at['Time(s)'])\n",
        "  y_cat_gpu_vals2.append(cat_dfs2[j].iloc[1].at['Time(s)'])"
      ],
      "execution_count": null,
      "outputs": []
    },
    {
      "cell_type": "code",
      "metadata": {
        "colab": {
          "base_uri": "https://localhost:8080/",
          "height": 295
        },
        "id": "xPGn2F8KvQer",
        "outputId": "40580c0a-56cc-4c56-992c-22aadaea9887"
      },
      "source": [
        "# plotting xgb\n",
        "plt.plot(x_vals2, y_xgb_cpu_vals2, '-o')\n",
        "plt.plot(x_vals2, y_xgb_gpu_vals2, '-o')\n",
        "# settings\n",
        "plt.title('xgb: Running Time as a Function of # of Features')\n",
        "plt.ylabel('Time(s)')\n",
        "plt.xlabel('Number of Features')\n",
        "plt.legend(['cpu', 'gpu'])\n",
        "plt.savefig('XGB_E2_Result')"
      ],
      "execution_count": null,
      "outputs": [
        {
          "output_type": "display_data",
          "data": {
            "image/png": "[encoded data removed]",
            "text/plain": [
              "<Figure size 432x288 with 1 Axes>"
            ]
          },
          "metadata": {
            "tags": [],
            "needs_background": "light"
          }
        }
      ]
    },
    {
      "cell_type": "code",
      "metadata": {
        "colab": {
          "base_uri": "https://localhost:8080/",
          "height": 295
        },
        "id": "YTHZX2fZvaVg",
        "outputId": "eec96b99-31cc-459f-9098-3e8c904e12d4"
      },
      "source": [
        "# plotting cat\n",
        "plt.plot(x_vals2, y_cat_cpu_vals2, '-o')\n",
        "plt.plot(x_vals2, y_cat_gpu_vals2, '-o')\n",
        "# settings\n",
        "plt.title('cat: Running Time as a Function of # of Features')\n",
        "plt.ylabel('Time(s)')\n",
        "plt.xlabel('Number of Features')\n",
        "plt.legend(['cpu', 'gpu'])\n",
        "plt.savefig('CAT_E2_Result')"
      ],
      "execution_count": null,
      "outputs": [
        {
          "output_type": "display_data",
          "data": {
            "image/png": "[encoded data removed]",
            "text/plain": [
              "<Figure size 432x288 with 1 Axes>"
            ]
          },
          "metadata": {
            "tags": [],
            "needs_background": "light"
          }
        }
      ]
    },
    {
      "cell_type": "markdown",
      "metadata": {
        "id": "twHUWlQof2Ie"
      },
      "source": [
        "# Experiment 3:\n",
        "Ablation Study with xgb-gpu-hist alg forced to make predictions on the cpu\n"
      ]
    },
    {
      "cell_type": "code",
      "metadata": {
        "id": "FEy1eSUpgDxE"
      },
      "source": [
        "def configure_xgboost(data, use_gpu, args, cpu_pred):\n",
        "    params = {'max_depth': max_depth,\n",
        "              'learning_rate': learning_rate, 'n_gpus': args.n_gpus, 'min_split_loss': min_split_loss,\n",
        "              'min_child_weight': min_weight, 'alpha': l1_reg, 'lambda': l2_reg, 'debug_verbose':args.debug_verbose}\n",
        "    if cpu_pred:\n",
        "        params['predictor'] = 'cpu_predictor'\n",
        "    if use_gpu:\n",
        "        params['tree_method'] = 'gpu_hist'\n",
        "        # params['predictor'] = 'cpu_predictor'\n",
        "    else:\n",
        "        params['tree_method'] = 'hist'\n",
        "\n",
        "    if data.task == \"Regression\":\n",
        "        params[\"objective\"] = \"reg:linear\"\n",
        "        if use_gpu:\n",
        "            params[\"objective\"] = \"gpu:\" + params[\"objective\"]\n",
        "\n",
        "    elif data.task == \"Multiclass classification\":\n",
        "        params[\"objective\"] = \"multi:softmax\"\n",
        "        params[\"num_class\"] = np.max(data.y_test) + 1\n",
        "    elif data.task == \"Classification\":\n",
        "        params[\"objective\"] = \"binary:logistic\"\n",
        "        if use_gpu:\n",
        "            params[\"objective\"] = \"gpu:\" + params[\"objective\"]\n",
        "    else:\n",
        "        raise ValueError(\"Unknown task: \" + data.task)\n",
        "\n",
        "    return params\n",
        "\n",
        "\n",
        "def run_xgboost(data, params, args):\n",
        "    dtrain = xgb.DMatrix(data.X_train, data.y_train)\n",
        "    dval = xgb.DMatrix(data.X_val, data.y_val)\n",
        "    dtest = xgb.DMatrix(data.X_test, data.y_test)\n",
        "    start = time.time()\n",
        "    bst = xgb.train(params, dtrain, args.num_rounds, [(dtrain, \"train\"), (dval, \"val\")])\n",
        "    elapsed = time.time() - start\n",
        "    pred = bst.predict(dtest)\n",
        "    metric = eval(data, pred)\n",
        "    return elapsed, metric\n",
        "\n",
        "\n",
        "def train_xgboost(alg, data, df, args, cpu_pred=False):\n",
        "    if alg not in args.algs:\n",
        "        return\n",
        "    use_gpu = True if 'gpu' in alg else False\n",
        "    params = configure_xgboost(data, use_gpu, args, cpu_pred)\n",
        "    elapsed, metric = run_xgboost(data, params, args)\n",
        "    add_data(df, alg, data, elapsed, metric)\n",
        "\n",
        "\n",
        "class Experiment:\n",
        "    def __init__(self, data_func, name, task, metric):\n",
        "        self.data_func = data_func\n",
        "        self.name = name\n",
        "        self.task = task\n",
        "        self.metric = metric\n",
        "\n",
        "    def run(self, df, args, n_feat=None):\n",
        "        # modifying code here because I dont want to add a num_features section for all the getter functions\n",
        "        if n_feat is None:\n",
        "          X, y = self.data_func(num_rows=args.rows)\n",
        "        else:\n",
        "          X, y = self.data_func(num_rows=args.rows, num_features=n_feat)\n",
        "        data = Data(X, y, self.name, self.task, self.metric)\n",
        "        # train_xgboost('xgb-cpu-hist', data, df, args)\n",
        "        train_xgboost('xgb-gpu-hist-cpu-pred', data, df, args, cpu_pred=True)\n",
        "        # train_xgboost('xgb-gpu-hist', data, df, args, cpu_pred=False)\n",
        "        # train_lightgbm('lightgbm-cpu', data, df, args)\n",
        "        # train_lightgbm('lightgbm-gpu', data, df, args)\n",
        "        # train_catboost('cat-cpu', data, df, args)\n",
        "        # train_catboost('cat-gpu', data, df, args)\n",
        "        del X\n",
        "        del y\n",
        "        del data\n",
        "\n",
        "\n",
        "experiments = [\n",
        "    Experiment(get_year, \"YearPredictionMSD\", \"Regression\", \"RMSE\"),\n",
        "    Experiment(get_synthetic_regression, \"Synthetic\", \"Regression\", \"RMSE\"),\n",
        "    Experiment(get_higgs, \"Higgs\", \"Classification\", \"Accuracy\"),\n",
        "    Experiment(get_cover_type, \"Cover Type\", \"Multiclass classification\", \"Accuracy\"),\n",
        "    # Experiment(get_bosch, \"Bosch\", \"Classification\", \"Accuracy\"),\n",
        "    # Experiment(get_airline, \"Airline\", \"Classification\", \"Accuracy\"),\n",
        "]\n",
        "\n",
        "all_dataset_names = ''\n",
        "for exp in experiments:\n",
        "    all_dataset_names += exp.name + ','\n",
        "parser = argparse.ArgumentParser(formatter_class=argparse.ArgumentDefaultsHelpFormatter)\n",
        "parser.add_argument('--rows', type=int, default=None,\n",
        "                    help='Max rows to benchmark for each dataset.')\n",
        "parser.add_argument('--num_rounds', type=int, default=500, help='Boosting rounds.')\n",
        "parser.add_argument('--datasets', default=all_dataset_names, help='Datasets to run.')\n",
        "parser.add_argument('--debug_verbose', type=int, default=1)\n",
        "parser.add_argument('--n_gpus', type=int, default=-1)\n",
        "parser.add_argument('--algs', default='xgb-cpu-hist,xgb-gpu-hist, xgb-gpu-hist-cpu-pred,lightgbm-cpu,lightgbm-gpu,'\n",
        "                                        'cat-cpu,cat-gpu', help='Boosting algorithms to run.')\n",
        "args = parser.parse_args('')\n",
        "df = pd.DataFrame()\n",
        "for exp in experiments:\n",
        "    if exp.name in args.datasets:\n",
        "        exp.run(df, args)\n",
        "        # Write partial results at each iteration in case of failure\n",
        "        print(df.to_string())\n",
        "        write_results(df, \"results.latex\", \"latex\")\n",
        "        write_results(df, \"results.csv\", \"csv\")"
      ],
      "execution_count": null,
      "outputs": []
    }
  ]
}