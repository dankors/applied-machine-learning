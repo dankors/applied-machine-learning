{
  "nbformat": 4,
  "nbformat_minor": 0,
  "metadata": {
    "colab": {
      "name": "Comp551Assignment2",
      "provenance": [],
      "collapsed_sections": [
        "gSaeFs2H0is_"
      ]
    },
    "kernelspec": {
      "name": "python3",
      "display_name": "Python 3"
    }
  },
  "cells": [
    {
      "cell_type": "markdown",
      "metadata": {
        "id": "XqqCNwzbro0k"
      },
      "source": [
        "# Comp 551 Assignment 2\r\n",
        "## Fynn Schmitt-Ulms, Joon Hwan Hong, and Daniel Korsunsky\r\n",
        "\r\n",
        "Link to Colab Notebook:\r\n",
        "\r\n",
        "https://colab.research.google.com/drive/1v-UOPVSPJfvTiZJ1jaj0MMxvR22YC_1a?usp=sharing"
      ]
    },
    {
      "cell_type": "code",
      "metadata": {
        "id": "9SzMQzRmJQOR"
      },
      "source": [
        "import itertools\n",
        "import random\n",
        "import numpy as np\n",
        "import pandas as pd\n",
        "import matplotlib.pyplot as plt\n",
        "from sklearn.metrics import plot_confusion_matrix\n",
        "from sklearn.datasets import fetch_20newsgroups\n",
        "from sklearn.feature_extraction.text import CountVectorizer\n",
        "from sklearn.feature_extraction.text import TfidfTransformer\n",
        "from sklearn.linear_model import LogisticRegression\n",
        "from sklearn.dummy import DummyClassifier\n",
        "from os import listdir\n",
        "from os.path import isfile, join\n",
        "from scipy.sparse import csc_matrix\n",
        "import itertools"
      ],
      "execution_count": 1,
      "outputs": []
    },
    {
      "cell_type": "code",
      "metadata": {
        "id": "R9gpsVFVWKF2"
      },
      "source": [
        "# set random seed\r\n",
        "np.random.seed(551)\r\n",
        "random.seed(551)"
      ],
      "execution_count": 2,
      "outputs": []
    },
    {
      "cell_type": "markdown",
      "metadata": {
        "id": "hoH38YiqkLMF"
      },
      "source": [
        "## Some General Helper Functions"
      ]
    },
    {
      "cell_type": "code",
      "metadata": {
        "id": "nYuyn6ljS-25"
      },
      "source": [
        "def create_features(train_text, test_or_val_text, min_df=10, n_gram_upper_limit=1):\r\n",
        "    count_vect = CountVectorizer(min_df=min_df, ngram_range=(1, n_gram_upper_limit)) # Converts text into counts of each word, ignores words that occur infrequently\r\n",
        "    tf_transformer = TfidfTransformer(use_idf=False) # Term Frequency inverse document frequency transformer\r\n",
        "    count_vect.fit(train_text) # Only fit on the train data\r\n",
        "    X_train, X_test_or_val = count_vect.transform(train_text), count_vect.transform(test_or_val_text)\r\n",
        "    tf_transformer.fit(X_train)\r\n",
        "    X_train, X_test_or_val = tf_transformer.transform(X_train), tf_transformer.transform(X_test_or_val)\r\n",
        "    return X_train, X_test_or_val"
      ],
      "execution_count": 3,
      "outputs": []
    },
    {
      "cell_type": "code",
      "metadata": {
        "id": "77iTq5NRJQ2w"
      },
      "source": [
        "def create_text_length_hist(text_data, dataset_title):\r\n",
        "    text_lengths = np.array([len(x) for x in text_data])\r\n",
        "\r\n",
        "    # Remove a few outliers for plotting purposes\r\n",
        "    median = np.median(text_lengths)\r\n",
        "    std = np.std(text_lengths)\r\n",
        "    text_lengths = text_lengths[text_lengths < median + 2 * std]\r\n",
        "\r\n",
        "    plt.hist(text_lengths, density=False)\r\n",
        "    plt.xlabel(\"Text Lengths\")\r\n",
        "    plt.ylabel(\"Count\")\r\n",
        "    plt.title(\"Text Length Histogram of \" + dataset_title)"
      ],
      "execution_count": 4,
      "outputs": []
    },
    {
      "cell_type": "code",
      "metadata": {
        "id": "xdqP2ZenLjPU"
      },
      "source": [
        "def print_class_counts(labels, class_name_dict, dataset_name):\r\n",
        "    plt.bar(class_name_dict.keys(), [(np.array(labels) == class_num).sum() for class_num in class_name_dict.values()])\r\n",
        "    plt.xticks(rotation='vertical')\r\n",
        "    plt.title(\"Class Counts for \" + dataset_name)\r\n"
      ],
      "execution_count": 5,
      "outputs": []
    },
    {
      "cell_type": "markdown",
      "metadata": {
        "id": "MKZbRG2uNS_p"
      },
      "source": [
        "#IMDB Data"
      ]
    },
    {
      "cell_type": "code",
      "metadata": {
        "id": "CdwQw1pUNuUW"
      },
      "source": [
        "def extract_text_data(main_dir, class_name_labels_dict):\n",
        "    text_data = []\n",
        "    text_labels = []\n",
        "    for dir, label in class_name_labels_dict.items():\n",
        "        file_names = [f for f in listdir(join(main_dir, dir)) if isfile(join(main_dir, dir, f))]\n",
        "        for f in listdir(join(main_dir, dir)):\n",
        "            potential_file = join(main_dir, dir, f)\n",
        "            if isfile(potential_file):\n",
        "                with open(potential_file) as f:\n",
        "                    text_data.append(f.read())\n",
        "                    text_labels.append(label)\n",
        "    \n",
        "    return text_data, np.array(text_labels)"
      ],
      "execution_count": 6,
      "outputs": []
    },
    {
      "cell_type": "code",
      "metadata": {
        "colab": {
          "base_uri": "https://localhost:8080/"
        },
        "id": "hnA0ldp31CXq",
        "outputId": "93502df4-3383-4bc3-b7db-9ddf8c45df59"
      },
      "source": [
        "!wget http://ai.stanford.edu/~amaas/data/sentiment/aclImdb_v1.tar.gz\n",
        "!tar -xf aclImdb_v1.tar.gz\n",
        "\n",
        "# train text, train labels\n",
        "train_t, train_l = extract_text_data(\"aclImdb/train\", {\"pos\" : 1, \"neg\":0}) \n",
        "test_t, test_l = extract_text_data(\"aclImdb/test\", {\"pos\" : 1, \"neg\":0})\n",
        "\n",
        "print(\"Number of Data Points:\", len(train_t))\n",
        "print(\"Sample Label:\", train_l[0])\n",
        "print(\"Sample Data:\", train_t[0], sep=\"\\n\")"
      ],
      "execution_count": 7,
      "outputs": [
        {
          "output_type": "stream",
          "text": [
            "--2021-03-01 02:40:29--  http://ai.stanford.edu/~amaas/data/sentiment/aclImdb_v1.tar.gz\n",
            "Resolving ai.stanford.edu (ai.stanford.edu)... 171.64.68.10\n",
            "Connecting to ai.stanford.edu (ai.stanford.edu)|171.64.68.10|:80... connected.\n",
            "HTTP request sent, awaiting response... 200 OK\n",
            "Length: 84125825 (80M) [application/x-gzip]\n",
            "Saving to: ‘aclImdb_v1.tar.gz.1’\n",
            "\n",
            "aclImdb_v1.tar.gz.1 100%[===================>]  80.23M  23.8MB/s    in 3.7s    \n",
            "\n",
            "2021-03-01 02:40:33 (21.7 MB/s) - ‘aclImdb_v1.tar.gz.1’ saved [84125825/84125825]\n",
            "\n",
            "Number of Data Points: 25000\n",
            "Sample Label: 1\n",
            "Sample Data:\n",
            "Home Room was a great movie if you've ever had drama in your life. It keeps you wanting to see more. Wondering what the secret Alicia is hiding. I think I watched that movie 6 times in a row and never lost interest. Plus I usually don't cry over movies but this one made me cry each time. I wish I could find more movies like that one. All in All I thought it was a great movie. The more you watch of it the more you become part of it. The very end is the part that really got me when she cried when getting her diploma, because it had her daughter's name on it. My heart felt as if it had shattered just then. And how her new friend came to comfort her when she hadn't gotten hers yet. I loved it so much.\n"
          ],
          "name": "stdout"
        }
      ]
    },
    {
      "cell_type": "code",
      "metadata": {
        "colab": {
          "base_uri": "https://localhost:8080/",
          "height": 295
        },
        "id": "2_Qma322Jjcj",
        "outputId": "ecb30958-531e-4cea-9e50-c01a90d5e9f3"
      },
      "source": [
        "create_text_length_hist(train_t, \"IMDB Movie Ratings\")"
      ],
      "execution_count": 8,
      "outputs": [
        {
          "output_type": "display_data",
          "data": {
            "image/png": "[encoded data removed]",
            "text/plain": [
              "<Figure size 432x288 with 1 Axes>"
            ]
          },
          "metadata": {
            "tags": [],
            "needs_background": "light"
          }
        }
      ]
    },
    {
      "cell_type": "code",
      "metadata": {
        "colab": {
          "base_uri": "https://localhost:8080/",
          "height": 316
        },
        "id": "NVGuAOOtMKTB",
        "outputId": "668049ef-fe7a-40c8-9ca9-b19e06e2287b"
      },
      "source": [
        "print_class_counts(train_l, {\"Positive\":1, \"Negative\":0}, \"IMDB Movie Ratings\")"
      ],
      "execution_count": 9,
      "outputs": [
        {
          "output_type": "display_data",
          "data": {
            "image/png": "[encoded data removed]",
            "text/plain": [
              "<Figure size 432x288 with 1 Axes>"
            ]
          },
          "metadata": {
            "tags": [],
            "needs_background": "light"
          }
        }
      ]
    },
    {
      "cell_type": "markdown",
      "metadata": {
        "id": "zURl1S7RNMm5"
      },
      "source": [
        "# Newsgroups Data"
      ]
    },
    {
      "cell_type": "code",
      "metadata": {
        "id": "CyuW1AOiX7c8"
      },
      "source": [
        "train_newsgroups = fetch_20newsgroups(subset = 'train', remove=(['headers', 'footers', 'quotes']))\r\n",
        "test_newsgroups = fetch_20newsgroups(subset = 'test', remove=(['headers', 'footers', 'quotes']))"
      ],
      "execution_count": 10,
      "outputs": []
    },
    {
      "cell_type": "code",
      "metadata": {
        "colab": {
          "base_uri": "https://localhost:8080/"
        },
        "id": "xrc3JWpcOBWy",
        "outputId": "e369415d-f460-41e7-c6be-88622ba15f4f"
      },
      "source": [
        "print(\"Number of Data Points:\", len(train_newsgroups.data))\n",
        "print(\"Sample Label:\", train_newsgroups.target[0])\n",
        "print(\"Sample Data:\", train_newsgroups.data[0], sep=\"\\n\")"
      ],
      "execution_count": 11,
      "outputs": [
        {
          "output_type": "stream",
          "text": [
            "Number of Data Points: 11314\n",
            "Sample Label: 7\n",
            "Sample Data:\n",
            "I was wondering if anyone out there could enlighten me on this car I saw\n",
            "the other day. It was a 2-door sports car, looked to be from the late 60s/\n",
            "early 70s. It was called a Bricklin. The doors were really small. In addition,\n",
            "the front bumper was separate from the rest of the body. This is \n",
            "all I know. If anyone can tellme a model name, engine specs, years\n",
            "of production, where this car is made, history, or whatever info you\n",
            "have on this funky looking car, please e-mail.\n"
          ],
          "name": "stdout"
        }
      ]
    },
    {
      "cell_type": "code",
      "metadata": {
        "colab": {
          "base_uri": "https://localhost:8080/"
        },
        "id": "GyDljCr8ZGtD",
        "outputId": "93ccdf62-d786-42d7-e47c-00504cfda93a"
      },
      "source": [
        "train_newsgroups.target_names"
      ],
      "execution_count": 12,
      "outputs": [
        {
          "output_type": "execute_result",
          "data": {
            "text/plain": [
              "['alt.atheism',\n",
              " 'comp.graphics',\n",
              " 'comp.os.ms-windows.misc',\n",
              " 'comp.sys.ibm.pc.hardware',\n",
              " 'comp.sys.mac.hardware',\n",
              " 'comp.windows.x',\n",
              " 'misc.forsale',\n",
              " 'rec.autos',\n",
              " 'rec.motorcycles',\n",
              " 'rec.sport.baseball',\n",
              " 'rec.sport.hockey',\n",
              " 'sci.crypt',\n",
              " 'sci.electronics',\n",
              " 'sci.med',\n",
              " 'sci.space',\n",
              " 'soc.religion.christian',\n",
              " 'talk.politics.guns',\n",
              " 'talk.politics.mideast',\n",
              " 'talk.politics.misc',\n",
              " 'talk.religion.misc']"
            ]
          },
          "metadata": {
            "tags": []
          },
          "execution_count": 12
        }
      ]
    },
    {
      "cell_type": "code",
      "metadata": {
        "colab": {
          "base_uri": "https://localhost:8080/",
          "height": 295
        },
        "id": "CnccBRblKcXe",
        "outputId": "5bfeaebd-458f-4072-a96c-61f77333b5ce"
      },
      "source": [
        "create_text_length_hist(train_newsgroups.data, \"20 Newsgroup Articles\")"
      ],
      "execution_count": 13,
      "outputs": [
        {
          "output_type": "display_data",
          "data": {
            "image/png": "[encoded data removed]",
            "text/plain": [
              "<Figure size 432x288 with 1 Axes>"
            ]
          },
          "metadata": {
            "tags": [],
            "needs_background": "light"
          }
        }
      ]
    },
    {
      "cell_type": "code",
      "metadata": {
        "colab": {
          "base_uri": "https://localhost:8080/",
          "height": 406
        },
        "id": "aCJXK9cvMZel",
        "outputId": "c7f1d5b3-265c-43bc-de20-0b83c06375fa"
      },
      "source": [
        "print_class_counts(train_newsgroups.target, dict(zip(train_newsgroups.target_names, list(range(len(train_newsgroups.target_names))))), \"20 Newsgroup Articles\")"
      ],
      "execution_count": 14,
      "outputs": [
        {
          "output_type": "display_data",
          "data": {
            "image/png": "[encoded data removed]",
            "text/plain": [
              "<Figure size 432x288 with 1 Axes>"
            ]
          },
          "metadata": {
            "tags": [],
            "needs_background": "light"
          }
        }
      ]
    },
    {
      "cell_type": "markdown",
      "metadata": {
        "id": "cQslnqVDWoe1"
      },
      "source": [
        "# Task 2\r\n",
        "\r\n",
        " Naive Bayes Class"
      ]
    },
    {
      "cell_type": "code",
      "metadata": {
        "id": "0LzyrTq5EzjZ"
      },
      "source": [
        "# NaiveBayes Extends DummyClassifier so that it can be passed as an \r\n",
        "# argument to scikit learn's confusion matrix function\r\n",
        "\r\n",
        "# Using Multinomial Likelihood\r\n",
        "class NaiveBayes(DummyClassifier):\r\n",
        "    def __init__(self, laplace_val=1, log_correction=1e-4):\r\n",
        "        self.laplace_val = laplace_val \r\n",
        "        self.log_correction = log_correction\r\n",
        "    \r\n",
        "    def fit(self, x, y):\r\n",
        "        N, D = x.shape\r\n",
        "        self.D = D\r\n",
        "        C = np.max(y) + 1\r\n",
        "        self.C = C\r\n",
        "\r\n",
        "        theta = np.zeros((C, D))\r\n",
        "        Nc = np.zeros(C)\r\n",
        "\r\n",
        "        for c in range(C):\r\n",
        "            x_c = x[y == c]\r\n",
        "            Nc[c] = x_c.shape[0]\r\n",
        "            numerator = np.sum(x_c, axis=0) + self.log_correction # Prevents features that never\r\n",
        "            # occur in a class from messing up log values in predict function\r\n",
        "            theta[c, :] = numerator / np.sum(numerator)\r\n",
        "        \r\n",
        "        self.theta = theta\r\n",
        "        self.pi = (Nc+self.laplace_val) / (N + C*self.laplace_val)\r\n"
      ],
      "execution_count": 15,
      "outputs": []
    },
    {
      "cell_type": "code",
      "metadata": {
        "id": "x8MF_jY0GGKz"
      },
      "source": [
        "def logsumexp(Z):                                                # dimension C x N\r\n",
        "    Zmax = np.max(Z,axis=0)[None,:]                              # max over C\r\n",
        "    log_sum_exp = Zmax + np.log(np.sum(np.exp(Z - Zmax), axis=0))\r\n",
        "    return log_sum_exp\r\n",
        "\r\n",
        "def predict(self, xt):\r\n",
        "    Nt, D = xt.shape\r\n",
        "\r\n",
        "    log_prior = np.log(self.pi)[:, None] # C x 1 (will broadcast to C x N)\r\n",
        "\r\n",
        "    log_likelihood = np.zeros(shape=(self.C, Nt))\r\n",
        "    # Loop through training data \r\n",
        "    # Can't do everything with matrix operations as the sparse matrix format doesn't\r\n",
        "    # Allow for 3 dimensional matrices and converting to a non-sparse matrix\r\n",
        "    # Uses more RAM than is available\r\n",
        "    for i in range(Nt): \r\n",
        "        log_likelihood[:, i] = np.sum(np.multiply(xt[i, :].toarray(), np.log(self.theta)), axis=1)\r\n",
        "    \r\n",
        "    log_posterior = log_prior + log_likelihood\r\n",
        "    posterior = np.exp(log_posterior - logsumexp(log_posterior))\r\n",
        "    return np.argmax(posterior.T, 1)\r\n",
        "\r\n",
        "NaiveBayes.predict = predict"
      ],
      "execution_count": 16,
      "outputs": []
    },
    {
      "cell_type": "markdown",
      "metadata": {
        "id": "K30TvrwEX92F"
      },
      "source": [
        "Accuracy Evaluation"
      ]
    },
    {
      "cell_type": "code",
      "metadata": {
        "id": "bIPkJ2MpX_4X"
      },
      "source": [
        "def evaluate_acc(true_labels, target_labels):\r\n",
        "    return np.mean(np.array(true_labels) == np.array(target_labels))"
      ],
      "execution_count": 17,
      "outputs": []
    },
    {
      "cell_type": "markdown",
      "metadata": {
        "id": "PBXxOc0XbYth"
      },
      "source": [
        "# Task 3\r\n",
        "\r\n"
      ]
    },
    {
      "cell_type": "markdown",
      "metadata": {
        "id": "dodRQ3IBbK1W"
      },
      "source": [
        "K-fold cross validation\r\n"
      ]
    },
    {
      "cell_type": "code",
      "metadata": {
        "id": "b-hHT5YjD4Sh"
      },
      "source": [
        "# Slight modification to the suggested function, this defines a cross_val split\r\n",
        "# Using the indices of datapoints in each split instead of the splitting the \r\n",
        "# Dataset itself\r\n",
        "# This allows for more flexibility later\r\n",
        "# Also randomly shuffles the indices in the process\r\n",
        "def cross_validation_split(n_train, k):\r\n",
        "    ind_shuffled = np.random.permutation(n_train)\r\n",
        "    return np.array_split(ind_shuffled, k)"
      ],
      "execution_count": 18,
      "outputs": []
    },
    {
      "cell_type": "code",
      "metadata": {
        "id": "8Az_7bbWbQkG"
      },
      "source": [
        "# Also modified. We wanted to fit the preprocessing steps to the training data\r\n",
        "# only and not also the validation sets \r\n",
        "# Since this is a costly operation, we perform this preprocessing once\r\n",
        "# And then test all hyperparameter combinations on the data before moving\r\n",
        "# on to the next train/val sets\r\n",
        "def kfoldCV(X_text, Y, model, process_data_fun, fold_indices, hp_dict_list):\r\n",
        "    # hp_dict_list is a dictionary mapping hyperparemter names to lists of possible values\r\n",
        "    k = len(fold_indices)\r\n",
        "    # Create all combinations of hyperparemeter values and iterate through them\r\n",
        "    hyper_parameter_combs = list(itertools.product(*hp_dict_list.values()))\r\n",
        "    val_accs = np.zeros((len(hyper_parameter_combs), k))\r\n",
        "    for i in range(k):\r\n",
        "        print(\"k=\",(i+1), \"/\", k, sep=\"\")\r\n",
        "        train_indices = np.concatenate([fold_indices[j] for j in range(k) if j != i])\r\n",
        "        # Preprocess data using Train folds and excluding Val fold\r\n",
        "        # This prevents the tokenizers from creating tokens for words that appear in val but not in train\r\n",
        "        # Which better represents the way the model will react to new test data\r\n",
        "        X_train, X_val = process_data_fun([X_text[j] for j in train_indices], [X_text[j] for j in fold_indices[i]])\r\n",
        "        Y_train, Y_val = np.array([Y[j] for j in train_indices]), np.array([Y[j] for j in fold_indices[i]])\r\n",
        "\r\n",
        "        for j, hp_values in enumerate(hyper_parameter_combs):\r\n",
        "            # Create model with given hyperparameters\r\n",
        "            m = model(**dict(zip(hp_dict_list.keys(), hp_values)))\r\n",
        "\r\n",
        "            m.fit(X_train, Y_train)\r\n",
        "            pred = m.predict(X_val)\r\n",
        "            val_accs[j, i] = evaluate_acc(Y_val, pred)\r\n",
        "\r\n",
        "    avg_accs = np.mean(val_accs, 1)\r\n",
        "\r\n",
        "    best_index = np.argmax(avg_accs)\r\n",
        "    print(\"Best Val Accuracy:\", avg_accs[best_index])\r\n",
        "    for hp, hp_val in zip(hp_dict_list.keys(), hyper_parameter_combs[best_index]):\r\n",
        "        print(hp, \": \", hp_val, sep=\"\")\r\n",
        "    return avg_accs"
      ],
      "execution_count": 19,
      "outputs": []
    },
    {
      "cell_type": "markdown",
      "metadata": {
        "id": "pwDV-_Lom1KO"
      },
      "source": [
        "### Experiment 1\r\n",
        "\r\n",
        "Finding optimal hyperparameters using k-fold cross validation"
      ]
    },
    {
      "cell_type": "code",
      "metadata": {
        "id": "Sz78jq7tWauQ"
      },
      "source": [
        "# Define a single K fold for all runs\r\n",
        "k_fold = 5\r\n",
        "cv_split_imdb = cross_validation_split(len(train_t), k_fold)\r\n",
        "cv_split_20news = cross_validation_split(len(train_newsgroups.data), k_fold)"
      ],
      "execution_count": 20,
      "outputs": []
    },
    {
      "cell_type": "code",
      "metadata": {
        "colab": {
          "base_uri": "https://localhost:8080/"
        },
        "id": "07CxuV7QRptp",
        "outputId": "e21a1680-6f3b-43ae-badf-8fc640f74aa9"
      },
      "source": [
        "# Naive Bayes IMDB Data\r\n",
        "hyperparameters = {\"laplace_val\":[1, 2, 3], \"log_correction\":[1e-3, 1e-2, 1e-1]}\r\n",
        "avg_accs = kfoldCV(train_t, train_l, NaiveBayes, create_features, cv_split_imdb, hyperparameters)"
      ],
      "execution_count": 21,
      "outputs": [
        {
          "output_type": "stream",
          "text": [
            "k=1/5\n",
            "k=2/5\n",
            "k=3/5\n",
            "k=4/5\n",
            "k=5/5\n",
            "Best Val Accuracy: 0.8572\n",
            "laplace_val: 1\n",
            "log_correction: 0.01\n"
          ],
          "name": "stdout"
        }
      ]
    },
    {
      "cell_type": "code",
      "metadata": {
        "colab": {
          "base_uri": "https://localhost:8080/"
        },
        "id": "-Wko5vc1TTkv",
        "outputId": "e3b9220e-a325-440f-a488-fb6e1dcef7f1"
      },
      "source": [
        "# Naive Bayes 20 Newsgroups Data\r\n",
        "hyperparameters = {\"laplace_val\":[1,2, 3], \"log_correction\":[1e-3, 1e-2, 1e-1]}\r\n",
        "avg_accs = kfoldCV(train_newsgroups.data, train_newsgroups.target, NaiveBayes, create_features, cv_split_20news, hyperparameters)"
      ],
      "execution_count": 22,
      "outputs": [
        {
          "output_type": "stream",
          "text": [
            "k=1/5\n",
            "k=2/5\n",
            "k=3/5\n",
            "k=4/5\n",
            "k=5/5\n",
            "Best Val Accuracy: 0.7193746867006349\n",
            "laplace_val: 2\n",
            "log_correction: 0.01\n"
          ],
          "name": "stdout"
        }
      ]
    },
    {
      "cell_type": "code",
      "metadata": {
        "colab": {
          "base_uri": "https://localhost:8080/"
        },
        "id": "1VtIOi75ZdlC",
        "outputId": "7e0da8f4-0682-4c03-db72-cdedd7d994dd"
      },
      "source": [
        "# Logistic Regression IMDB Data\r\n",
        "hyperparameters = {\"C\":[100, 10, 1, 0.1, 0.01], \"n_jobs\":[-1]}\r\n",
        "avg_accs = kfoldCV(train_t, train_l, LogisticRegression, create_features, cv_split_imdb, hyperparameters)"
      ],
      "execution_count": 23,
      "outputs": [
        {
          "output_type": "stream",
          "text": [
            "k=1/5\n",
            "k=2/5\n",
            "k=3/5\n",
            "k=4/5\n",
            "k=5/5\n",
            "Best Val Accuracy: 0.8844\n",
            "C: 10\n",
            "n_jobs: -1\n"
          ],
          "name": "stdout"
        }
      ]
    },
    {
      "cell_type": "code",
      "metadata": {
        "colab": {
          "base_uri": "https://localhost:8080/"
        },
        "id": "y-dcN4tHrKtb",
        "outputId": "001b2e7e-8381-4d77-8599-8e8d9473c4d0"
      },
      "source": [
        "# Logistic 20 Newsgroups Data\r\n",
        "hyperparameters = {\"C\":[100, 10, 1, 0.1, 0.01], \"n_jobs\":[-1]}\r\n",
        "avg_accs = kfoldCV(train_newsgroups.data, train_newsgroups.target, LogisticRegression, create_features, cv_split_20news, hyperparameters)"
      ],
      "execution_count": 24,
      "outputs": [
        {
          "output_type": "stream",
          "text": [
            "k=1/5\n",
            "k=2/5\n",
            "k=3/5\n",
            "k=4/5\n",
            "k=5/5\n",
            "Best Val Accuracy: 0.6672273724112144\n",
            "C: 100\n",
            "n_jobs: -1\n"
          ],
          "name": "stdout"
        }
      ]
    },
    {
      "cell_type": "markdown",
      "metadata": {
        "id": "2cUd-waw70rh"
      },
      "source": [
        "### Experiment 2\r\n",
        "Compare performance of naive Bayes and logistic regression on each dataset"
      ]
    },
    {
      "cell_type": "code",
      "metadata": {
        "id": "_oL72lytbklh",
        "colab": {
          "base_uri": "https://localhost:8080/"
        },
        "outputId": "7644491c-4a50-4ea2-fa5b-a3dfa9dc9dda"
      },
      "source": [
        "# Need to refit models using optimal hyperparameters from Experiment 1 on full training data\r\n",
        "# And then report performance on test datasets\r\n",
        "acc_list = []\r\n",
        "\r\n",
        "# IMDb Dataset\r\n",
        "X_imdb_train, X_imdb_test = create_features(train_t, test_t)\r\n",
        "Y_imdb_train, Y_imdb_test = np.array(train_l), np.array(test_l)\r\n",
        "\r\n",
        "best_imdb_naive_bayes = NaiveBayes(laplace_val= 1, log_correction= 0.01)\r\n",
        "best_imdb_naive_bayes.fit(X_imdb_train, Y_imdb_train)\r\n",
        "pred = best_imdb_naive_bayes.predict(X_imdb_test)\r\n",
        "test_acc = evaluate_acc(pred, Y_imdb_test)\r\n",
        "print(\"Naive Bayes IMDB:\", test_acc)\r\n",
        "acc_list.append(test_acc)\r\n",
        "\r\n",
        "best_imdb_logistic = LogisticRegression(C=10)\r\n",
        "best_imdb_logistic.fit(X_imdb_train, Y_imdb_train)\r\n",
        "pred = best_imdb_logistic.predict(X_imdb_test)\r\n",
        "test_acc = evaluate_acc(pred, Y_imdb_test)\r\n",
        "print(\"Logistic Regression IMDB\", test_acc)\r\n",
        "acc_list.append(test_acc)\r\n",
        "\r\n",
        "# 20 News Group Dataset\r\n",
        "X_20news_train, X_20news_test = create_features(train_newsgroups.data, test_newsgroups.data)\r\n",
        "Y_20news_train, Y_20news_test = np.array(train_newsgroups.target), np.array(test_newsgroups.target)\r\n",
        "\r\n",
        "best_20news_naive_bayes = NaiveBayes(laplace_val= 1, log_correction= 0.01)\r\n",
        "best_20news_naive_bayes.fit(X_20news_train, Y_20news_train)\r\n",
        "pred = best_20news_naive_bayes.predict(X_20news_test)\r\n",
        "test_acc = evaluate_acc(pred, Y_20news_test)\r\n",
        "print(\"Naive Bayes 20 Newsgroups:\", test_acc)\r\n",
        "acc_list.append(test_acc)\r\n",
        "\r\n",
        "best_20news_logistic = LogisticRegression(C=100)\r\n",
        "best_20news_logistic.fit(X_20news_train, Y_20news_train)\r\n",
        "pred = best_20news_logistic.predict(X_20news_test)\r\n",
        "test_acc = evaluate_acc(pred, Y_20news_test)\r\n",
        "print(\"Logistic Regression 20 Newsgroups:\", test_acc)\r\n",
        "acc_list.append(test_acc)"
      ],
      "execution_count": 25,
      "outputs": [
        {
          "output_type": "stream",
          "text": [
            "Naive Bayes IMDB: 0.83932\n"
          ],
          "name": "stdout"
        },
        {
          "output_type": "stream",
          "text": [
            "/usr/local/lib/python3.7/dist-packages/sklearn/linear_model/_logistic.py:940: ConvergenceWarning: lbfgs failed to converge (status=1):\n",
            "STOP: TOTAL NO. of ITERATIONS REACHED LIMIT.\n",
            "\n",
            "Increase the number of iterations (max_iter) or scale the data as shown in:\n",
            "    https://scikit-learn.org/stable/modules/preprocessing.html\n",
            "Please also refer to the documentation for alternative solver options:\n",
            "    https://scikit-learn.org/stable/modules/linear_model.html#logistic-regression\n",
            "  extra_warning_msg=_LOGISTIC_SOLVER_CONVERGENCE_MSG)\n"
          ],
          "name": "stderr"
        },
        {
          "output_type": "stream",
          "text": [
            "Logistic Regression IMDB 0.8832\n",
            "Naive Bayes 20 Newsgroups: 0.6686139139670738\n",
            "Logistic Regression 20 Newsgroups: 0.6168348380244291\n"
          ],
          "name": "stdout"
        },
        {
          "output_type": "stream",
          "text": [
            "/usr/local/lib/python3.7/dist-packages/sklearn/linear_model/_logistic.py:940: ConvergenceWarning: lbfgs failed to converge (status=1):\n",
            "STOP: TOTAL NO. of ITERATIONS REACHED LIMIT.\n",
            "\n",
            "Increase the number of iterations (max_iter) or scale the data as shown in:\n",
            "    https://scikit-learn.org/stable/modules/preprocessing.html\n",
            "Please also refer to the documentation for alternative solver options:\n",
            "    https://scikit-learn.org/stable/modules/linear_model.html#logistic-regression\n",
            "  extra_warning_msg=_LOGISTIC_SOLVER_CONVERGENCE_MSG)\n"
          ],
          "name": "stderr"
        }
      ]
    },
    {
      "cell_type": "code",
      "metadata": {
        "colab": {
          "base_uri": "https://localhost:8080/",
          "height": 175
        },
        "id": "GAHp6OWFl7gr",
        "outputId": "ddfb2ce6-083b-4a3b-eb16-39b004ec5400"
      },
      "source": [
        "d = {'Accuracy': acc_list}\r\n",
        "df = pd.DataFrame(data=d, index=['NB IMDB', 'LR IMDB', 'NB 20 Newsgroups', 'LR 20 Newsgroups'])\r\n",
        "df"
      ],
      "execution_count": 26,
      "outputs": [
        {
          "output_type": "execute_result",
          "data": {
            "text/html": [
              "<div>\n",
              "<style scoped>\n",
              "    .dataframe tbody tr th:only-of-type {\n",
              "        vertical-align: middle;\n",
              "    }\n",
              "\n",
              "    .dataframe tbody tr th {\n",
              "        vertical-align: top;\n",
              "    }\n",
              "\n",
              "    .dataframe thead th {\n",
              "        text-align: right;\n",
              "    }\n",
              "</style>\n",
              "<table border=\"1\" class=\"dataframe\">\n",
              "  <thead>\n",
              "    <tr style=\"text-align: right;\">\n",
              "      <th></th>\n",
              "      <th>Accuracy</th>\n",
              "    </tr>\n",
              "  </thead>\n",
              "  <tbody>\n",
              "    <tr>\n",
              "      <th>NB IMDB</th>\n",
              "      <td>0.839320</td>\n",
              "    </tr>\n",
              "    <tr>\n",
              "      <th>LR IMDB</th>\n",
              "      <td>0.883200</td>\n",
              "    </tr>\n",
              "    <tr>\n",
              "      <th>NB 20 Newsgroups</th>\n",
              "      <td>0.668614</td>\n",
              "    </tr>\n",
              "    <tr>\n",
              "      <th>LR 20 Newsgroups</th>\n",
              "      <td>0.616835</td>\n",
              "    </tr>\n",
              "  </tbody>\n",
              "</table>\n",
              "</div>"
            ],
            "text/plain": [
              "                  Accuracy\n",
              "NB IMDB           0.839320\n",
              "LR IMDB           0.883200\n",
              "NB 20 Newsgroups  0.668614\n",
              "LR 20 Newsgroups  0.616835"
            ]
          },
          "metadata": {
            "tags": []
          },
          "execution_count": 26
        }
      ]
    },
    {
      "cell_type": "code",
      "metadata": {
        "colab": {
          "base_uri": "https://localhost:8080/",
          "height": 438
        },
        "id": "8L8prqNLur-u",
        "outputId": "96897685-73dc-48e4-86d3-e5a2d697face"
      },
      "source": [
        "disp = plot_confusion_matrix(best_20news_logistic, X_20news_test, Y_20news_test, display_labels=test_newsgroups.target_names, cmap=plt.cm.Blues, include_values=False, xticks_rotation='vertical', normalize='true')\r\n",
        "disp.ax_.set_title(\"Logistic Regression 20 Newsgroups Confusion Matrix\")"
      ],
      "execution_count": 27,
      "outputs": [
        {
          "output_type": "execute_result",
          "data": {
            "text/plain": [
              "Text(0.5, 1.0, 'Logistic Regression 20 Newsgroups Confusion Matrix')"
            ]
          },
          "metadata": {
            "tags": []
          },
          "execution_count": 27
        },
        {
          "output_type": "display_data",
          "data": {
            "image/png": "[encoded data removed]",
            "text/plain": [
              "<Figure size 432x288 with 2 Axes>"
            ]
          },
          "metadata": {
            "tags": [],
            "needs_background": "light"
          }
        }
      ]
    },
    {
      "cell_type": "code",
      "metadata": {
        "colab": {
          "base_uri": "https://localhost:8080/",
          "height": 438
        },
        "id": "5AuMfcAxynpM",
        "outputId": "3f7a9ade-7ef2-4b0f-b366-f7e35ea3456e"
      },
      "source": [
        "disp = plot_confusion_matrix(best_20news_naive_bayes, X_20news_test, Y_20news_test, \r\n",
        "                             display_labels=test_newsgroups.target_names, cmap=plt.cm.Blues, \r\n",
        "                             include_values=False, xticks_rotation='vertical', normalize='true')\r\n",
        "\r\n",
        "disp.ax_.set_title(\"Naive Bayes 20 Newsgroups Confusion Matrix\")"
      ],
      "execution_count": 28,
      "outputs": [
        {
          "output_type": "execute_result",
          "data": {
            "text/plain": [
              "Text(0.5, 1.0, 'Naive Bayes 20 Newsgroups Confusion Matrix')"
            ]
          },
          "metadata": {
            "tags": []
          },
          "execution_count": 28
        },
        {
          "output_type": "display_data",
          "data": {
            "image/png": "[encoded data removed]",
            "text/plain": [
              "<Figure size 432x288 with 2 Axes>"
            ]
          },
          "metadata": {
            "tags": [],
            "needs_background": "light"
          }
        }
      ]
    },
    {
      "cell_type": "markdown",
      "metadata": {
        "id": "RztPX9jB7Zn9"
      },
      "source": [
        "### Experiment 3\r\n",
        "Compare accuracy of the models as a function of size of dataset"
      ]
    },
    {
      "cell_type": "markdown",
      "metadata": {
        "id": "IAp8ZzRBjbzc"
      },
      "source": [
        "*20 NEWS GROUP DATASET*"
      ]
    },
    {
      "cell_type": "code",
      "metadata": {
        "id": "qh-3MhoPbllX",
        "colab": {
          "base_uri": "https://localhost:8080/",
          "height": 869
        },
        "outputId": "a65cf3f8-ffb5-4cd3-b744-76068e26bbd2"
      },
      "source": [
        "# **** 20 NEWS GROUP DATASET ****\r\n",
        "\r\n",
        "# for loop variables\r\n",
        "L = len(train_newsgroups.target)\r\n",
        "sizes = [0.2*L, 0.4*L, 0.6*L, 0.8*L]\r\n",
        "sizes = list(map(int, sizes)) # this also rounds\r\n",
        "# hyperparameters \r\n",
        "laplace = 1 \r\n",
        "log_corr = 1e-2\r\n",
        "c_val = 100 \r\n",
        "# for plotting\r\n",
        "labels = ['20%', '40%', '60%', '80%']\r\n",
        "label_loc = np.arange(len(labels))\r\n",
        "width = 0.2 # arbitrary width\r\n",
        "val_bayes = []\r\n",
        "val_log = []\r\n",
        "\r\n",
        "# iterate different % of train dataset, evaluate accuracy and store to list\r\n",
        "for n in sizes:\r\n",
        "  # get the pair-wise random n samples\r\n",
        "  x_sample, y_sample = zip(*random.sample(list(zip(train_newsgroups.data, train_newsgroups.target)), n))\r\n",
        "  # train and test x & y\r\n",
        "  x_train, x_test = create_features(x_sample, test_newsgroups.data)\r\n",
        "  y_train, y_test = np.array(y_sample), np.array(test_newsgroups.target)\r\n",
        "\r\n",
        "  # models & their accuracy\r\n",
        "  bayes_model = NaiveBayes(laplace_val=laplace, log_correction=log_corr)\r\n",
        "  bayes_model.fit(x_train, y_train)\r\n",
        "  bayes_pred = bayes_model.predict(x_test)\r\n",
        "  bayes_accuracy = evaluate_acc(y_test, bayes_pred)\r\n",
        "\r\n",
        "  log_model = LogisticRegression(C=c_val)\r\n",
        "  log_model.fit(x_train, y_train)\r\n",
        "  log_pred = log_model.predict(x_test)\r\n",
        "  log_accuracy = evaluate_acc(y_test, log_pred)\r\n",
        "\r\n",
        "  # record accuracy value\r\n",
        "  val_bayes.append(bayes_accuracy)\r\n",
        "  val_log.append(log_accuracy)\r\n",
        "\r\n",
        "# plotting a double bar graph\r\n",
        "fig, ax = plt.subplots()\r\n",
        "bar1 = ax.bar(label_loc - width/2, val_bayes, width, label='Bayes')\r\n",
        "bar2 = ax.bar(label_loc + width/2, val_log, width, label='Logistic')\r\n",
        "ax.set_ylabel('Accuracy')\r\n",
        "ax.set_title('Accuracy as a function of dataset size')\r\n",
        "ax.set_xticks(label_loc)\r\n",
        "ax.set_xticklabels(labels)\r\n",
        "ax.legend()\r\n",
        "plt.show()"
      ],
      "execution_count": 29,
      "outputs": [
        {
          "output_type": "stream",
          "text": [
            "/usr/local/lib/python3.7/dist-packages/sklearn/linear_model/_logistic.py:940: ConvergenceWarning: lbfgs failed to converge (status=1):\n",
            "STOP: TOTAL NO. of ITERATIONS REACHED LIMIT.\n",
            "\n",
            "Increase the number of iterations (max_iter) or scale the data as shown in:\n",
            "    https://scikit-learn.org/stable/modules/preprocessing.html\n",
            "Please also refer to the documentation for alternative solver options:\n",
            "    https://scikit-learn.org/stable/modules/linear_model.html#logistic-regression\n",
            "  extra_warning_msg=_LOGISTIC_SOLVER_CONVERGENCE_MSG)\n",
            "/usr/local/lib/python3.7/dist-packages/sklearn/linear_model/_logistic.py:940: ConvergenceWarning: lbfgs failed to converge (status=1):\n",
            "STOP: TOTAL NO. of ITERATIONS REACHED LIMIT.\n",
            "\n",
            "Increase the number of iterations (max_iter) or scale the data as shown in:\n",
            "    https://scikit-learn.org/stable/modules/preprocessing.html\n",
            "Please also refer to the documentation for alternative solver options:\n",
            "    https://scikit-learn.org/stable/modules/linear_model.html#logistic-regression\n",
            "  extra_warning_msg=_LOGISTIC_SOLVER_CONVERGENCE_MSG)\n",
            "/usr/local/lib/python3.7/dist-packages/sklearn/linear_model/_logistic.py:940: ConvergenceWarning: lbfgs failed to converge (status=1):\n",
            "STOP: TOTAL NO. of ITERATIONS REACHED LIMIT.\n",
            "\n",
            "Increase the number of iterations (max_iter) or scale the data as shown in:\n",
            "    https://scikit-learn.org/stable/modules/preprocessing.html\n",
            "Please also refer to the documentation for alternative solver options:\n",
            "    https://scikit-learn.org/stable/modules/linear_model.html#logistic-regression\n",
            "  extra_warning_msg=_LOGISTIC_SOLVER_CONVERGENCE_MSG)\n",
            "/usr/local/lib/python3.7/dist-packages/sklearn/linear_model/_logistic.py:940: ConvergenceWarning: lbfgs failed to converge (status=1):\n",
            "STOP: TOTAL NO. of ITERATIONS REACHED LIMIT.\n",
            "\n",
            "Increase the number of iterations (max_iter) or scale the data as shown in:\n",
            "    https://scikit-learn.org/stable/modules/preprocessing.html\n",
            "Please also refer to the documentation for alternative solver options:\n",
            "    https://scikit-learn.org/stable/modules/linear_model.html#logistic-regression\n",
            "  extra_warning_msg=_LOGISTIC_SOLVER_CONVERGENCE_MSG)\n"
          ],
          "name": "stderr"
        },
        {
          "output_type": "display_data",
          "data": {
            "image/png": "[encoded data removed]",
            "text/plain": [
              "<Figure size 432x288 with 1 Axes>"
            ]
          },
          "metadata": {
            "tags": [],
            "needs_background": "light"
          }
        }
      ]
    },
    {
      "cell_type": "code",
      "metadata": {
        "colab": {
          "base_uri": "https://localhost:8080/",
          "height": 175
        },
        "id": "z5Cfprq0ivsE",
        "outputId": "71409f4c-e976-4fac-bd32-6fcbbfc223e0"
      },
      "source": [
        "d = {'bayes accuracy': val_bayes, 'logistic accuracy': val_log}\r\n",
        "df = pd.DataFrame(data=d, index=['20%', '40%', '60%', '80%'])\r\n",
        "df"
      ],
      "execution_count": 30,
      "outputs": [
        {
          "output_type": "execute_result",
          "data": {
            "text/html": [
              "<div>\n",
              "<style scoped>\n",
              "    .dataframe tbody tr th:only-of-type {\n",
              "        vertical-align: middle;\n",
              "    }\n",
              "\n",
              "    .dataframe tbody tr th {\n",
              "        vertical-align: top;\n",
              "    }\n",
              "\n",
              "    .dataframe thead th {\n",
              "        text-align: right;\n",
              "    }\n",
              "</style>\n",
              "<table border=\"1\" class=\"dataframe\">\n",
              "  <thead>\n",
              "    <tr style=\"text-align: right;\">\n",
              "      <th></th>\n",
              "      <th>bayes accuracy</th>\n",
              "      <th>logistic accuracy</th>\n",
              "    </tr>\n",
              "  </thead>\n",
              "  <tbody>\n",
              "    <tr>\n",
              "      <th>20%</th>\n",
              "      <td>0.530404</td>\n",
              "      <td>0.454594</td>\n",
              "    </tr>\n",
              "    <tr>\n",
              "      <th>40%</th>\n",
              "      <td>0.607807</td>\n",
              "      <td>0.526022</td>\n",
              "    </tr>\n",
              "    <tr>\n",
              "      <th>60%</th>\n",
              "      <td>0.633431</td>\n",
              "      <td>0.569304</td>\n",
              "    </tr>\n",
              "    <tr>\n",
              "      <th>80%</th>\n",
              "      <td>0.659187</td>\n",
              "      <td>0.595725</td>\n",
              "    </tr>\n",
              "  </tbody>\n",
              "</table>\n",
              "</div>"
            ],
            "text/plain": [
              "     bayes accuracy  logistic accuracy\n",
              "20%        0.530404           0.454594\n",
              "40%        0.607807           0.526022\n",
              "60%        0.633431           0.569304\n",
              "80%        0.659187           0.595725"
            ]
          },
          "metadata": {
            "tags": []
          },
          "execution_count": 30
        }
      ]
    },
    {
      "cell_type": "markdown",
      "metadata": {
        "id": "evxeP_bgjhDa"
      },
      "source": [
        "*IMDb REVIEWS DATASET*"
      ]
    },
    {
      "cell_type": "code",
      "metadata": {
        "id": "729CjbOW7cCJ",
        "colab": {
          "base_uri": "https://localhost:8080/",
          "height": 869
        },
        "outputId": "b7630022-6b1b-4f4e-f067-16dbf2cd9293"
      },
      "source": [
        "# **** IMDb REVIEWS DATASET ****\r\n",
        "\r\n",
        "# for loop variables\r\n",
        "L = len(train_t)\r\n",
        "sizes = [0.2*L, 0.4*L, 0.6*L, 0.8*L]\r\n",
        "sizes = list(map(int, sizes))\r\n",
        "# hyperparameters\r\n",
        "laplace_val = 1 \r\n",
        "log_correction = 1e-2\r\n",
        "c_val = 10\r\n",
        "# for plotting\r\n",
        "labels = ['20%', '40%', '60%', '80%']\r\n",
        "label_loc = np.arange(len(labels))\r\n",
        "width = 0.2 # arbitrary width\r\n",
        "val_bayes = []\r\n",
        "val_log = []\r\n",
        "\r\n",
        "# iterate different % of train dataset, evaluate accuracy and store to list\r\n",
        "for n in sizes:\r\n",
        "  # get the pair-wise random n samples\r\n",
        "  x_sample, y_sample = zip(*random.sample(list(zip(train_t, train_l)), n))\r\n",
        "  # train and test x & y\r\n",
        "  x_train, x_test  = create_features(x_sample, test_t)\r\n",
        "  y_train, y_test = np.array(y_sample), np.array(test_l)\r\n",
        "\r\n",
        "  # models & their accuracy\r\n",
        "  bayes_model = NaiveBayes(laplace_val, log_correction)\r\n",
        "  bayes_model.fit(x_train, y_train)\r\n",
        "  bayes_pred = bayes_model.predict(x_test)\r\n",
        "  bayes_accuracy = evaluate_acc(y_test, bayes_pred)\r\n",
        "\r\n",
        "  log_model = LogisticRegression(C=c_val)\r\n",
        "  log_model.fit(x_train, y_train)\r\n",
        "  log_pred = log_model.predict(x_test)\r\n",
        "  log_accuracy = evaluate_acc(y_test, log_pred)\r\n",
        "\r\n",
        "  # record accuracy value \r\n",
        "  val_bayes.append(bayes_accuracy)\r\n",
        "  val_log.append(log_accuracy)\r\n",
        "\r\n",
        "# plotting a double bar graph\r\n",
        "fig, ax = plt.subplots()\r\n",
        "bar1 = ax.bar(label_loc - width/2, val_bayes, width, label='Bayes')\r\n",
        "bar2 = ax.bar(label_loc + width/2, val_log, width, label='Logistic')\r\n",
        "ax.set_ylabel('Accuracy')\r\n",
        "ax.set_title('Accuracy as a function of dataset size')\r\n",
        "ax.set_xticks(label_loc)\r\n",
        "ax.set_xticklabels(labels)\r\n",
        "ax.legend()\r\n",
        "plt.show()"
      ],
      "execution_count": 31,
      "outputs": [
        {
          "output_type": "stream",
          "text": [
            "/usr/local/lib/python3.7/dist-packages/sklearn/linear_model/_logistic.py:940: ConvergenceWarning: lbfgs failed to converge (status=1):\n",
            "STOP: TOTAL NO. of ITERATIONS REACHED LIMIT.\n",
            "\n",
            "Increase the number of iterations (max_iter) or scale the data as shown in:\n",
            "    https://scikit-learn.org/stable/modules/preprocessing.html\n",
            "Please also refer to the documentation for alternative solver options:\n",
            "    https://scikit-learn.org/stable/modules/linear_model.html#logistic-regression\n",
            "  extra_warning_msg=_LOGISTIC_SOLVER_CONVERGENCE_MSG)\n",
            "/usr/local/lib/python3.7/dist-packages/sklearn/linear_model/_logistic.py:940: ConvergenceWarning: lbfgs failed to converge (status=1):\n",
            "STOP: TOTAL NO. of ITERATIONS REACHED LIMIT.\n",
            "\n",
            "Increase the number of iterations (max_iter) or scale the data as shown in:\n",
            "    https://scikit-learn.org/stable/modules/preprocessing.html\n",
            "Please also refer to the documentation for alternative solver options:\n",
            "    https://scikit-learn.org/stable/modules/linear_model.html#logistic-regression\n",
            "  extra_warning_msg=_LOGISTIC_SOLVER_CONVERGENCE_MSG)\n",
            "/usr/local/lib/python3.7/dist-packages/sklearn/linear_model/_logistic.py:940: ConvergenceWarning: lbfgs failed to converge (status=1):\n",
            "STOP: TOTAL NO. of ITERATIONS REACHED LIMIT.\n",
            "\n",
            "Increase the number of iterations (max_iter) or scale the data as shown in:\n",
            "    https://scikit-learn.org/stable/modules/preprocessing.html\n",
            "Please also refer to the documentation for alternative solver options:\n",
            "    https://scikit-learn.org/stable/modules/linear_model.html#logistic-regression\n",
            "  extra_warning_msg=_LOGISTIC_SOLVER_CONVERGENCE_MSG)\n",
            "/usr/local/lib/python3.7/dist-packages/sklearn/linear_model/_logistic.py:940: ConvergenceWarning: lbfgs failed to converge (status=1):\n",
            "STOP: TOTAL NO. of ITERATIONS REACHED LIMIT.\n",
            "\n",
            "Increase the number of iterations (max_iter) or scale the data as shown in:\n",
            "    https://scikit-learn.org/stable/modules/preprocessing.html\n",
            "Please also refer to the documentation for alternative solver options:\n",
            "    https://scikit-learn.org/stable/modules/linear_model.html#logistic-regression\n",
            "  extra_warning_msg=_LOGISTIC_SOLVER_CONVERGENCE_MSG)\n"
          ],
          "name": "stderr"
        },
        {
          "output_type": "display_data",
          "data": {
            "image/png": "[encoded data removed]",
            "text/plain": [
              "<Figure size 432x288 with 1 Axes>"
            ]
          },
          "metadata": {
            "tags": [],
            "needs_background": "light"
          }
        }
      ]
    },
    {
      "cell_type": "code",
      "metadata": {
        "colab": {
          "base_uri": "https://localhost:8080/",
          "height": 175
        },
        "id": "vsdkemlAiXBo",
        "outputId": "3b64e19d-0b03-4e66-81e0-1993f2ef81dd"
      },
      "source": [
        "d = {'bayes accuracy': val_bayes, 'logistic accuracy': val_log}\r\n",
        "df = pd.DataFrame(data=d, index=['20%', '40%', '60%', '80%'])\r\n",
        "df"
      ],
      "execution_count": 32,
      "outputs": [
        {
          "output_type": "execute_result",
          "data": {
            "text/html": [
              "<div>\n",
              "<style scoped>\n",
              "    .dataframe tbody tr th:only-of-type {\n",
              "        vertical-align: middle;\n",
              "    }\n",
              "\n",
              "    .dataframe tbody tr th {\n",
              "        vertical-align: top;\n",
              "    }\n",
              "\n",
              "    .dataframe thead th {\n",
              "        text-align: right;\n",
              "    }\n",
              "</style>\n",
              "<table border=\"1\" class=\"dataframe\">\n",
              "  <thead>\n",
              "    <tr style=\"text-align: right;\">\n",
              "      <th></th>\n",
              "      <th>bayes accuracy</th>\n",
              "      <th>logistic accuracy</th>\n",
              "    </tr>\n",
              "  </thead>\n",
              "  <tbody>\n",
              "    <tr>\n",
              "      <th>20%</th>\n",
              "      <td>0.83300</td>\n",
              "      <td>0.85152</td>\n",
              "    </tr>\n",
              "    <tr>\n",
              "      <th>40%</th>\n",
              "      <td>0.83776</td>\n",
              "      <td>0.86876</td>\n",
              "    </tr>\n",
              "    <tr>\n",
              "      <th>60%</th>\n",
              "      <td>0.83848</td>\n",
              "      <td>0.87692</td>\n",
              "    </tr>\n",
              "    <tr>\n",
              "      <th>80%</th>\n",
              "      <td>0.83992</td>\n",
              "      <td>0.88012</td>\n",
              "    </tr>\n",
              "  </tbody>\n",
              "</table>\n",
              "</div>"
            ],
            "text/plain": [
              "     bayes accuracy  logistic accuracy\n",
              "20%         0.83300            0.85152\n",
              "40%         0.83776            0.86876\n",
              "60%         0.83848            0.87692\n",
              "80%         0.83992            0.88012"
            ]
          },
          "metadata": {
            "tags": []
          },
          "execution_count": 32
        }
      ]
    },
    {
      "cell_type": "markdown",
      "metadata": {
        "id": "NsP0P4c9oTqw"
      },
      "source": [
        "### Experiment 4"
      ]
    },
    {
      "cell_type": "code",
      "metadata": {
        "id": "FsHhCZbIgDjh"
      },
      "source": [
        "X_imdb_train, X_imdb_test = create_features(train_t, test_t, n_gram_upper_limit=2)\r\n",
        "Y_imdb_train, Y_imdb_test = np.array(train_l), np.array(test_l)"
      ],
      "execution_count": 33,
      "outputs": []
    },
    {
      "cell_type": "code",
      "metadata": {
        "colab": {
          "base_uri": "https://localhost:8080/"
        },
        "id": "v60CZadkgSy0",
        "outputId": "f319dcac-f1cb-43ad-946c-788e3014bda8"
      },
      "source": [
        "X_imdb_train.shape"
      ],
      "execution_count": 34,
      "outputs": [
        {
          "output_type": "execute_result",
          "data": {
            "text/plain": [
              "(25000, 80874)"
            ]
          },
          "metadata": {
            "tags": []
          },
          "execution_count": 34
        }
      ]
    },
    {
      "cell_type": "code",
      "metadata": {
        "colab": {
          "base_uri": "https://localhost:8080/"
        },
        "id": "o5fWkro_et9D",
        "outputId": "bbff300c-8e57-4ad1-d360-a59627a6a520"
      },
      "source": [
        "model = NaiveBayes(laplace_val=1, log_correction=1e-2)\r\n",
        "model.fit(X_imdb_train, Y_imdb_train)\r\n",
        "pred = model.predict(X_imdb_test)\r\n",
        "print(\"Naive Bayes IMDB with n-grams of size <= 2:\", evaluate_acc(pred, Y_imdb_test))"
      ],
      "execution_count": 35,
      "outputs": [
        {
          "output_type": "stream",
          "text": [
            "Naive Bayes IMDB with n-grams of size <= 2: 0.87288\n"
          ],
          "name": "stdout"
        }
      ]
    },
    {
      "cell_type": "code",
      "metadata": {
        "colab": {
          "base_uri": "https://localhost:8080/"
        },
        "id": "lMnOBNXhfOd7",
        "outputId": "ad98d71a-a2ff-405a-b391-7a7b45733b97"
      },
      "source": [
        "model = LogisticRegression(C=10)\r\n",
        "model.fit(X_imdb_train, Y_imdb_train)\r\n",
        "pred = model.predict(X_imdb_test)\r\n",
        "print(\"Logistic Regression IMDB with n-grams of size <= 2:\", evaluate_acc(pred, Y_imdb_test))"
      ],
      "execution_count": 36,
      "outputs": [
        {
          "output_type": "stream",
          "text": [
            "Logistic Regression IMDB with n-grams of size <= 2: 0.89648\n"
          ],
          "name": "stdout"
        },
        {
          "output_type": "stream",
          "text": [
            "/usr/local/lib/python3.7/dist-packages/sklearn/linear_model/_logistic.py:940: ConvergenceWarning: lbfgs failed to converge (status=1):\n",
            "STOP: TOTAL NO. of ITERATIONS REACHED LIMIT.\n",
            "\n",
            "Increase the number of iterations (max_iter) or scale the data as shown in:\n",
            "    https://scikit-learn.org/stable/modules/preprocessing.html\n",
            "Please also refer to the documentation for alternative solver options:\n",
            "    https://scikit-learn.org/stable/modules/linear_model.html#logistic-regression\n",
            "  extra_warning_msg=_LOGISTIC_SOLVER_CONVERGENCE_MSG)\n"
          ],
          "name": "stderr"
        }
      ]
    },
    {
      "cell_type": "code",
      "metadata": {
        "id": "FwEuXNafhswj"
      },
      "source": [
        "X_20news_train, X_20news_test = create_features(train_newsgroups.data, test_newsgroups.data, n_gram_upper_limit=2)\r\n",
        "Y_20news_train, Y_20news_test = np.array(train_newsgroups.target), np.array(test_newsgroups.target)"
      ],
      "execution_count": 37,
      "outputs": []
    },
    {
      "cell_type": "code",
      "metadata": {
        "colab": {
          "base_uri": "https://localhost:8080/"
        },
        "id": "Wve8YhwWh5KX",
        "outputId": "093c1a7d-63d0-47ed-f0b6-5467f3c598a7"
      },
      "source": [
        "model = NaiveBayes(laplace_val=1, log_correction=1e-2)\r\n",
        "model.fit(X_20news_train, Y_20news_train)\r\n",
        "pred = model.predict(X_20news_test)\r\n",
        "print(\"Naive Bayes 20 News groups with n-grams of size <= 2:\", evaluate_acc(pred, Y_20news_test))"
      ],
      "execution_count": 38,
      "outputs": [
        {
          "output_type": "stream",
          "text": [
            "Naive Bayes 20 News groups with n-grams of size <= 2: 0.6463090812533192\n"
          ],
          "name": "stdout"
        }
      ]
    },
    {
      "cell_type": "code",
      "metadata": {
        "colab": {
          "base_uri": "https://localhost:8080/"
        },
        "id": "VAFjAUI3ibS4",
        "outputId": "40502515-ccdd-4420-f6ae-765e9c7e04e0"
      },
      "source": [
        "model = LogisticRegression(C=100)\r\n",
        "model.fit(X_20news_train, Y_20news_train)\r\n",
        "pred = model.predict(X_20news_test)\r\n",
        "print(\"Logistic Regression 20 News groups with n-grams of size <= 2:\", evaluate_acc(pred, Y_20news_test))"
      ],
      "execution_count": 39,
      "outputs": [
        {
          "output_type": "stream",
          "text": [
            "Logistic Regression 20 News groups with n-grams of size <= 2: 0.6082049920339884\n"
          ],
          "name": "stdout"
        },
        {
          "output_type": "stream",
          "text": [
            "/usr/local/lib/python3.7/dist-packages/sklearn/linear_model/_logistic.py:940: ConvergenceWarning: lbfgs failed to converge (status=1):\n",
            "STOP: TOTAL NO. of ITERATIONS REACHED LIMIT.\n",
            "\n",
            "Increase the number of iterations (max_iter) or scale the data as shown in:\n",
            "    https://scikit-learn.org/stable/modules/preprocessing.html\n",
            "Please also refer to the documentation for alternative solver options:\n",
            "    https://scikit-learn.org/stable/modules/linear_model.html#logistic-regression\n",
            "  extra_warning_msg=_LOGISTIC_SOLVER_CONVERGENCE_MSG)\n"
          ],
          "name": "stderr"
        }
      ]
    },
    {
      "cell_type": "markdown",
      "metadata": {
        "id": "gSaeFs2H0is_"
      },
      "source": [
        "### Old Stuff\r\n",
        "Modified Implementation of Gaussian Naive Bayes that works on large sparse matrices. Switched to Multinomial Likelihood for (normalized) count data\r\n"
      ]
    },
    {
      "cell_type": "code",
      "metadata": {
        "id": "yPnaueVSWqKD"
      },
      "source": [
        "class GaussianNaiveBayes:\r\n",
        "    \r\n",
        "    def __init__(self):\r\n",
        "        return\r\n",
        "    \r\n",
        "    def fit(self, x, y):\r\n",
        "        N, D = x.shape\r\n",
        "        C = np.max(y) + 1\r\n",
        "        self.C = C\r\n",
        "        # one parameter for each feature conditioned on each class\r\n",
        "        mu, sigma = np.zeros((C,D)), np.zeros((C,D))\r\n",
        "        Nc = np.zeros(C) # number of instances in class c\r\n",
        "        # for each class get the MLE for the mean and std\r\n",
        "        for c in range(C):\r\n",
        "            x_c = x[y == c]                           #slice all the elements from class c\r\n",
        "            Nc[c] = x_c.shape[0]                      #get number of elements of class c\r\n",
        "            mu[c,:] = np.mean(x_c,0)                  #mean of features of class c\r\n",
        "            sigma[c,:] = np.sqrt(np.mean(x_c.power(2), 0) - np.square(np.mean(x_c, 0)))       #std of features of class c\r\n",
        "            # print((mu[c] == 0).sum())\r\n",
        "            # print((sigma[c, :] == 0).sum())\r\n",
        "            # print(x_c)\r\n",
        "            # break\r\n",
        "            \r\n",
        "        self.mu = mu                                  # C x D\r\n",
        "        self.sigma = sigma                            # C x D\r\n",
        "        self.pi = (Nc+1)/(N+C)                        #Laplace smoothing (using alpha_c=1 for all c) you can derive using Dirichlet's distribution\r\n",
        "        return self"
      ],
      "execution_count": 40,
      "outputs": []
    },
    {
      "cell_type": "code",
      "metadata": {
        "id": "1a3CjRTQW5Ad"
      },
      "source": [
        "def logsumexp(Z):                                                # dimension C x N\r\n",
        "    Zmax = np.max(Z,axis=0)[None,:]                              # max over C\r\n",
        "    log_sum_exp = Zmax + np.log(np.sum(np.exp(Z - Zmax), axis=0))\r\n",
        "    return log_sum_exp\r\n",
        "\r\n",
        "def predict(self, xt):\r\n",
        "    Nt, D = xt.shape\r\n",
        "    # for numerical stability we work in the log domain\r\n",
        "    # we add a dimension because this is added to the log-likelihood matrix \r\n",
        "    # that assigns a likelihood for each class (C) to each test point, and so it is C x N\r\n",
        "    log_prior = np.log(self.pi)[:, None]\r\n",
        "    # logarithm of the likelihood term\r\n",
        "    # the first two terms are the logarithm of the normalization term in the Gaussian and the final term is the exponent in the Gaussian. \r\n",
        "    # Notice that we are adding dimensions (using None) to model parameters and data to make this evaluation. \r\n",
        "    # The reason is that sigma and mu are C x D, while the data x is N x D. We operate on a C x N x D shape by increasing the number of dimensions when needed\r\n",
        "    log_likelihood = np.zeros(shape=(self.C, Nt))\r\n",
        "    for i in range(Nt):\r\n",
        "        # print(np.log(2*np.pi))\r\n",
        "        # print(np.log(self.sigma[:,:]))\r\n",
        "        # print((self.sigma==0).sum())\r\n",
        "        # print(np.log(self.sigma[:,:]).shape)\r\n",
        "        # print(xt[i,:].toarray().shape)\r\n",
        "        # print(self.mu[:,:].shape)\r\n",
        "        # print(self.sigma[:,:].shape)\r\n",
        "        # break\r\n",
        "        # print(np.sum(-.5 * np.log(2*np.pi) - np.log(self.sigma[:,:]) -.5 * (((xt[i,:].toarray() - self.mu[:,:])/self.sigma[:,:])**2), 1))\r\n",
        "        log_likelihood[:, i] = np.sum(-.5 * np.log(2*np.pi) - np.log(self.sigma[:,:]) -.5 * (((xt[i,:].toarray() - self.mu[:,:])/self.sigma[:,:])**2), 1)\r\n",
        "        # print(log_likelihood[:, i])\r\n",
        "        # break\r\n",
        "    # log_likelihood = -.5 * np.log(2*np.pi) - np.log(self.sigma[:,None,:]) -.5 * (((xt[None,:,:] - self.mu[:,None,:])/self.sigma[:,None,:])**2)\r\n",
        "    # now we sum over the feature dimension to get a C x N matrix (this has the log-likelihood for each class-test point combination)\r\n",
        "    # log_likelihood = np.sum(log_likelihood, axis=2)\r\n",
        "    # posterior calculation\r\n",
        "    # print(log_likelihood)\r\n",
        "    log_posterior = log_prior + log_likelihood\r\n",
        "    posterior = np.exp(log_posterior - logsumexp(log_posterior))\r\n",
        "    return posterior.T                                                  # dimension N x C\r\n",
        "\r\n",
        "GaussianNaiveBayes.predict = predict"
      ],
      "execution_count": 41,
      "outputs": []
    }
  ]
}